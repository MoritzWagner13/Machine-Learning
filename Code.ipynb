{
 "cells": [
  {
   "cell_type": "markdown",
   "metadata": {},
   "source": [
    "# Team assignment - Boston"
   ]
  },
  {
   "cell_type": "markdown",
   "metadata": {},
   "source": [
    "## 1 Data collection and preparation"
   ]
  },
  {
   "cell_type": "code",
   "execution_count": 7,
   "metadata": {},
   "outputs": [],
   "source": [
    "import numpy as np\n",
    "import pandas as pd\n",
    "import matplotlib as mpl\n",
    "import matplotlib.pyplot as plt\n",
    "import seaborn as sns"
   ]
  },
  {
   "cell_type": "markdown",
   "metadata": {},
   "source": [
    "### Bike rentals"
   ]
  },
  {
   "cell_type": "markdown",
   "metadata": {},
   "source": [
    "Read data on bike rentals:"
   ]
  },
  {
   "cell_type": "code",
   "execution_count": 8,
   "metadata": {},
   "outputs": [],
   "source": [
    "bike = pd.read_csv(\"boston_2016.csv\")"
   ]
  },
  {
   "cell_type": "code",
   "execution_count": 9,
   "metadata": {
    "tags": []
   },
   "outputs": [],
   "source": [
    "#for later use\n",
    "#bike15 = pd.read_csv(\"boston_2015.csv\")\n",
    "#bike17 = pd.read_csv(\"boston_2017.csv\")\n",
    "#bike18 = pd.read_csv(\"boston_2018.csv\")\n",
    "#bike19 = pd.read_csv(\"boston_2019.csv\")"
   ]
  },
  {
   "cell_type": "code",
   "execution_count": 10,
   "metadata": {
    "tags": []
   },
   "outputs": [
    {
     "data": {
      "text/plain": [
       "Index(['start_time', 'end_time', 'start_station_id', 'end_station_id',\n",
       "       'start_station_name', 'end_station_name', 'bike_id', 'user_type'],\n",
       "      dtype='object')"
      ]
     },
     "execution_count": 10,
     "metadata": {},
     "output_type": "execute_result"
    }
   ],
   "source": [
    "bike.columns"
   ]
  },
  {
   "cell_type": "code",
   "execution_count": 11,
   "metadata": {},
   "outputs": [
    {
     "data": {
      "text/html": [
       "<div>\n",
       "<style scoped>\n",
       "    .dataframe tbody tr th:only-of-type {\n",
       "        vertical-align: middle;\n",
       "    }\n",
       "\n",
       "    .dataframe tbody tr th {\n",
       "        vertical-align: top;\n",
       "    }\n",
       "\n",
       "    .dataframe thead th {\n",
       "        text-align: right;\n",
       "    }\n",
       "</style>\n",
       "<table border=\"1\" class=\"dataframe\">\n",
       "  <thead>\n",
       "    <tr style=\"text-align: right;\">\n",
       "      <th></th>\n",
       "      <th>start_time</th>\n",
       "      <th>end_time</th>\n",
       "      <th>start_station_id</th>\n",
       "      <th>end_station_id</th>\n",
       "      <th>start_station_name</th>\n",
       "      <th>end_station_name</th>\n",
       "      <th>bike_id</th>\n",
       "      <th>user_type</th>\n",
       "    </tr>\n",
       "  </thead>\n",
       "  <tbody>\n",
       "    <tr>\n",
       "      <th>0</th>\n",
       "      <td>2016-01-01 00:08:07</td>\n",
       "      <td>2016-01-01 00:40:26</td>\n",
       "      <td>36</td>\n",
       "      <td>19</td>\n",
       "      <td>Boston Public Library - 700 Boylston St.</td>\n",
       "      <td>Buswell St. at Park Dr.</td>\n",
       "      <td>1406</td>\n",
       "      <td>Subscriber</td>\n",
       "    </tr>\n",
       "    <tr>\n",
       "      <th>1</th>\n",
       "      <td>2016-01-01 00:08:19</td>\n",
       "      <td>2016-01-01 00:40:27</td>\n",
       "      <td>36</td>\n",
       "      <td>19</td>\n",
       "      <td>Boston Public Library - 700 Boylston St.</td>\n",
       "      <td>Buswell St. at Park Dr.</td>\n",
       "      <td>1121</td>\n",
       "      <td>Subscriber</td>\n",
       "    </tr>\n",
       "    <tr>\n",
       "      <th>2</th>\n",
       "      <td>2016-01-01 00:10:15</td>\n",
       "      <td>2016-01-01 00:40:29</td>\n",
       "      <td>36</td>\n",
       "      <td>19</td>\n",
       "      <td>Boston Public Library - 700 Boylston St.</td>\n",
       "      <td>Buswell St. at Park Dr.</td>\n",
       "      <td>474</td>\n",
       "      <td>Subscriber</td>\n",
       "    </tr>\n",
       "    <tr>\n",
       "      <th>3</th>\n",
       "      <td>2016-01-01 00:10:22</td>\n",
       "      <td>2016-01-01 00:40:11</td>\n",
       "      <td>36</td>\n",
       "      <td>19</td>\n",
       "      <td>Boston Public Library - 700 Boylston St.</td>\n",
       "      <td>Buswell St. at Park Dr.</td>\n",
       "      <td>1504</td>\n",
       "      <td>Subscriber</td>\n",
       "    </tr>\n",
       "    <tr>\n",
       "      <th>4</th>\n",
       "      <td>2016-01-01 00:15:36</td>\n",
       "      <td>2016-01-01 00:31:17</td>\n",
       "      <td>36</td>\n",
       "      <td>67</td>\n",
       "      <td>Boston Public Library - 700 Boylston St.</td>\n",
       "      <td>MIT at Mass Ave / Amherst St</td>\n",
       "      <td>913</td>\n",
       "      <td>Customer</td>\n",
       "    </tr>\n",
       "  </tbody>\n",
       "</table>\n",
       "</div>"
      ],
      "text/plain": [
       "            start_time             end_time  start_station_id  end_station_id  \\\n",
       "0  2016-01-01 00:08:07  2016-01-01 00:40:26                36              19   \n",
       "1  2016-01-01 00:08:19  2016-01-01 00:40:27                36              19   \n",
       "2  2016-01-01 00:10:15  2016-01-01 00:40:29                36              19   \n",
       "3  2016-01-01 00:10:22  2016-01-01 00:40:11                36              19   \n",
       "4  2016-01-01 00:15:36  2016-01-01 00:31:17                36              67   \n",
       "\n",
       "                         start_station_name              end_station_name  \\\n",
       "0  Boston Public Library - 700 Boylston St.       Buswell St. at Park Dr.   \n",
       "1  Boston Public Library - 700 Boylston St.       Buswell St. at Park Dr.   \n",
       "2  Boston Public Library - 700 Boylston St.       Buswell St. at Park Dr.   \n",
       "3  Boston Public Library - 700 Boylston St.       Buswell St. at Park Dr.   \n",
       "4  Boston Public Library - 700 Boylston St.  MIT at Mass Ave / Amherst St   \n",
       "\n",
       "   bike_id   user_type  \n",
       "0     1406  Subscriber  \n",
       "1     1121  Subscriber  \n",
       "2      474  Subscriber  \n",
       "3     1504  Subscriber  \n",
       "4      913    Customer  "
      ]
     },
     "execution_count": 11,
     "metadata": {},
     "output_type": "execute_result"
    }
   ],
   "source": [
    "bike.head(5)"
   ]
  },
  {
   "cell_type": "code",
   "execution_count": 12,
   "metadata": {},
   "outputs": [
    {
     "name": "stdout",
     "output_type": "stream",
     "text": [
      "<class 'pandas.core.frame.DataFrame'>\n",
      "RangeIndex: 1236203 entries, 0 to 1236202\n",
      "Data columns (total 8 columns):\n",
      " #   Column              Non-Null Count    Dtype \n",
      "---  ------              --------------    ----- \n",
      " 0   start_time          1236203 non-null  object\n",
      " 1   end_time            1236203 non-null  object\n",
      " 2   start_station_id    1236203 non-null  int64 \n",
      " 3   end_station_id      1236203 non-null  int64 \n",
      " 4   start_station_name  1236203 non-null  object\n",
      " 5   end_station_name    1236203 non-null  object\n",
      " 6   bike_id             1236203 non-null  int64 \n",
      " 7   user_type           1236203 non-null  object\n",
      "dtypes: int64(3), object(5)\n",
      "memory usage: 75.5+ MB\n"
     ]
    }
   ],
   "source": [
    "bike.info()"
   ]
  },
  {
   "cell_type": "markdown",
   "metadata": {},
   "source": [
    "Number of entries (1236203) = Non-Null count for all colums, meaning we are not missing any values."
   ]
  },
  {
   "cell_type": "markdown",
   "metadata": {},
   "source": [
    "**Cleaning the datset:**"
   ]
  },
  {
   "cell_type": "code",
   "execution_count": 13,
   "metadata": {},
   "outputs": [
    {
     "data": {
      "text/html": [
       "<div>\n",
       "<style scoped>\n",
       "    .dataframe tbody tr th:only-of-type {\n",
       "        vertical-align: middle;\n",
       "    }\n",
       "\n",
       "    .dataframe tbody tr th {\n",
       "        vertical-align: top;\n",
       "    }\n",
       "\n",
       "    .dataframe thead th {\n",
       "        text-align: right;\n",
       "    }\n",
       "</style>\n",
       "<table border=\"1\" class=\"dataframe\">\n",
       "  <thead>\n",
       "    <tr style=\"text-align: right;\">\n",
       "      <th></th>\n",
       "      <th>start_time</th>\n",
       "      <th>end_time</th>\n",
       "      <th>start_station_id</th>\n",
       "      <th>end_station_id</th>\n",
       "      <th>start_station_name</th>\n",
       "      <th>end_station_name</th>\n",
       "      <th>bike_id</th>\n",
       "      <th>user_type</th>\n",
       "    </tr>\n",
       "  </thead>\n",
       "  <tbody>\n",
       "    <tr>\n",
       "      <th>0</th>\n",
       "      <td>False</td>\n",
       "      <td>False</td>\n",
       "      <td>False</td>\n",
       "      <td>False</td>\n",
       "      <td>False</td>\n",
       "      <td>False</td>\n",
       "      <td>False</td>\n",
       "      <td>False</td>\n",
       "    </tr>\n",
       "    <tr>\n",
       "      <th>1</th>\n",
       "      <td>False</td>\n",
       "      <td>False</td>\n",
       "      <td>False</td>\n",
       "      <td>False</td>\n",
       "      <td>False</td>\n",
       "      <td>False</td>\n",
       "      <td>False</td>\n",
       "      <td>False</td>\n",
       "    </tr>\n",
       "    <tr>\n",
       "      <th>2</th>\n",
       "      <td>False</td>\n",
       "      <td>False</td>\n",
       "      <td>False</td>\n",
       "      <td>False</td>\n",
       "      <td>False</td>\n",
       "      <td>False</td>\n",
       "      <td>False</td>\n",
       "      <td>False</td>\n",
       "    </tr>\n",
       "    <tr>\n",
       "      <th>3</th>\n",
       "      <td>False</td>\n",
       "      <td>False</td>\n",
       "      <td>False</td>\n",
       "      <td>False</td>\n",
       "      <td>False</td>\n",
       "      <td>False</td>\n",
       "      <td>False</td>\n",
       "      <td>False</td>\n",
       "    </tr>\n",
       "    <tr>\n",
       "      <th>4</th>\n",
       "      <td>False</td>\n",
       "      <td>False</td>\n",
       "      <td>False</td>\n",
       "      <td>False</td>\n",
       "      <td>False</td>\n",
       "      <td>False</td>\n",
       "      <td>False</td>\n",
       "      <td>False</td>\n",
       "    </tr>\n",
       "    <tr>\n",
       "      <th>...</th>\n",
       "      <td>...</td>\n",
       "      <td>...</td>\n",
       "      <td>...</td>\n",
       "      <td>...</td>\n",
       "      <td>...</td>\n",
       "      <td>...</td>\n",
       "      <td>...</td>\n",
       "      <td>...</td>\n",
       "    </tr>\n",
       "    <tr>\n",
       "      <th>1236198</th>\n",
       "      <td>False</td>\n",
       "      <td>False</td>\n",
       "      <td>False</td>\n",
       "      <td>False</td>\n",
       "      <td>False</td>\n",
       "      <td>False</td>\n",
       "      <td>False</td>\n",
       "      <td>False</td>\n",
       "    </tr>\n",
       "    <tr>\n",
       "      <th>1236199</th>\n",
       "      <td>False</td>\n",
       "      <td>False</td>\n",
       "      <td>False</td>\n",
       "      <td>False</td>\n",
       "      <td>False</td>\n",
       "      <td>False</td>\n",
       "      <td>False</td>\n",
       "      <td>False</td>\n",
       "    </tr>\n",
       "    <tr>\n",
       "      <th>1236200</th>\n",
       "      <td>False</td>\n",
       "      <td>False</td>\n",
       "      <td>False</td>\n",
       "      <td>False</td>\n",
       "      <td>False</td>\n",
       "      <td>False</td>\n",
       "      <td>False</td>\n",
       "      <td>False</td>\n",
       "    </tr>\n",
       "    <tr>\n",
       "      <th>1236201</th>\n",
       "      <td>False</td>\n",
       "      <td>False</td>\n",
       "      <td>False</td>\n",
       "      <td>False</td>\n",
       "      <td>False</td>\n",
       "      <td>False</td>\n",
       "      <td>False</td>\n",
       "      <td>False</td>\n",
       "    </tr>\n",
       "    <tr>\n",
       "      <th>1236202</th>\n",
       "      <td>False</td>\n",
       "      <td>False</td>\n",
       "      <td>False</td>\n",
       "      <td>False</td>\n",
       "      <td>False</td>\n",
       "      <td>False</td>\n",
       "      <td>False</td>\n",
       "      <td>False</td>\n",
       "    </tr>\n",
       "  </tbody>\n",
       "</table>\n",
       "<p>1236203 rows × 8 columns</p>\n",
       "</div>"
      ],
      "text/plain": [
       "         start_time  end_time  start_station_id  end_station_id  \\\n",
       "0             False     False             False           False   \n",
       "1             False     False             False           False   \n",
       "2             False     False             False           False   \n",
       "3             False     False             False           False   \n",
       "4             False     False             False           False   \n",
       "...             ...       ...               ...             ...   \n",
       "1236198       False     False             False           False   \n",
       "1236199       False     False             False           False   \n",
       "1236200       False     False             False           False   \n",
       "1236201       False     False             False           False   \n",
       "1236202       False     False             False           False   \n",
       "\n",
       "         start_station_name  end_station_name  bike_id  user_type  \n",
       "0                     False             False    False      False  \n",
       "1                     False             False    False      False  \n",
       "2                     False             False    False      False  \n",
       "3                     False             False    False      False  \n",
       "4                     False             False    False      False  \n",
       "...                     ...               ...      ...        ...  \n",
       "1236198               False             False    False      False  \n",
       "1236199               False             False    False      False  \n",
       "1236200               False             False    False      False  \n",
       "1236201               False             False    False      False  \n",
       "1236202               False             False    False      False  \n",
       "\n",
       "[1236203 rows x 8 columns]"
      ]
     },
     "execution_count": 13,
     "metadata": {},
     "output_type": "execute_result"
    }
   ],
   "source": [
    "bike.isnull()"
   ]
  },
  {
   "cell_type": "code",
   "execution_count": 14,
   "metadata": {},
   "outputs": [
    {
     "name": "stdout",
     "output_type": "stream",
     "text": [
      "<class 'pandas.core.frame.DataFrame'>\n",
      "RangeIndex: 1236203 entries, 0 to 1236202\n",
      "Data columns (total 8 columns):\n",
      " #   Column              Non-Null Count    Dtype         \n",
      "---  ------              --------------    -----         \n",
      " 0   start_time          1236203 non-null  datetime64[ns]\n",
      " 1   end_time            1236203 non-null  datetime64[ns]\n",
      " 2   start_station_id    1236203 non-null  int64         \n",
      " 3   end_station_id      1236203 non-null  int64         \n",
      " 4   start_station_name  1236203 non-null  object        \n",
      " 5   end_station_name    1236203 non-null  object        \n",
      " 6   bike_id             1236203 non-null  int64         \n",
      " 7   user_type           1236203 non-null  object        \n",
      "dtypes: datetime64[ns](2), int64(3), object(3)\n",
      "memory usage: 75.5+ MB\n"
     ]
    }
   ],
   "source": [
    "#transforming Dtype of start_time/end_time from object to datetime\n",
    "bike['start_time'] = pd.to_datetime(bike['start_time'])\n",
    "bike['end_time'] = pd.to_datetime(bike['end_time'])\n",
    "bike.info()"
   ]
  },
  {
   "cell_type": "code",
   "execution_count": 15,
   "metadata": {},
   "outputs": [
    {
     "data": {
      "text/html": [
       "<div>\n",
       "<style scoped>\n",
       "    .dataframe tbody tr th:only-of-type {\n",
       "        vertical-align: middle;\n",
       "    }\n",
       "\n",
       "    .dataframe tbody tr th {\n",
       "        vertical-align: top;\n",
       "    }\n",
       "\n",
       "    .dataframe thead th {\n",
       "        text-align: right;\n",
       "    }\n",
       "</style>\n",
       "<table border=\"1\" class=\"dataframe\">\n",
       "  <thead>\n",
       "    <tr style=\"text-align: right;\">\n",
       "      <th></th>\n",
       "      <th>start_time</th>\n",
       "      <th>end_time</th>\n",
       "      <th>start_station_id</th>\n",
       "      <th>end_station_id</th>\n",
       "      <th>start_station_name</th>\n",
       "      <th>end_station_name</th>\n",
       "      <th>bike_id</th>\n",
       "      <th>user_type</th>\n",
       "      <th>trip_duration</th>\n",
       "    </tr>\n",
       "  </thead>\n",
       "  <tbody>\n",
       "    <tr>\n",
       "      <th>0</th>\n",
       "      <td>2016-01-01 00:08:07</td>\n",
       "      <td>2016-01-01 00:40:26</td>\n",
       "      <td>36</td>\n",
       "      <td>19</td>\n",
       "      <td>Boston Public Library - 700 Boylston St.</td>\n",
       "      <td>Buswell St. at Park Dr.</td>\n",
       "      <td>1406</td>\n",
       "      <td>Subscriber</td>\n",
       "      <td>00:32:19</td>\n",
       "    </tr>\n",
       "    <tr>\n",
       "      <th>1</th>\n",
       "      <td>2016-01-01 00:08:19</td>\n",
       "      <td>2016-01-01 00:40:27</td>\n",
       "      <td>36</td>\n",
       "      <td>19</td>\n",
       "      <td>Boston Public Library - 700 Boylston St.</td>\n",
       "      <td>Buswell St. at Park Dr.</td>\n",
       "      <td>1121</td>\n",
       "      <td>Subscriber</td>\n",
       "      <td>00:32:08</td>\n",
       "    </tr>\n",
       "    <tr>\n",
       "      <th>2</th>\n",
       "      <td>2016-01-01 00:10:15</td>\n",
       "      <td>2016-01-01 00:40:29</td>\n",
       "      <td>36</td>\n",
       "      <td>19</td>\n",
       "      <td>Boston Public Library - 700 Boylston St.</td>\n",
       "      <td>Buswell St. at Park Dr.</td>\n",
       "      <td>474</td>\n",
       "      <td>Subscriber</td>\n",
       "      <td>00:30:14</td>\n",
       "    </tr>\n",
       "    <tr>\n",
       "      <th>3</th>\n",
       "      <td>2016-01-01 00:10:22</td>\n",
       "      <td>2016-01-01 00:40:11</td>\n",
       "      <td>36</td>\n",
       "      <td>19</td>\n",
       "      <td>Boston Public Library - 700 Boylston St.</td>\n",
       "      <td>Buswell St. at Park Dr.</td>\n",
       "      <td>1504</td>\n",
       "      <td>Subscriber</td>\n",
       "      <td>00:29:49</td>\n",
       "    </tr>\n",
       "    <tr>\n",
       "      <th>4</th>\n",
       "      <td>2016-01-01 00:15:36</td>\n",
       "      <td>2016-01-01 00:31:17</td>\n",
       "      <td>36</td>\n",
       "      <td>67</td>\n",
       "      <td>Boston Public Library - 700 Boylston St.</td>\n",
       "      <td>MIT at Mass Ave / Amherst St</td>\n",
       "      <td>913</td>\n",
       "      <td>Customer</td>\n",
       "      <td>00:15:41</td>\n",
       "    </tr>\n",
       "  </tbody>\n",
       "</table>\n",
       "</div>"
      ],
      "text/plain": [
       "           start_time            end_time  start_station_id  end_station_id  \\\n",
       "0 2016-01-01 00:08:07 2016-01-01 00:40:26                36              19   \n",
       "1 2016-01-01 00:08:19 2016-01-01 00:40:27                36              19   \n",
       "2 2016-01-01 00:10:15 2016-01-01 00:40:29                36              19   \n",
       "3 2016-01-01 00:10:22 2016-01-01 00:40:11                36              19   \n",
       "4 2016-01-01 00:15:36 2016-01-01 00:31:17                36              67   \n",
       "\n",
       "                         start_station_name              end_station_name  \\\n",
       "0  Boston Public Library - 700 Boylston St.       Buswell St. at Park Dr.   \n",
       "1  Boston Public Library - 700 Boylston St.       Buswell St. at Park Dr.   \n",
       "2  Boston Public Library - 700 Boylston St.       Buswell St. at Park Dr.   \n",
       "3  Boston Public Library - 700 Boylston St.       Buswell St. at Park Dr.   \n",
       "4  Boston Public Library - 700 Boylston St.  MIT at Mass Ave / Amherst St   \n",
       "\n",
       "   bike_id   user_type trip_duration  \n",
       "0     1406  Subscriber      00:32:19  \n",
       "1     1121  Subscriber      00:32:08  \n",
       "2      474  Subscriber      00:30:14  \n",
       "3     1504  Subscriber      00:29:49  \n",
       "4      913    Customer      00:15:41  "
      ]
     },
     "execution_count": 15,
     "metadata": {},
     "output_type": "execute_result"
    }
   ],
   "source": [
    "# Creates column that provides the duration of the rental period\n",
    "bike['trip_duration'] = bike['end_time']-bike['start_time']\n",
    "bike.head()"
   ]
  },
  {
   "cell_type": "markdown",
   "metadata": {},
   "source": [
    "**Elimination**"
   ]
  },
  {
   "cell_type": "code",
   "execution_count": 16,
   "metadata": {},
   "outputs": [
    {
     "name": "stdout",
     "output_type": "stream",
     "text": [
      "<class 'pandas.core.frame.DataFrame'>\n",
      "Int64Index: 1236200 entries, 0 to 1236202\n",
      "Data columns (total 9 columns):\n",
      " #   Column              Non-Null Count    Dtype          \n",
      "---  ------              --------------    -----          \n",
      " 0   start_time          1236200 non-null  datetime64[ns] \n",
      " 1   end_time            1236200 non-null  datetime64[ns] \n",
      " 2   start_station_id    1236200 non-null  int64          \n",
      " 3   end_station_id      1236200 non-null  int64          \n",
      " 4   start_station_name  1236200 non-null  object         \n",
      " 5   end_station_name    1236200 non-null  object         \n",
      " 6   bike_id             1236200 non-null  int64          \n",
      " 7   user_type           1236200 non-null  object         \n",
      " 8   trip_duration       1236200 non-null  timedelta64[ns]\n",
      "dtypes: datetime64[ns](2), int64(3), object(3), timedelta64[ns](1)\n",
      "memory usage: 94.3+ MB\n"
     ]
    }
   ],
   "source": [
    "# Dropping entries with negative trip duration\n",
    "bike = bike[bike['trip_duration'] >= pd.Timedelta(0)]\n",
    "bike.info()"
   ]
  },
  {
   "cell_type": "code",
   "execution_count": 17,
   "metadata": {},
   "outputs": [
    {
     "data": {
      "text/html": [
       "<div>\n",
       "<style scoped>\n",
       "    .dataframe tbody tr th:only-of-type {\n",
       "        vertical-align: middle;\n",
       "    }\n",
       "\n",
       "    .dataframe tbody tr th {\n",
       "        vertical-align: top;\n",
       "    }\n",
       "\n",
       "    .dataframe thead th {\n",
       "        text-align: right;\n",
       "    }\n",
       "</style>\n",
       "<table border=\"1\" class=\"dataframe\">\n",
       "  <thead>\n",
       "    <tr style=\"text-align: right;\">\n",
       "      <th></th>\n",
       "      <th>start_time</th>\n",
       "      <th>end_time</th>\n",
       "      <th>start_station_id</th>\n",
       "      <th>end_station_id</th>\n",
       "      <th>start_station_name</th>\n",
       "      <th>end_station_name</th>\n",
       "      <th>bike_id</th>\n",
       "      <th>user_type</th>\n",
       "      <th>trip_duration</th>\n",
       "      <th>weekday</th>\n",
       "    </tr>\n",
       "  </thead>\n",
       "  <tbody>\n",
       "    <tr>\n",
       "      <th>0</th>\n",
       "      <td>2016-01-01 00:08:07</td>\n",
       "      <td>2016-01-01 00:40:26</td>\n",
       "      <td>36</td>\n",
       "      <td>19</td>\n",
       "      <td>Boston Public Library - 700 Boylston St.</td>\n",
       "      <td>Buswell St. at Park Dr.</td>\n",
       "      <td>1406</td>\n",
       "      <td>Subscriber</td>\n",
       "      <td>00:32:19</td>\n",
       "      <td>4</td>\n",
       "    </tr>\n",
       "    <tr>\n",
       "      <th>1</th>\n",
       "      <td>2016-01-01 00:08:19</td>\n",
       "      <td>2016-01-01 00:40:27</td>\n",
       "      <td>36</td>\n",
       "      <td>19</td>\n",
       "      <td>Boston Public Library - 700 Boylston St.</td>\n",
       "      <td>Buswell St. at Park Dr.</td>\n",
       "      <td>1121</td>\n",
       "      <td>Subscriber</td>\n",
       "      <td>00:32:08</td>\n",
       "      <td>4</td>\n",
       "    </tr>\n",
       "    <tr>\n",
       "      <th>2</th>\n",
       "      <td>2016-01-01 00:10:15</td>\n",
       "      <td>2016-01-01 00:40:29</td>\n",
       "      <td>36</td>\n",
       "      <td>19</td>\n",
       "      <td>Boston Public Library - 700 Boylston St.</td>\n",
       "      <td>Buswell St. at Park Dr.</td>\n",
       "      <td>474</td>\n",
       "      <td>Subscriber</td>\n",
       "      <td>00:30:14</td>\n",
       "      <td>4</td>\n",
       "    </tr>\n",
       "    <tr>\n",
       "      <th>3</th>\n",
       "      <td>2016-01-01 00:10:22</td>\n",
       "      <td>2016-01-01 00:40:11</td>\n",
       "      <td>36</td>\n",
       "      <td>19</td>\n",
       "      <td>Boston Public Library - 700 Boylston St.</td>\n",
       "      <td>Buswell St. at Park Dr.</td>\n",
       "      <td>1504</td>\n",
       "      <td>Subscriber</td>\n",
       "      <td>00:29:49</td>\n",
       "      <td>4</td>\n",
       "    </tr>\n",
       "    <tr>\n",
       "      <th>4</th>\n",
       "      <td>2016-01-01 00:15:36</td>\n",
       "      <td>2016-01-01 00:31:17</td>\n",
       "      <td>36</td>\n",
       "      <td>67</td>\n",
       "      <td>Boston Public Library - 700 Boylston St.</td>\n",
       "      <td>MIT at Mass Ave / Amherst St</td>\n",
       "      <td>913</td>\n",
       "      <td>Customer</td>\n",
       "      <td>00:15:41</td>\n",
       "      <td>4</td>\n",
       "    </tr>\n",
       "    <tr>\n",
       "      <th>...</th>\n",
       "      <td>...</td>\n",
       "      <td>...</td>\n",
       "      <td>...</td>\n",
       "      <td>...</td>\n",
       "      <td>...</td>\n",
       "      <td>...</td>\n",
       "      <td>...</td>\n",
       "      <td>...</td>\n",
       "      <td>...</td>\n",
       "      <td>...</td>\n",
       "    </tr>\n",
       "    <tr>\n",
       "      <th>59995</th>\n",
       "      <td>2016-03-28 16:30:21</td>\n",
       "      <td>2016-03-28 16:32:40</td>\n",
       "      <td>91</td>\n",
       "      <td>80</td>\n",
       "      <td>One Kendall Square at Hampshire St / Portland St</td>\n",
       "      <td>MIT Stata Center at Vassar St / Main St</td>\n",
       "      <td>769</td>\n",
       "      <td>Customer</td>\n",
       "      <td>00:02:19</td>\n",
       "      <td>0</td>\n",
       "    </tr>\n",
       "    <tr>\n",
       "      <th>59996</th>\n",
       "      <td>2016-03-28 16:31:49</td>\n",
       "      <td>2016-03-28 16:36:49</td>\n",
       "      <td>108</td>\n",
       "      <td>115</td>\n",
       "      <td>Harvard University / SEAS Cruft-Pierce Halls a...</td>\n",
       "      <td>Porter Square Station</td>\n",
       "      <td>1109</td>\n",
       "      <td>Subscriber</td>\n",
       "      <td>00:05:00</td>\n",
       "      <td>0</td>\n",
       "    </tr>\n",
       "    <tr>\n",
       "      <th>59997</th>\n",
       "      <td>2016-03-28 16:32:14</td>\n",
       "      <td>2016-03-28 16:40:06</td>\n",
       "      <td>189</td>\n",
       "      <td>88</td>\n",
       "      <td>Kendall T</td>\n",
       "      <td>Inman Square at Vellucci Plaza / Hampshire St</td>\n",
       "      <td>1051</td>\n",
       "      <td>Subscriber</td>\n",
       "      <td>00:07:52</td>\n",
       "      <td>0</td>\n",
       "    </tr>\n",
       "    <tr>\n",
       "      <th>59998</th>\n",
       "      <td>2016-03-28 16:32:28</td>\n",
       "      <td>2016-03-28 16:42:43</td>\n",
       "      <td>22</td>\n",
       "      <td>38</td>\n",
       "      <td>South Station - 700 Atlantic Ave.</td>\n",
       "      <td>TD Garden - Causeway at Portal Park #2</td>\n",
       "      <td>1081</td>\n",
       "      <td>Subscriber</td>\n",
       "      <td>00:10:15</td>\n",
       "      <td>0</td>\n",
       "    </tr>\n",
       "    <tr>\n",
       "      <th>59999</th>\n",
       "      <td>2016-03-28 16:32:33</td>\n",
       "      <td>2016-03-28 17:32:52</td>\n",
       "      <td>151</td>\n",
       "      <td>151</td>\n",
       "      <td>John F Fitzgerald - Surface Road at India Street</td>\n",
       "      <td>John F Fitzgerald - Surface Road at India Street</td>\n",
       "      <td>323</td>\n",
       "      <td>Subscriber</td>\n",
       "      <td>01:00:19</td>\n",
       "      <td>0</td>\n",
       "    </tr>\n",
       "  </tbody>\n",
       "</table>\n",
       "<p>60000 rows × 10 columns</p>\n",
       "</div>"
      ],
      "text/plain": [
       "               start_time            end_time  start_station_id  \\\n",
       "0     2016-01-01 00:08:07 2016-01-01 00:40:26                36   \n",
       "1     2016-01-01 00:08:19 2016-01-01 00:40:27                36   \n",
       "2     2016-01-01 00:10:15 2016-01-01 00:40:29                36   \n",
       "3     2016-01-01 00:10:22 2016-01-01 00:40:11                36   \n",
       "4     2016-01-01 00:15:36 2016-01-01 00:31:17                36   \n",
       "...                   ...                 ...               ...   \n",
       "59995 2016-03-28 16:30:21 2016-03-28 16:32:40                91   \n",
       "59996 2016-03-28 16:31:49 2016-03-28 16:36:49               108   \n",
       "59997 2016-03-28 16:32:14 2016-03-28 16:40:06               189   \n",
       "59998 2016-03-28 16:32:28 2016-03-28 16:42:43                22   \n",
       "59999 2016-03-28 16:32:33 2016-03-28 17:32:52               151   \n",
       "\n",
       "       end_station_id                                 start_station_name  \\\n",
       "0                  19           Boston Public Library - 700 Boylston St.   \n",
       "1                  19           Boston Public Library - 700 Boylston St.   \n",
       "2                  19           Boston Public Library - 700 Boylston St.   \n",
       "3                  19           Boston Public Library - 700 Boylston St.   \n",
       "4                  67           Boston Public Library - 700 Boylston St.   \n",
       "...               ...                                                ...   \n",
       "59995              80   One Kendall Square at Hampshire St / Portland St   \n",
       "59996             115  Harvard University / SEAS Cruft-Pierce Halls a...   \n",
       "59997              88                                          Kendall T   \n",
       "59998              38                  South Station - 700 Atlantic Ave.   \n",
       "59999             151   John F Fitzgerald - Surface Road at India Street   \n",
       "\n",
       "                                       end_station_name  bike_id   user_type  \\\n",
       "0                               Buswell St. at Park Dr.     1406  Subscriber   \n",
       "1                               Buswell St. at Park Dr.     1121  Subscriber   \n",
       "2                               Buswell St. at Park Dr.      474  Subscriber   \n",
       "3                               Buswell St. at Park Dr.     1504  Subscriber   \n",
       "4                          MIT at Mass Ave / Amherst St      913    Customer   \n",
       "...                                                 ...      ...         ...   \n",
       "59995           MIT Stata Center at Vassar St / Main St      769    Customer   \n",
       "59996                             Porter Square Station     1109  Subscriber   \n",
       "59997     Inman Square at Vellucci Plaza / Hampshire St     1051  Subscriber   \n",
       "59998            TD Garden - Causeway at Portal Park #2     1081  Subscriber   \n",
       "59999  John F Fitzgerald - Surface Road at India Street      323  Subscriber   \n",
       "\n",
       "      trip_duration  weekday  \n",
       "0          00:32:19        4  \n",
       "1          00:32:08        4  \n",
       "2          00:30:14        4  \n",
       "3          00:29:49        4  \n",
       "4          00:15:41        4  \n",
       "...             ...      ...  \n",
       "59995      00:02:19        0  \n",
       "59996      00:05:00        0  \n",
       "59997      00:07:52        0  \n",
       "59998      00:10:15        0  \n",
       "59999      01:00:19        0  \n",
       "\n",
       "[60000 rows x 10 columns]"
      ]
     },
     "execution_count": 17,
     "metadata": {},
     "output_type": "execute_result"
    }
   ],
   "source": [
    "bike[\"weekday\"] = bike[\"start_time\"].dt.dayofweek\n",
    "bike.head(60000)"
   ]
  },
  {
   "cell_type": "markdown",
   "metadata": {},
   "source": [
    "### Weather"
   ]
  },
  {
   "cell_type": "markdown",
   "metadata": {},
   "source": [
    "Read weather data:"
   ]
  },
  {
   "cell_type": "code",
   "execution_count": 18,
   "metadata": {},
   "outputs": [],
   "source": [
    "weatherhour = pd.read_csv(\"weather_hourly_boston.csv\")"
   ]
  },
  {
   "cell_type": "code",
   "execution_count": 19,
   "metadata": {
    "tags": []
   },
   "outputs": [
    {
     "data": {
      "text/plain": [
       "Index(['date_time', 'max_temp', 'min_temp', 'precip'], dtype='object')"
      ]
     },
     "execution_count": 19,
     "metadata": {},
     "output_type": "execute_result"
    }
   ],
   "source": [
    "weatherhour.columns"
   ]
  },
  {
   "cell_type": "code",
   "execution_count": 20,
   "metadata": {},
   "outputs": [
    {
     "data": {
      "text/html": [
       "<div>\n",
       "<style scoped>\n",
       "    .dataframe tbody tr th:only-of-type {\n",
       "        vertical-align: middle;\n",
       "    }\n",
       "\n",
       "    .dataframe tbody tr th {\n",
       "        vertical-align: top;\n",
       "    }\n",
       "\n",
       "    .dataframe thead th {\n",
       "        text-align: right;\n",
       "    }\n",
       "</style>\n",
       "<table border=\"1\" class=\"dataframe\">\n",
       "  <thead>\n",
       "    <tr style=\"text-align: right;\">\n",
       "      <th></th>\n",
       "      <th>date_time</th>\n",
       "      <th>max_temp</th>\n",
       "      <th>min_temp</th>\n",
       "      <th>precip</th>\n",
       "    </tr>\n",
       "  </thead>\n",
       "  <tbody>\n",
       "    <tr>\n",
       "      <th>0</th>\n",
       "      <td>2015-01-02 01:00:00</td>\n",
       "      <td>-1.1</td>\n",
       "      <td>-1.1</td>\n",
       "      <td>0.0</td>\n",
       "    </tr>\n",
       "    <tr>\n",
       "      <th>1</th>\n",
       "      <td>2015-01-02 02:00:00</td>\n",
       "      <td>-1.1</td>\n",
       "      <td>-1.1</td>\n",
       "      <td>0.0</td>\n",
       "    </tr>\n",
       "    <tr>\n",
       "      <th>2</th>\n",
       "      <td>2015-01-02 03:00:00</td>\n",
       "      <td>-0.6</td>\n",
       "      <td>-0.6</td>\n",
       "      <td>0.0</td>\n",
       "    </tr>\n",
       "  </tbody>\n",
       "</table>\n",
       "</div>"
      ],
      "text/plain": [
       "             date_time  max_temp  min_temp  precip\n",
       "0  2015-01-02 01:00:00      -1.1      -1.1     0.0\n",
       "1  2015-01-02 02:00:00      -1.1      -1.1     0.0\n",
       "2  2015-01-02 03:00:00      -0.6      -0.6     0.0"
      ]
     },
     "execution_count": 20,
     "metadata": {},
     "output_type": "execute_result"
    }
   ],
   "source": [
    "weatherhour.head(3)"
   ]
  },
  {
   "cell_type": "code",
   "execution_count": 21,
   "metadata": {},
   "outputs": [
    {
     "data": {
      "text/html": [
       "<div>\n",
       "<style scoped>\n",
       "    .dataframe tbody tr th:only-of-type {\n",
       "        vertical-align: middle;\n",
       "    }\n",
       "\n",
       "    .dataframe tbody tr th {\n",
       "        vertical-align: top;\n",
       "    }\n",
       "\n",
       "    .dataframe thead th {\n",
       "        text-align: right;\n",
       "    }\n",
       "</style>\n",
       "<table border=\"1\" class=\"dataframe\">\n",
       "  <thead>\n",
       "    <tr style=\"text-align: right;\">\n",
       "      <th></th>\n",
       "      <th>max_temp</th>\n",
       "      <th>min_temp</th>\n",
       "      <th>precip</th>\n",
       "    </tr>\n",
       "  </thead>\n",
       "  <tbody>\n",
       "    <tr>\n",
       "      <th>count</th>\n",
       "      <td>43354.000000</td>\n",
       "      <td>43354.000000</td>\n",
       "      <td>43356.000000</td>\n",
       "    </tr>\n",
       "    <tr>\n",
       "      <th>mean</th>\n",
       "      <td>11.456717</td>\n",
       "      <td>11.395922</td>\n",
       "      <td>0.095581</td>\n",
       "    </tr>\n",
       "    <tr>\n",
       "      <th>std</th>\n",
       "      <td>10.118606</td>\n",
       "      <td>10.114095</td>\n",
       "      <td>0.294019</td>\n",
       "    </tr>\n",
       "    <tr>\n",
       "      <th>min</th>\n",
       "      <td>-22.800000</td>\n",
       "      <td>-22.800000</td>\n",
       "      <td>0.000000</td>\n",
       "    </tr>\n",
       "    <tr>\n",
       "      <th>25%</th>\n",
       "      <td>3.300000</td>\n",
       "      <td>3.300000</td>\n",
       "      <td>0.000000</td>\n",
       "    </tr>\n",
       "    <tr>\n",
       "      <th>50%</th>\n",
       "      <td>11.700000</td>\n",
       "      <td>11.700000</td>\n",
       "      <td>0.000000</td>\n",
       "    </tr>\n",
       "    <tr>\n",
       "      <th>75%</th>\n",
       "      <td>20.000000</td>\n",
       "      <td>19.850000</td>\n",
       "      <td>0.000000</td>\n",
       "    </tr>\n",
       "    <tr>\n",
       "      <th>max</th>\n",
       "      <td>36.100000</td>\n",
       "      <td>36.100000</td>\n",
       "      <td>1.000000</td>\n",
       "    </tr>\n",
       "  </tbody>\n",
       "</table>\n",
       "</div>"
      ],
      "text/plain": [
       "           max_temp      min_temp        precip\n",
       "count  43354.000000  43354.000000  43356.000000\n",
       "mean      11.456717     11.395922      0.095581\n",
       "std       10.118606     10.114095      0.294019\n",
       "min      -22.800000    -22.800000      0.000000\n",
       "25%        3.300000      3.300000      0.000000\n",
       "50%       11.700000     11.700000      0.000000\n",
       "75%       20.000000     19.850000      0.000000\n",
       "max       36.100000     36.100000      1.000000"
      ]
     },
     "execution_count": 21,
     "metadata": {},
     "output_type": "execute_result"
    }
   ],
   "source": [
    "weatherhour.describe()"
   ]
  },
  {
   "cell_type": "code",
   "execution_count": 22,
   "metadata": {},
   "outputs": [
    {
     "name": "stdout",
     "output_type": "stream",
     "text": [
      "<class 'pandas.core.frame.DataFrame'>\n",
      "RangeIndex: 43848 entries, 0 to 43847\n",
      "Data columns (total 4 columns):\n",
      " #   Column     Non-Null Count  Dtype  \n",
      "---  ------     --------------  -----  \n",
      " 0   date_time  43354 non-null  object \n",
      " 1   max_temp   43354 non-null  float64\n",
      " 2   min_temp   43354 non-null  float64\n",
      " 3   precip     43356 non-null  float64\n",
      "dtypes: float64(3), object(1)\n",
      "memory usage: 1.3+ MB\n"
     ]
    }
   ],
   "source": [
    "weatherhour.info()"
   ]
  },
  {
   "cell_type": "markdown",
   "metadata": {},
   "source": [
    "Number of entries (43848) != Non-Null count for all colums, meaning we are (!) missing values."
   ]
  },
  {
   "cell_type": "code",
   "execution_count": 23,
   "metadata": {},
   "outputs": [
    {
     "name": "stdout",
     "output_type": "stream",
     "text": [
      "<class 'pandas.core.frame.DataFrame'>\n",
      "RangeIndex: 43848 entries, 0 to 43847\n",
      "Data columns (total 4 columns):\n",
      " #   Column     Non-Null Count  Dtype         \n",
      "---  ------     --------------  -----         \n",
      " 0   date_time  43354 non-null  datetime64[ns]\n",
      " 1   max_temp   43354 non-null  float64       \n",
      " 2   min_temp   43354 non-null  float64       \n",
      " 3   precip     43356 non-null  float64       \n",
      "dtypes: datetime64[ns](1), float64(3)\n",
      "memory usage: 1.3 MB\n"
     ]
    }
   ],
   "source": [
    "#transforming Dtype of date_time from object to datetime\n",
    "weatherhour['date_time'] = pd.to_datetime(weatherhour['date_time'])\n",
    "weatherhour.info()"
   ]
  },
  {
   "cell_type": "code",
   "execution_count": 24,
   "metadata": {},
   "outputs": [
    {
     "data": {
      "image/png": "[encoded data removed]",
      "text/plain": [
       "<Figure size 1080x1080 with 4 Axes>"
      ]
     },
     "metadata": {
      "needs_background": "light"
     },
     "output_type": "display_data"
    }
   ],
   "source": [
    "# Histogram of all numeric fields\n",
    "weatherhour_hist = weatherhour.drop(columns=['date_time'],axis=1)\n",
    "weatherhour_hist.hist(figsize=(15,15));"
   ]
  },
  {
   "cell_type": "markdown",
   "metadata": {},
   "source": [
    "**Cleaning the datset:**"
   ]
  },
  {
   "cell_type": "code",
   "execution_count": 25,
   "metadata": {},
   "outputs": [
    {
     "data": {
      "text/html": [
       "<div>\n",
       "<style scoped>\n",
       "    .dataframe tbody tr th:only-of-type {\n",
       "        vertical-align: middle;\n",
       "    }\n",
       "\n",
       "    .dataframe tbody tr th {\n",
       "        vertical-align: top;\n",
       "    }\n",
       "\n",
       "    .dataframe thead th {\n",
       "        text-align: right;\n",
       "    }\n",
       "</style>\n",
       "<table border=\"1\" class=\"dataframe\">\n",
       "  <thead>\n",
       "    <tr style=\"text-align: right;\">\n",
       "      <th></th>\n",
       "      <th>date_time</th>\n",
       "      <th>max_temp</th>\n",
       "      <th>min_temp</th>\n",
       "      <th>precip</th>\n",
       "    </tr>\n",
       "  </thead>\n",
       "  <tbody>\n",
       "    <tr>\n",
       "      <th>0</th>\n",
       "      <td>False</td>\n",
       "      <td>False</td>\n",
       "      <td>False</td>\n",
       "      <td>False</td>\n",
       "    </tr>\n",
       "    <tr>\n",
       "      <th>1</th>\n",
       "      <td>False</td>\n",
       "      <td>False</td>\n",
       "      <td>False</td>\n",
       "      <td>False</td>\n",
       "    </tr>\n",
       "    <tr>\n",
       "      <th>2</th>\n",
       "      <td>False</td>\n",
       "      <td>False</td>\n",
       "      <td>False</td>\n",
       "      <td>False</td>\n",
       "    </tr>\n",
       "    <tr>\n",
       "      <th>3</th>\n",
       "      <td>False</td>\n",
       "      <td>False</td>\n",
       "      <td>False</td>\n",
       "      <td>False</td>\n",
       "    </tr>\n",
       "    <tr>\n",
       "      <th>4</th>\n",
       "      <td>False</td>\n",
       "      <td>False</td>\n",
       "      <td>False</td>\n",
       "      <td>False</td>\n",
       "    </tr>\n",
       "    <tr>\n",
       "      <th>...</th>\n",
       "      <td>...</td>\n",
       "      <td>...</td>\n",
       "      <td>...</td>\n",
       "      <td>...</td>\n",
       "    </tr>\n",
       "    <tr>\n",
       "      <th>43843</th>\n",
       "      <td>False</td>\n",
       "      <td>False</td>\n",
       "      <td>False</td>\n",
       "      <td>False</td>\n",
       "    </tr>\n",
       "    <tr>\n",
       "      <th>43844</th>\n",
       "      <td>False</td>\n",
       "      <td>False</td>\n",
       "      <td>False</td>\n",
       "      <td>False</td>\n",
       "    </tr>\n",
       "    <tr>\n",
       "      <th>43845</th>\n",
       "      <td>False</td>\n",
       "      <td>False</td>\n",
       "      <td>False</td>\n",
       "      <td>False</td>\n",
       "    </tr>\n",
       "    <tr>\n",
       "      <th>43846</th>\n",
       "      <td>False</td>\n",
       "      <td>False</td>\n",
       "      <td>False</td>\n",
       "      <td>False</td>\n",
       "    </tr>\n",
       "    <tr>\n",
       "      <th>43847</th>\n",
       "      <td>False</td>\n",
       "      <td>False</td>\n",
       "      <td>False</td>\n",
       "      <td>False</td>\n",
       "    </tr>\n",
       "  </tbody>\n",
       "</table>\n",
       "<p>43848 rows × 4 columns</p>\n",
       "</div>"
      ],
      "text/plain": [
       "       date_time  max_temp  min_temp  precip\n",
       "0          False     False     False   False\n",
       "1          False     False     False   False\n",
       "2          False     False     False   False\n",
       "3          False     False     False   False\n",
       "4          False     False     False   False\n",
       "...          ...       ...       ...     ...\n",
       "43843      False     False     False   False\n",
       "43844      False     False     False   False\n",
       "43845      False     False     False   False\n",
       "43846      False     False     False   False\n",
       "43847      False     False     False   False\n",
       "\n",
       "[43848 rows x 4 columns]"
      ]
     },
     "execution_count": 25,
     "metadata": {},
     "output_type": "execute_result"
    }
   ],
   "source": [
    "weatherhour.isnull()"
   ]
  },
  {
   "cell_type": "code",
   "execution_count": 26,
   "metadata": {
    "tags": []
   },
   "outputs": [
    {
     "data": {
      "text/html": [
       "<div>\n",
       "<style scoped>\n",
       "    .dataframe tbody tr th:only-of-type {\n",
       "        vertical-align: middle;\n",
       "    }\n",
       "\n",
       "    .dataframe tbody tr th {\n",
       "        vertical-align: top;\n",
       "    }\n",
       "\n",
       "    .dataframe thead th {\n",
       "        text-align: right;\n",
       "    }\n",
       "</style>\n",
       "<table border=\"1\" class=\"dataframe\">\n",
       "  <thead>\n",
       "    <tr style=\"text-align: right;\">\n",
       "      <th></th>\n",
       "      <th>date_time</th>\n",
       "      <th>max_temp</th>\n",
       "      <th>min_temp</th>\n",
       "      <th>precip</th>\n",
       "    </tr>\n",
       "  </thead>\n",
       "  <tbody>\n",
       "    <tr>\n",
       "      <th>98</th>\n",
       "      <td>NaT</td>\n",
       "      <td>NaN</td>\n",
       "      <td>NaN</td>\n",
       "      <td>NaN</td>\n",
       "    </tr>\n",
       "    <tr>\n",
       "      <th>145</th>\n",
       "      <td>NaT</td>\n",
       "      <td>NaN</td>\n",
       "      <td>NaN</td>\n",
       "      <td>NaN</td>\n",
       "    </tr>\n",
       "    <tr>\n",
       "      <th>304</th>\n",
       "      <td>NaT</td>\n",
       "      <td>NaN</td>\n",
       "      <td>NaN</td>\n",
       "      <td>NaN</td>\n",
       "    </tr>\n",
       "    <tr>\n",
       "      <th>395</th>\n",
       "      <td>NaT</td>\n",
       "      <td>NaN</td>\n",
       "      <td>NaN</td>\n",
       "      <td>NaN</td>\n",
       "    </tr>\n",
       "    <tr>\n",
       "      <th>588</th>\n",
       "      <td>NaT</td>\n",
       "      <td>NaN</td>\n",
       "      <td>NaN</td>\n",
       "      <td>NaN</td>\n",
       "    </tr>\n",
       "    <tr>\n",
       "      <th>...</th>\n",
       "      <td>...</td>\n",
       "      <td>...</td>\n",
       "      <td>...</td>\n",
       "      <td>...</td>\n",
       "    </tr>\n",
       "    <tr>\n",
       "      <th>43019</th>\n",
       "      <td>NaT</td>\n",
       "      <td>NaN</td>\n",
       "      <td>NaN</td>\n",
       "      <td>NaN</td>\n",
       "    </tr>\n",
       "    <tr>\n",
       "      <th>43428</th>\n",
       "      <td>NaT</td>\n",
       "      <td>NaN</td>\n",
       "      <td>NaN</td>\n",
       "      <td>NaN</td>\n",
       "    </tr>\n",
       "    <tr>\n",
       "      <th>43570</th>\n",
       "      <td>NaT</td>\n",
       "      <td>NaN</td>\n",
       "      <td>NaN</td>\n",
       "      <td>NaN</td>\n",
       "    </tr>\n",
       "    <tr>\n",
       "      <th>43594</th>\n",
       "      <td>NaT</td>\n",
       "      <td>NaN</td>\n",
       "      <td>NaN</td>\n",
       "      <td>NaN</td>\n",
       "    </tr>\n",
       "    <tr>\n",
       "      <th>43669</th>\n",
       "      <td>NaT</td>\n",
       "      <td>NaN</td>\n",
       "      <td>NaN</td>\n",
       "      <td>NaN</td>\n",
       "    </tr>\n",
       "  </tbody>\n",
       "</table>\n",
       "<p>494 rows × 4 columns</p>\n",
       "</div>"
      ],
      "text/plain": [
       "      date_time  max_temp  min_temp  precip\n",
       "98          NaT       NaN       NaN     NaN\n",
       "145         NaT       NaN       NaN     NaN\n",
       "304         NaT       NaN       NaN     NaN\n",
       "395         NaT       NaN       NaN     NaN\n",
       "588         NaT       NaN       NaN     NaN\n",
       "...         ...       ...       ...     ...\n",
       "43019       NaT       NaN       NaN     NaN\n",
       "43428       NaT       NaN       NaN     NaN\n",
       "43570       NaT       NaN       NaN     NaN\n",
       "43594       NaT       NaN       NaN     NaN\n",
       "43669       NaT       NaN       NaN     NaN\n",
       "\n",
       "[494 rows x 4 columns]"
      ]
     },
     "execution_count": 26,
     "metadata": {},
     "output_type": "execute_result"
    }
   ],
   "source": [
    "#display entries with NaN values\n",
    "NaN_for_attribute = weatherhour[weatherhour[\"date_time\"].isna()] #insert any attribute\n",
    "NaN_for_attribute"
   ]
  },
  {
   "cell_type": "markdown",
   "metadata": {},
   "source": [
    "Mostly, for given entries values are missing for all attributes."
   ]
  },
  {
   "cell_type": "markdown",
   "metadata": {},
   "source": [
    "**Elimination**"
   ]
  },
  {
   "cell_type": "code",
   "execution_count": 27,
   "metadata": {},
   "outputs": [
    {
     "data": {
      "text/html": [
       "<div>\n",
       "<style scoped>\n",
       "    .dataframe tbody tr th:only-of-type {\n",
       "        vertical-align: middle;\n",
       "    }\n",
       "\n",
       "    .dataframe tbody tr th {\n",
       "        vertical-align: top;\n",
       "    }\n",
       "\n",
       "    .dataframe thead th {\n",
       "        text-align: right;\n",
       "    }\n",
       "</style>\n",
       "<table border=\"1\" class=\"dataframe\">\n",
       "  <thead>\n",
       "    <tr style=\"text-align: right;\">\n",
       "      <th></th>\n",
       "      <th>date_time</th>\n",
       "      <th>max_temp</th>\n",
       "      <th>min_temp</th>\n",
       "      <th>precip</th>\n",
       "    </tr>\n",
       "  </thead>\n",
       "  <tbody>\n",
       "  </tbody>\n",
       "</table>\n",
       "</div>"
      ],
      "text/plain": [
       "Empty DataFrame\n",
       "Columns: [date_time, max_temp, min_temp, precip]\n",
       "Index: []"
      ]
     },
     "execution_count": 27,
     "metadata": {},
     "output_type": "execute_result"
    }
   ],
   "source": [
    "# Dropping rows with missing values.\n",
    "weatherhour.dropna(axis=0, inplace=True)\n",
    "NaN_for_attribute = weatherhour[weatherhour[\"date_time\"].isna()] #insert any attribute\n",
    "NaN_for_attribute"
   ]
  },
  {
   "cell_type": "code",
   "execution_count": 28,
   "metadata": {},
   "outputs": [
    {
     "name": "stdout",
     "output_type": "stream",
     "text": [
      "<class 'pandas.core.frame.DataFrame'>\n",
      "Int64Index: 43354 entries, 0 to 43847\n",
      "Data columns (total 4 columns):\n",
      " #   Column     Non-Null Count  Dtype         \n",
      "---  ------     --------------  -----         \n",
      " 0   date_time  43354 non-null  datetime64[ns]\n",
      " 1   max_temp   43354 non-null  float64       \n",
      " 2   min_temp   43354 non-null  float64       \n",
      " 3   precip     43354 non-null  float64       \n",
      "dtypes: datetime64[ns](1), float64(3)\n",
      "memory usage: 1.7 MB\n"
     ]
    }
   ],
   "source": [
    "weatherhour.info()"
   ]
  },
  {
   "cell_type": "code",
   "execution_count": 29,
   "metadata": {},
   "outputs": [
    {
     "name": "stdout",
     "output_type": "stream",
     "text": [
      "<class 'pandas.core.frame.DataFrame'>\n",
      "Int64Index: 40889 entries, 0 to 43847\n",
      "Data columns (total 4 columns):\n",
      " #   Column     Non-Null Count  Dtype         \n",
      "---  ------     --------------  -----         \n",
      " 0   date_time  40889 non-null  datetime64[ns]\n",
      " 1   max_temp   40889 non-null  float64       \n",
      " 2   min_temp   40889 non-null  float64       \n",
      " 3   precip     40889 non-null  float64       \n",
      "dtypes: datetime64[ns](1), float64(3)\n",
      "memory usage: 1.6 MB\n"
     ]
    }
   ],
   "source": [
    "# Dropping duplicates (date_time)\n",
    "# Only date_time is faulty, dropping duplicates leads to less data! \n",
    "# We should fix this by just manipulating the entries in the date_time column.\n",
    "weatherhour.drop_duplicates(subset='date_time', keep='first', inplace=True, ignore_index=False)\n",
    "weatherhour.info()"
   ]
  },
  {
   "cell_type": "markdown",
   "metadata": {},
   "source": [
    "**Imputation** <br>\n",
    "To maintain the completeness of the time series dataset, we have decided to impute missing values."
   ]
  },
  {
   "cell_type": "code",
   "execution_count": 30,
   "metadata": {},
   "outputs": [
    {
     "name": "stdout",
     "output_type": "stream",
     "text": [
      "<class 'pandas.core.frame.DataFrame'>\n",
      "DatetimeIndex: 43848 entries, 2015-01-01 06:00:00 to 2020-01-02 05:00:00\n",
      "Freq: H\n",
      "Data columns (total 4 columns):\n",
      " #   Column     Non-Null Count  Dtype         \n",
      "---  ------     --------------  -----         \n",
      " 0   date_time  40889 non-null  datetime64[ns]\n",
      " 1   max_temp   40889 non-null  float64       \n",
      " 2   min_temp   40889 non-null  float64       \n",
      " 3   precip     40889 non-null  float64       \n",
      "dtypes: datetime64[ns](1), float64(3)\n",
      "memory usage: 1.7 MB\n"
     ]
    }
   ],
   "source": [
    "# Extending the dataframe with missing time stamps\n",
    "# Set the index to the datetime column\n",
    "weatherhour.index = pd.to_datetime(weatherhour['date_time'])\n",
    "\n",
    "# Generate a sequence of hourly dates between the start and end dates of the data\n",
    "dates = pd.date_range(start=weatherhour.index.min(), end=weatherhour.index.max(), freq='H')\n",
    "\n",
    "# Reindex the dataframe with the new dates\n",
    "weatherhour = weatherhour.reindex(dates)\n",
    "\n",
    "weatherhour.info()"
   ]
  },
  {
   "cell_type": "code",
   "execution_count": 31,
   "metadata": {},
   "outputs": [
    {
     "data": {
      "text/html": [
       "<div>\n",
       "<style scoped>\n",
       "    .dataframe tbody tr th:only-of-type {\n",
       "        vertical-align: middle;\n",
       "    }\n",
       "\n",
       "    .dataframe tbody tr th {\n",
       "        vertical-align: top;\n",
       "    }\n",
       "\n",
       "    .dataframe thead th {\n",
       "        text-align: right;\n",
       "    }\n",
       "</style>\n",
       "<table border=\"1\" class=\"dataframe\">\n",
       "  <thead>\n",
       "    <tr style=\"text-align: right;\">\n",
       "      <th></th>\n",
       "      <th>date_time</th>\n",
       "      <th>max_temp</th>\n",
       "      <th>min_temp</th>\n",
       "      <th>precip</th>\n",
       "    </tr>\n",
       "  </thead>\n",
       "  <tbody>\n",
       "    <tr>\n",
       "      <th>2015-01-01 06:00:00</th>\n",
       "      <td>2015-01-01 06:00:00</td>\n",
       "      <td>-5.6</td>\n",
       "      <td>-5.6</td>\n",
       "      <td>0.0</td>\n",
       "    </tr>\n",
       "    <tr>\n",
       "      <th>2015-01-01 07:00:00</th>\n",
       "      <td>2015-01-01 07:00:00</td>\n",
       "      <td>-5.6</td>\n",
       "      <td>-5.6</td>\n",
       "      <td>0.0</td>\n",
       "    </tr>\n",
       "    <tr>\n",
       "      <th>2015-01-01 08:00:00</th>\n",
       "      <td>2015-01-01 08:00:00</td>\n",
       "      <td>-5.6</td>\n",
       "      <td>-5.6</td>\n",
       "      <td>0.0</td>\n",
       "    </tr>\n",
       "    <tr>\n",
       "      <th>2015-01-01 09:00:00</th>\n",
       "      <td>2015-01-01 09:00:00</td>\n",
       "      <td>-4.4</td>\n",
       "      <td>-4.4</td>\n",
       "      <td>0.0</td>\n",
       "    </tr>\n",
       "    <tr>\n",
       "      <th>2015-01-01 10:00:00</th>\n",
       "      <td>2015-01-01 10:00:00</td>\n",
       "      <td>-5.6</td>\n",
       "      <td>-5.6</td>\n",
       "      <td>0.0</td>\n",
       "    </tr>\n",
       "  </tbody>\n",
       "</table>\n",
       "</div>"
      ],
      "text/plain": [
       "                              date_time  max_temp  min_temp  precip\n",
       "2015-01-01 06:00:00 2015-01-01 06:00:00      -5.6      -5.6     0.0\n",
       "2015-01-01 07:00:00 2015-01-01 07:00:00      -5.6      -5.6     0.0\n",
       "2015-01-01 08:00:00 2015-01-01 08:00:00      -5.6      -5.6     0.0\n",
       "2015-01-01 09:00:00 2015-01-01 09:00:00      -4.4      -4.4     0.0\n",
       "2015-01-01 10:00:00 2015-01-01 10:00:00      -5.6      -5.6     0.0"
      ]
     },
     "execution_count": 31,
     "metadata": {},
     "output_type": "execute_result"
    }
   ],
   "source": [
    "weatherhour.head()"
   ]
  },
  {
   "cell_type": "code",
   "execution_count": 32,
   "metadata": {
    "tags": []
   },
   "outputs": [],
   "source": [
    "# Deletes date_time column as it is now our index\n",
    "weatherhour.drop('date_time', axis=1, inplace=True)"
   ]
  },
  {
   "cell_type": "code",
   "execution_count": 33,
   "metadata": {},
   "outputs": [
    {
     "data": {
      "text/html": [
       "<div>\n",
       "<style scoped>\n",
       "    .dataframe tbody tr th:only-of-type {\n",
       "        vertical-align: middle;\n",
       "    }\n",
       "\n",
       "    .dataframe tbody tr th {\n",
       "        vertical-align: top;\n",
       "    }\n",
       "\n",
       "    .dataframe thead th {\n",
       "        text-align: right;\n",
       "    }\n",
       "</style>\n",
       "<table border=\"1\" class=\"dataframe\">\n",
       "  <thead>\n",
       "    <tr style=\"text-align: right;\">\n",
       "      <th></th>\n",
       "      <th>max_temp</th>\n",
       "      <th>min_temp</th>\n",
       "      <th>precip</th>\n",
       "    </tr>\n",
       "  </thead>\n",
       "  <tbody>\n",
       "    <tr>\n",
       "      <th>2015-01-01 06:00:00</th>\n",
       "      <td>-5.6</td>\n",
       "      <td>-5.6</td>\n",
       "      <td>0.0</td>\n",
       "    </tr>\n",
       "    <tr>\n",
       "      <th>2015-01-01 07:00:00</th>\n",
       "      <td>-5.6</td>\n",
       "      <td>-5.6</td>\n",
       "      <td>0.0</td>\n",
       "    </tr>\n",
       "    <tr>\n",
       "      <th>2015-01-01 08:00:00</th>\n",
       "      <td>-5.6</td>\n",
       "      <td>-5.6</td>\n",
       "      <td>0.0</td>\n",
       "    </tr>\n",
       "    <tr>\n",
       "      <th>2015-01-01 09:00:00</th>\n",
       "      <td>-4.4</td>\n",
       "      <td>-4.4</td>\n",
       "      <td>0.0</td>\n",
       "    </tr>\n",
       "    <tr>\n",
       "      <th>2015-01-01 10:00:00</th>\n",
       "      <td>-5.6</td>\n",
       "      <td>-5.6</td>\n",
       "      <td>0.0</td>\n",
       "    </tr>\n",
       "  </tbody>\n",
       "</table>\n",
       "</div>"
      ],
      "text/plain": [
       "                     max_temp  min_temp  precip\n",
       "2015-01-01 06:00:00      -5.6      -5.6     0.0\n",
       "2015-01-01 07:00:00      -5.6      -5.6     0.0\n",
       "2015-01-01 08:00:00      -5.6      -5.6     0.0\n",
       "2015-01-01 09:00:00      -4.4      -4.4     0.0\n",
       "2015-01-01 10:00:00      -5.6      -5.6     0.0"
      ]
     },
     "execution_count": 33,
     "metadata": {},
     "output_type": "execute_result"
    }
   ],
   "source": [
    "weatherhour.head()"
   ]
  },
  {
   "cell_type": "code",
   "execution_count": 34,
   "metadata": {},
   "outputs": [
    {
     "data": {
      "text/html": [
       "<div>\n",
       "<style scoped>\n",
       "    .dataframe tbody tr th:only-of-type {\n",
       "        vertical-align: middle;\n",
       "    }\n",
       "\n",
       "    .dataframe tbody tr th {\n",
       "        vertical-align: top;\n",
       "    }\n",
       "\n",
       "    .dataframe thead th {\n",
       "        text-align: right;\n",
       "    }\n",
       "</style>\n",
       "<table border=\"1\" class=\"dataframe\">\n",
       "  <thead>\n",
       "    <tr style=\"text-align: right;\">\n",
       "      <th></th>\n",
       "      <th>max_temp</th>\n",
       "      <th>min_temp</th>\n",
       "      <th>precip</th>\n",
       "      <th>interp_maxtemp</th>\n",
       "      <th>interp_mintemp</th>\n",
       "      <th>interp_precip</th>\n",
       "      <th>update_maxtemp</th>\n",
       "      <th>update_mintemp</th>\n",
       "      <th>update_precip</th>\n",
       "    </tr>\n",
       "  </thead>\n",
       "  <tbody>\n",
       "    <tr>\n",
       "      <th>2015-01-01 06:00:00</th>\n",
       "      <td>-5.6</td>\n",
       "      <td>-5.6</td>\n",
       "      <td>0.0</td>\n",
       "      <td>-5.60</td>\n",
       "      <td>-5.60</td>\n",
       "      <td>0.0</td>\n",
       "      <td>-5.60</td>\n",
       "      <td>-5.60</td>\n",
       "      <td>0.0</td>\n",
       "    </tr>\n",
       "    <tr>\n",
       "      <th>2015-01-01 07:00:00</th>\n",
       "      <td>-5.6</td>\n",
       "      <td>-5.6</td>\n",
       "      <td>0.0</td>\n",
       "      <td>-5.60</td>\n",
       "      <td>-5.60</td>\n",
       "      <td>0.0</td>\n",
       "      <td>-5.60</td>\n",
       "      <td>-5.60</td>\n",
       "      <td>0.0</td>\n",
       "    </tr>\n",
       "    <tr>\n",
       "      <th>2015-01-01 08:00:00</th>\n",
       "      <td>-5.6</td>\n",
       "      <td>-5.6</td>\n",
       "      <td>0.0</td>\n",
       "      <td>-5.60</td>\n",
       "      <td>-5.60</td>\n",
       "      <td>0.0</td>\n",
       "      <td>-5.60</td>\n",
       "      <td>-5.60</td>\n",
       "      <td>0.0</td>\n",
       "    </tr>\n",
       "    <tr>\n",
       "      <th>2015-01-01 09:00:00</th>\n",
       "      <td>-4.4</td>\n",
       "      <td>-4.4</td>\n",
       "      <td>0.0</td>\n",
       "      <td>-4.40</td>\n",
       "      <td>-4.40</td>\n",
       "      <td>0.0</td>\n",
       "      <td>-4.40</td>\n",
       "      <td>-4.40</td>\n",
       "      <td>0.0</td>\n",
       "    </tr>\n",
       "    <tr>\n",
       "      <th>2015-01-01 10:00:00</th>\n",
       "      <td>-5.6</td>\n",
       "      <td>-5.6</td>\n",
       "      <td>0.0</td>\n",
       "      <td>-5.60</td>\n",
       "      <td>-5.60</td>\n",
       "      <td>0.0</td>\n",
       "      <td>-5.60</td>\n",
       "      <td>-5.60</td>\n",
       "      <td>0.0</td>\n",
       "    </tr>\n",
       "    <tr>\n",
       "      <th>...</th>\n",
       "      <td>...</td>\n",
       "      <td>...</td>\n",
       "      <td>...</td>\n",
       "      <td>...</td>\n",
       "      <td>...</td>\n",
       "      <td>...</td>\n",
       "      <td>...</td>\n",
       "      <td>...</td>\n",
       "      <td>...</td>\n",
       "    </tr>\n",
       "    <tr>\n",
       "      <th>2015-01-05 03:00:00</th>\n",
       "      <td>NaN</td>\n",
       "      <td>NaN</td>\n",
       "      <td>NaN</td>\n",
       "      <td>10.85</td>\n",
       "      <td>10.60</td>\n",
       "      <td>1.0</td>\n",
       "      <td>10.85</td>\n",
       "      <td>10.60</td>\n",
       "      <td>1.0</td>\n",
       "    </tr>\n",
       "    <tr>\n",
       "      <th>2015-01-05 04:00:00</th>\n",
       "      <td>10.6</td>\n",
       "      <td>10.6</td>\n",
       "      <td>1.0</td>\n",
       "      <td>10.60</td>\n",
       "      <td>10.60</td>\n",
       "      <td>1.0</td>\n",
       "      <td>10.60</td>\n",
       "      <td>10.60</td>\n",
       "      <td>1.0</td>\n",
       "    </tr>\n",
       "    <tr>\n",
       "      <th>2015-01-05 05:00:00</th>\n",
       "      <td>10.0</td>\n",
       "      <td>10.0</td>\n",
       "      <td>0.0</td>\n",
       "      <td>10.00</td>\n",
       "      <td>10.00</td>\n",
       "      <td>0.0</td>\n",
       "      <td>10.00</td>\n",
       "      <td>10.00</td>\n",
       "      <td>0.0</td>\n",
       "    </tr>\n",
       "    <tr>\n",
       "      <th>2015-01-05 06:00:00</th>\n",
       "      <td>NaN</td>\n",
       "      <td>NaN</td>\n",
       "      <td>NaN</td>\n",
       "      <td>8.35</td>\n",
       "      <td>8.35</td>\n",
       "      <td>0.0</td>\n",
       "      <td>8.35</td>\n",
       "      <td>8.35</td>\n",
       "      <td>0.0</td>\n",
       "    </tr>\n",
       "    <tr>\n",
       "      <th>2015-01-05 07:00:00</th>\n",
       "      <td>6.7</td>\n",
       "      <td>6.7</td>\n",
       "      <td>0.0</td>\n",
       "      <td>6.70</td>\n",
       "      <td>6.70</td>\n",
       "      <td>0.0</td>\n",
       "      <td>6.70</td>\n",
       "      <td>6.70</td>\n",
       "      <td>0.0</td>\n",
       "    </tr>\n",
       "  </tbody>\n",
       "</table>\n",
       "<p>98 rows × 9 columns</p>\n",
       "</div>"
      ],
      "text/plain": [
       "                     max_temp  min_temp  precip  interp_maxtemp  \\\n",
       "2015-01-01 06:00:00      -5.6      -5.6     0.0           -5.60   \n",
       "2015-01-01 07:00:00      -5.6      -5.6     0.0           -5.60   \n",
       "2015-01-01 08:00:00      -5.6      -5.6     0.0           -5.60   \n",
       "2015-01-01 09:00:00      -4.4      -4.4     0.0           -4.40   \n",
       "2015-01-01 10:00:00      -5.6      -5.6     0.0           -5.60   \n",
       "...                       ...       ...     ...             ...   \n",
       "2015-01-05 03:00:00       NaN       NaN     NaN           10.85   \n",
       "2015-01-05 04:00:00      10.6      10.6     1.0           10.60   \n",
       "2015-01-05 05:00:00      10.0      10.0     0.0           10.00   \n",
       "2015-01-05 06:00:00       NaN       NaN     NaN            8.35   \n",
       "2015-01-05 07:00:00       6.7       6.7     0.0            6.70   \n",
       "\n",
       "                     interp_mintemp  interp_precip  update_maxtemp  \\\n",
       "2015-01-01 06:00:00           -5.60            0.0           -5.60   \n",
       "2015-01-01 07:00:00           -5.60            0.0           -5.60   \n",
       "2015-01-01 08:00:00           -5.60            0.0           -5.60   \n",
       "2015-01-01 09:00:00           -4.40            0.0           -4.40   \n",
       "2015-01-01 10:00:00           -5.60            0.0           -5.60   \n",
       "...                             ...            ...             ...   \n",
       "2015-01-05 03:00:00           10.60            1.0           10.85   \n",
       "2015-01-05 04:00:00           10.60            1.0           10.60   \n",
       "2015-01-05 05:00:00           10.00            0.0           10.00   \n",
       "2015-01-05 06:00:00            8.35            0.0            8.35   \n",
       "2015-01-05 07:00:00            6.70            0.0            6.70   \n",
       "\n",
       "                     update_mintemp  update_precip  \n",
       "2015-01-01 06:00:00           -5.60            0.0  \n",
       "2015-01-01 07:00:00           -5.60            0.0  \n",
       "2015-01-01 08:00:00           -5.60            0.0  \n",
       "2015-01-01 09:00:00           -4.40            0.0  \n",
       "2015-01-01 10:00:00           -5.60            0.0  \n",
       "...                             ...            ...  \n",
       "2015-01-05 03:00:00           10.60            1.0  \n",
       "2015-01-05 04:00:00           10.60            1.0  \n",
       "2015-01-05 05:00:00           10.00            0.0  \n",
       "2015-01-05 06:00:00            8.35            0.0  \n",
       "2015-01-05 07:00:00            6.70            0.0  \n",
       "\n",
       "[98 rows x 9 columns]"
      ]
     },
     "execution_count": 34,
     "metadata": {},
     "output_type": "execute_result"
    }
   ],
   "source": [
    "# Imputing missing values by means of interpolation\n",
    "weatherhour['interp_maxtemp']  = weatherhour['max_temp'].interpolate()   # mean of prev/next\n",
    "weatherhour['interp_mintemp']  = weatherhour['min_temp'].interpolate()   # mean of prev/next\n",
    "weatherhour['interp_precip']  = weatherhour['precip'].interpolate()   # mean of prev/next\n",
    "weatherhour['update_maxtemp'] = weatherhour['interp_maxtemp']\n",
    "weatherhour['update_maxtemp'].update( weatherhour['max_temp'] )  # note: this is an inplace operation\n",
    "weatherhour['update_mintemp'] = weatherhour['interp_mintemp']\n",
    "weatherhour['update_mintemp'].update( weatherhour['min_temp'] )  # note: this is an inplace operation\n",
    "weatherhour['update_precip'] = weatherhour['interp_precip']\n",
    "weatherhour['update_precip'].update( weatherhour['precip'] )  # note: this is an inplace operation\n",
    "weatherhour.head(98)"
   ]
  },
  {
   "cell_type": "markdown",
   "metadata": {},
   "source": [
    "### Stations"
   ]
  },
  {
   "cell_type": "code",
   "execution_count": 35,
   "metadata": {},
   "outputs": [
    {
     "data": {
      "text/html": [
       "<div>\n",
       "<style scoped>\n",
       "    .dataframe tbody tr th:only-of-type {\n",
       "        vertical-align: middle;\n",
       "    }\n",
       "\n",
       "    .dataframe tbody tr th {\n",
       "        vertical-align: top;\n",
       "    }\n",
       "\n",
       "    .dataframe thead th {\n",
       "        text-align: right;\n",
       "    }\n",
       "</style>\n",
       "<table border=\"1\" class=\"dataframe\">\n",
       "  <thead>\n",
       "    <tr style=\"text-align: right;\">\n",
       "      <th></th>\n",
       "      <th>Number</th>\n",
       "      <th>Name</th>\n",
       "      <th>Latitude</th>\n",
       "      <th>Longitude</th>\n",
       "      <th>District</th>\n",
       "      <th>Public</th>\n",
       "      <th>Total docks</th>\n",
       "      <th>Deployment Year</th>\n",
       "    </tr>\n",
       "  </thead>\n",
       "  <tbody>\n",
       "    <tr>\n",
       "      <th>0</th>\n",
       "      <td>K32015</td>\n",
       "      <td>1200 Beacon St</td>\n",
       "      <td>42.344149</td>\n",
       "      <td>-71.114674</td>\n",
       "      <td>Brookline</td>\n",
       "      <td>Yes</td>\n",
       "      <td>15</td>\n",
       "      <td>2021.0</td>\n",
       "    </tr>\n",
       "    <tr>\n",
       "      <th>1</th>\n",
       "      <td>W32006</td>\n",
       "      <td>160 Arsenal</td>\n",
       "      <td>42.364664</td>\n",
       "      <td>-71.175694</td>\n",
       "      <td>Watertown</td>\n",
       "      <td>Yes</td>\n",
       "      <td>11</td>\n",
       "      <td>2021.0</td>\n",
       "    </tr>\n",
       "    <tr>\n",
       "      <th>2</th>\n",
       "      <td>A32019</td>\n",
       "      <td>175 N Harvard St</td>\n",
       "      <td>42.363796</td>\n",
       "      <td>-71.129164</td>\n",
       "      <td>Boston</td>\n",
       "      <td>Yes</td>\n",
       "      <td>17</td>\n",
       "      <td>2014.0</td>\n",
       "    </tr>\n",
       "    <tr>\n",
       "      <th>3</th>\n",
       "      <td>S32035</td>\n",
       "      <td>191 Beacon St</td>\n",
       "      <td>42.380323</td>\n",
       "      <td>-71.108786</td>\n",
       "      <td>Somerville</td>\n",
       "      <td>Yes</td>\n",
       "      <td>19</td>\n",
       "      <td>2018.0</td>\n",
       "    </tr>\n",
       "    <tr>\n",
       "      <th>4</th>\n",
       "      <td>C32094</td>\n",
       "      <td>2 Hummingbird Lane at Olmsted Green</td>\n",
       "      <td>42.288870</td>\n",
       "      <td>-71.095003</td>\n",
       "      <td>Boston</td>\n",
       "      <td>Yes</td>\n",
       "      <td>17</td>\n",
       "      <td>2020.0</td>\n",
       "    </tr>\n",
       "  </tbody>\n",
       "</table>\n",
       "</div>"
      ],
      "text/plain": [
       "   Number                                 Name   Latitude  Longitude  \\\n",
       "0  K32015                       1200 Beacon St  42.344149 -71.114674   \n",
       "1  W32006                          160 Arsenal  42.364664 -71.175694   \n",
       "2  A32019                     175 N Harvard St  42.363796 -71.129164   \n",
       "3  S32035                        191 Beacon St  42.380323 -71.108786   \n",
       "4  C32094  2 Hummingbird Lane at Olmsted Green  42.288870 -71.095003   \n",
       "\n",
       "     District Public  Total docks  Deployment Year  \n",
       "0   Brookline    Yes           15           2021.0  \n",
       "1   Watertown    Yes           11           2021.0  \n",
       "2      Boston    Yes           17           2014.0  \n",
       "3  Somerville    Yes           19           2018.0  \n",
       "4      Boston    Yes           17           2020.0  "
      ]
     },
     "execution_count": 35,
     "metadata": {},
     "output_type": "execute_result"
    }
   ],
   "source": [
    "stations = pd.read_csv(\"current_bluebikes_stations.csv\")\n",
    "stations.head()"
   ]
  },
  {
   "cell_type": "code",
   "execution_count": 36,
   "metadata": {},
   "outputs": [
    {
     "name": "stdout",
     "output_type": "stream",
     "text": [
      "<class 'pandas.core.frame.DataFrame'>\n",
      "RangeIndex: 448 entries, 0 to 447\n",
      "Data columns (total 8 columns):\n",
      " #   Column           Non-Null Count  Dtype  \n",
      "---  ------           --------------  -----  \n",
      " 0   Number           448 non-null    object \n",
      " 1   Name             448 non-null    object \n",
      " 2   Latitude         448 non-null    float64\n",
      " 3   Longitude        448 non-null    float64\n",
      " 4   District         444 non-null    object \n",
      " 5   Public           448 non-null    object \n",
      " 6   Total docks      448 non-null    int64  \n",
      " 7   Deployment Year  443 non-null    float64\n",
      "dtypes: float64(3), int64(1), object(4)\n",
      "memory usage: 28.1+ KB\n"
     ]
    }
   ],
   "source": [
    "stations.info()"
   ]
  },
  {
   "cell_type": "code",
   "execution_count": 37,
   "metadata": {},
   "outputs": [
    {
     "data": {
      "text/html": [
       "<div>\n",
       "<style scoped>\n",
       "    .dataframe tbody tr th:only-of-type {\n",
       "        vertical-align: middle;\n",
       "    }\n",
       "\n",
       "    .dataframe tbody tr th {\n",
       "        vertical-align: top;\n",
       "    }\n",
       "\n",
       "    .dataframe thead th {\n",
       "        text-align: right;\n",
       "    }\n",
       "</style>\n",
       "<table border=\"1\" class=\"dataframe\">\n",
       "  <thead>\n",
       "    <tr style=\"text-align: right;\">\n",
       "      <th></th>\n",
       "      <th>Number</th>\n",
       "      <th>Name</th>\n",
       "      <th>Latitude</th>\n",
       "      <th>Longitude</th>\n",
       "      <th>District</th>\n",
       "      <th>Public</th>\n",
       "      <th>Total docks</th>\n",
       "      <th>Deployment Year</th>\n",
       "    </tr>\n",
       "  </thead>\n",
       "  <tbody>\n",
       "    <tr>\n",
       "      <th>7</th>\n",
       "      <td>S32049</td>\n",
       "      <td>515 Somerville Ave (Temp. Winter Location)</td>\n",
       "      <td>42.383227</td>\n",
       "      <td>-71.106069</td>\n",
       "      <td>NaN</td>\n",
       "      <td>Yes</td>\n",
       "      <td>19</td>\n",
       "      <td>NaN</td>\n",
       "    </tr>\n",
       "    <tr>\n",
       "      <th>65</th>\n",
       "      <td>D32056</td>\n",
       "      <td>Boylston St at Charles St</td>\n",
       "      <td>42.352576</td>\n",
       "      <td>-71.067644</td>\n",
       "      <td>Boston</td>\n",
       "      <td>Yes</td>\n",
       "      <td>31</td>\n",
       "      <td>NaN</td>\n",
       "    </tr>\n",
       "    <tr>\n",
       "      <th>83</th>\n",
       "      <td>S32044</td>\n",
       "      <td>Broadway Opposite Norwood Ave  (Temp Winter St...</td>\n",
       "      <td>42.396764</td>\n",
       "      <td>-71.102376</td>\n",
       "      <td>Somerville</td>\n",
       "      <td>Yes</td>\n",
       "      <td>15</td>\n",
       "      <td>NaN</td>\n",
       "    </tr>\n",
       "    <tr>\n",
       "      <th>236</th>\n",
       "      <td>M32083</td>\n",
       "      <td>John Ahern Field at Kennedy-Longfellow School</td>\n",
       "      <td>42.369036</td>\n",
       "      <td>-71.086310</td>\n",
       "      <td>NaN</td>\n",
       "      <td>Yes</td>\n",
       "      <td>19</td>\n",
       "      <td>NaN</td>\n",
       "    </tr>\n",
       "    <tr>\n",
       "      <th>401</th>\n",
       "      <td>S32042</td>\n",
       "      <td>Trum Field @ Cedar St (Temp Winter Station)</td>\n",
       "      <td>42.398444</td>\n",
       "      <td>-71.107833</td>\n",
       "      <td>Somerville</td>\n",
       "      <td>Yes</td>\n",
       "      <td>19</td>\n",
       "      <td>NaN</td>\n",
       "    </tr>\n",
       "  </tbody>\n",
       "</table>\n",
       "</div>"
      ],
      "text/plain": [
       "     Number                                               Name   Latitude  \\\n",
       "7    S32049         515 Somerville Ave (Temp. Winter Location)  42.383227   \n",
       "65   D32056                          Boylston St at Charles St  42.352576   \n",
       "83   S32044  Broadway Opposite Norwood Ave  (Temp Winter St...  42.396764   \n",
       "236  M32083      John Ahern Field at Kennedy-Longfellow School  42.369036   \n",
       "401  S32042        Trum Field @ Cedar St (Temp Winter Station)  42.398444   \n",
       "\n",
       "     Longitude    District Public  Total docks  Deployment Year  \n",
       "7   -71.106069         NaN    Yes           19              NaN  \n",
       "65  -71.067644      Boston    Yes           31              NaN  \n",
       "83  -71.102376  Somerville    Yes           15              NaN  \n",
       "236 -71.086310         NaN    Yes           19              NaN  \n",
       "401 -71.107833  Somerville    Yes           19              NaN  "
      ]
     },
     "execution_count": 37,
     "metadata": {},
     "output_type": "execute_result"
    }
   ],
   "source": [
    "NaN_for_attribute2 = stations[stations[\"Deployment Year\"].isna()]\n",
    "NaN_for_attribute2"
   ]
  },
  {
   "cell_type": "markdown",
   "metadata": {},
   "source": [
    "## 2 Descriptive Analytics"
   ]
  },
  {
   "cell_type": "markdown",
   "metadata": {},
   "source": [
    "### KPIs - Fleet operation"
   ]
  },
  {
   "cell_type": "markdown",
   "metadata": {},
   "source": [
    "Total number of rentals per day:"
   ]
  },
  {
   "cell_type": "code",
   "execution_count": 38,
   "metadata": {},
   "outputs": [
    {
     "data": {
      "text/plain": [
       "Text(0, 0.5, 'Total number of rentals per day')"
      ]
     },
     "execution_count": 38,
     "metadata": {},
     "output_type": "execute_result"
    },
    {
     "data": {
      "image/png": "[encoded data removed]",
      "text/plain": [
       "<Figure size 864x288 with 1 Axes>"
      ]
     },
     "metadata": {
      "needs_background": "light"
     },
     "output_type": "display_data"
    }
   ],
   "source": [
    "bikeplot = bike.groupby(bike[\"start_time\"].rename('Date').dt.date).size()\n",
    "\n",
    "fig, axs = plt.subplots(figsize=(12, 4))\n",
    "bikeplot.plot.area(ax=axs)\n",
    "axs.set_ylabel('Total number of rentals per day')"
   ]
  },
  {
   "cell_type": "markdown",
   "metadata": {},
   "source": [
    "Total number of rentals per hour:"
   ]
  },
  {
   "cell_type": "code",
   "execution_count": 39,
   "metadata": {},
   "outputs": [
    {
     "data": {
      "text/plain": [
       "Text(0, 0.5, 'Total number of rentals per hour')"
      ]
     },
     "execution_count": 39,
     "metadata": {},
     "output_type": "execute_result"
    },
    {
     "data": {
      "image/png": "[encoded data removed]",
      "text/plain": [
       "<Figure size 720x288 with 1 Axes>"
      ]
     },
     "metadata": {
      "needs_background": "light"
     },
     "output_type": "display_data"
    }
   ],
   "source": [
    "bikeplot2 = bike.groupby(bike[\"start_time\"].rename('Time').dt.hour).size()\n",
    "\n",
    "fig, axs = plt.subplots(figsize=(10,4))\n",
    "bikeplot2.plot.area(ax=axs)\n",
    "axs.set_ylabel('Total number of rentals per hour')"
   ]
  },
  {
   "cell_type": "code",
   "execution_count": 40,
   "metadata": {},
   "outputs": [
    {
     "data": {
      "text/plain": [
       "Text(0, 0.5, 'Total number of rentals per month')"
      ]
     },
     "execution_count": 40,
     "metadata": {},
     "output_type": "execute_result"
    },
    {
     "data": {
      "image/png": "[encoded data removed]",
      "text/plain": [
       "<Figure size 720x288 with 1 Axes>"
      ]
     },
     "metadata": {
      "needs_background": "light"
     },
     "output_type": "display_data"
    }
   ],
   "source": [
    "bikeplot2 = bike.groupby(bike[\"start_time\"].rename('Month').dt.month).size()\n",
    "\n",
    "fig, axs = plt.subplots(figsize=(10,4))\n",
    "bikeplot2.plot.area(ax=axs)\n",
    "axs.set_ylabel('Total number of rentals per month')"
   ]
  },
  {
   "cell_type": "markdown",
   "metadata": {},
   "source": [
    "Average usage time..."
   ]
  },
  {
   "cell_type": "code",
   "execution_count": 41,
   "metadata": {},
   "outputs": [],
   "source": [
    "# Merging bike and staion datasets\n",
    "stations.rename(columns={'Name': 'start_station_name'}, inplace=True)\n",
    "bike_station = pd.merge(bike, stations, on='start_station_name')"
   ]
  },
  {
   "cell_type": "markdown",
   "metadata": {},
   "source": [
    "... based on time of day:"
   ]
  },
  {
   "cell_type": "code",
   "execution_count": 42,
   "metadata": {},
   "outputs": [
    {
     "ename": "DataError",
     "evalue": "No numeric types to aggregate",
     "output_type": "error",
     "traceback": [
      "\u001b[1;31m---------------------------------------------------------------------------\u001b[0m",
      "\u001b[1;31mDataError\u001b[0m                                 Traceback (most recent call last)",
      "\u001b[1;32m<ipython-input-42-5b5e96a5bd44>\u001b[0m in \u001b[0;36m<module>\u001b[1;34m\u001b[0m\n\u001b[1;32m----> 1\u001b[1;33m \u001b[0mbike_station\u001b[0m\u001b[1;33m.\u001b[0m\u001b[0mgroupby\u001b[0m\u001b[1;33m(\u001b[0m\u001b[0mbike_station\u001b[0m\u001b[1;33m[\u001b[0m\u001b[1;34m'start_time'\u001b[0m\u001b[1;33m]\u001b[0m\u001b[1;33m.\u001b[0m\u001b[0mdt\u001b[0m\u001b[1;33m.\u001b[0m\u001b[0mhour\u001b[0m\u001b[1;33m)\u001b[0m\u001b[1;33m[\u001b[0m\u001b[1;34m'trip_duration'\u001b[0m\u001b[1;33m]\u001b[0m\u001b[1;33m.\u001b[0m\u001b[0mmean\u001b[0m\u001b[1;33m(\u001b[0m\u001b[1;33m)\u001b[0m\u001b[1;33m\u001b[0m\u001b[1;33m\u001b[0m\u001b[0m\n\u001b[0m",
      "\u001b[1;32m~\\anaconda3\\lib\\site-packages\\pandas\\core\\groupby\\groupby.py\u001b[0m in \u001b[0;36mmean\u001b[1;34m(self, *args, **kwargs)\u001b[0m\n\u001b[0;32m   1223\u001b[0m         \"\"\"\n\u001b[0;32m   1224\u001b[0m         \u001b[0mnv\u001b[0m\u001b[1;33m.\u001b[0m\u001b[0mvalidate_groupby_func\u001b[0m\u001b[1;33m(\u001b[0m\u001b[1;34m\"mean\"\u001b[0m\u001b[1;33m,\u001b[0m \u001b[0margs\u001b[0m\u001b[1;33m,\u001b[0m \u001b[0mkwargs\u001b[0m\u001b[1;33m,\u001b[0m \u001b[1;33m[\u001b[0m\u001b[1;34m\"numeric_only\"\u001b[0m\u001b[1;33m]\u001b[0m\u001b[1;33m)\u001b[0m\u001b[1;33m\u001b[0m\u001b[1;33m\u001b[0m\u001b[0m\n\u001b[1;32m-> 1225\u001b[1;33m         return self._cython_agg_general(\n\u001b[0m\u001b[0;32m   1226\u001b[0m             \u001b[1;34m\"mean\"\u001b[0m\u001b[1;33m,\u001b[0m \u001b[0malt\u001b[0m\u001b[1;33m=\u001b[0m\u001b[1;32mlambda\u001b[0m \u001b[0mx\u001b[0m\u001b[1;33m,\u001b[0m \u001b[0maxis\u001b[0m\u001b[1;33m:\u001b[0m \u001b[0mSeries\u001b[0m\u001b[1;33m(\u001b[0m\u001b[0mx\u001b[0m\u001b[1;33m)\u001b[0m\u001b[1;33m.\u001b[0m\u001b[0mmean\u001b[0m\u001b[1;33m(\u001b[0m\u001b[1;33m**\u001b[0m\u001b[0mkwargs\u001b[0m\u001b[1;33m)\u001b[0m\u001b[1;33m,\u001b[0m \u001b[1;33m**\u001b[0m\u001b[0mkwargs\u001b[0m\u001b[1;33m\u001b[0m\u001b[1;33m\u001b[0m\u001b[0m\n\u001b[0;32m   1227\u001b[0m         )\n",
      "\u001b[1;32m~\\anaconda3\\lib\\site-packages\\pandas\\core\\groupby\\groupby.py\u001b[0m in \u001b[0;36m_cython_agg_general\u001b[1;34m(self, how, alt, numeric_only, min_count)\u001b[0m\n\u001b[0;32m    906\u001b[0m \u001b[1;33m\u001b[0m\u001b[0m\n\u001b[0;32m    907\u001b[0m         \u001b[1;32mif\u001b[0m \u001b[0mlen\u001b[0m\u001b[1;33m(\u001b[0m\u001b[0moutput\u001b[0m\u001b[1;33m)\u001b[0m \u001b[1;33m==\u001b[0m \u001b[1;36m0\u001b[0m\u001b[1;33m:\u001b[0m\u001b[1;33m\u001b[0m\u001b[1;33m\u001b[0m\u001b[0m\n\u001b[1;32m--> 908\u001b[1;33m             \u001b[1;32mraise\u001b[0m \u001b[0mDataError\u001b[0m\u001b[1;33m(\u001b[0m\u001b[1;34m\"No numeric types to aggregate\"\u001b[0m\u001b[1;33m)\u001b[0m\u001b[1;33m\u001b[0m\u001b[1;33m\u001b[0m\u001b[0m\n\u001b[0m\u001b[0;32m    909\u001b[0m \u001b[1;33m\u001b[0m\u001b[0m\n\u001b[0;32m    910\u001b[0m         \u001b[1;32mreturn\u001b[0m \u001b[0mself\u001b[0m\u001b[1;33m.\u001b[0m\u001b[0m_wrap_aggregated_output\u001b[0m\u001b[1;33m(\u001b[0m\u001b[0moutput\u001b[0m\u001b[1;33m)\u001b[0m\u001b[1;33m\u001b[0m\u001b[1;33m\u001b[0m\u001b[0m\n",
      "\u001b[1;31mDataError\u001b[0m: No numeric types to aggregate"
     ]
    }
   ],
   "source": [
    "bike_station.groupby(bike_station['start_time'].dt.hour)['trip_duration'].mean()"
   ]
  },
  {
   "cell_type": "markdown",
   "metadata": {},
   "source": [
    "... based on user type:"
   ]
  },
  {
   "cell_type": "code",
   "execution_count": 43,
   "metadata": {},
   "outputs": [
    {
     "ename": "DataError",
     "evalue": "No numeric types to aggregate",
     "output_type": "error",
     "traceback": [
      "\u001b[1;31m---------------------------------------------------------------------------\u001b[0m",
      "\u001b[1;31mDataError\u001b[0m                                 Traceback (most recent call last)",
      "\u001b[1;32m<ipython-input-43-c55007cd754f>\u001b[0m in \u001b[0;36m<module>\u001b[1;34m\u001b[0m\n\u001b[1;32m----> 1\u001b[1;33m \u001b[0mbike_station\u001b[0m\u001b[1;33m.\u001b[0m\u001b[0mgroupby\u001b[0m\u001b[1;33m(\u001b[0m\u001b[1;34m'user_type'\u001b[0m\u001b[1;33m)\u001b[0m\u001b[1;33m[\u001b[0m\u001b[1;34m'trip_duration'\u001b[0m\u001b[1;33m]\u001b[0m\u001b[1;33m.\u001b[0m\u001b[0mmean\u001b[0m\u001b[1;33m(\u001b[0m\u001b[1;33m)\u001b[0m\u001b[1;33m\u001b[0m\u001b[1;33m\u001b[0m\u001b[0m\n\u001b[0m",
      "\u001b[1;32m~\\anaconda3\\lib\\site-packages\\pandas\\core\\groupby\\groupby.py\u001b[0m in \u001b[0;36mmean\u001b[1;34m(self, *args, **kwargs)\u001b[0m\n\u001b[0;32m   1223\u001b[0m         \"\"\"\n\u001b[0;32m   1224\u001b[0m         \u001b[0mnv\u001b[0m\u001b[1;33m.\u001b[0m\u001b[0mvalidate_groupby_func\u001b[0m\u001b[1;33m(\u001b[0m\u001b[1;34m\"mean\"\u001b[0m\u001b[1;33m,\u001b[0m \u001b[0margs\u001b[0m\u001b[1;33m,\u001b[0m \u001b[0mkwargs\u001b[0m\u001b[1;33m,\u001b[0m \u001b[1;33m[\u001b[0m\u001b[1;34m\"numeric_only\"\u001b[0m\u001b[1;33m]\u001b[0m\u001b[1;33m)\u001b[0m\u001b[1;33m\u001b[0m\u001b[1;33m\u001b[0m\u001b[0m\n\u001b[1;32m-> 1225\u001b[1;33m         return self._cython_agg_general(\n\u001b[0m\u001b[0;32m   1226\u001b[0m             \u001b[1;34m\"mean\"\u001b[0m\u001b[1;33m,\u001b[0m \u001b[0malt\u001b[0m\u001b[1;33m=\u001b[0m\u001b[1;32mlambda\u001b[0m \u001b[0mx\u001b[0m\u001b[1;33m,\u001b[0m \u001b[0maxis\u001b[0m\u001b[1;33m:\u001b[0m \u001b[0mSeries\u001b[0m\u001b[1;33m(\u001b[0m\u001b[0mx\u001b[0m\u001b[1;33m)\u001b[0m\u001b[1;33m.\u001b[0m\u001b[0mmean\u001b[0m\u001b[1;33m(\u001b[0m\u001b[1;33m**\u001b[0m\u001b[0mkwargs\u001b[0m\u001b[1;33m)\u001b[0m\u001b[1;33m,\u001b[0m \u001b[1;33m**\u001b[0m\u001b[0mkwargs\u001b[0m\u001b[1;33m\u001b[0m\u001b[1;33m\u001b[0m\u001b[0m\n\u001b[0;32m   1227\u001b[0m         )\n",
      "\u001b[1;32m~\\anaconda3\\lib\\site-packages\\pandas\\core\\groupby\\groupby.py\u001b[0m in \u001b[0;36m_cython_agg_general\u001b[1;34m(self, how, alt, numeric_only, min_count)\u001b[0m\n\u001b[0;32m    906\u001b[0m \u001b[1;33m\u001b[0m\u001b[0m\n\u001b[0;32m    907\u001b[0m         \u001b[1;32mif\u001b[0m \u001b[0mlen\u001b[0m\u001b[1;33m(\u001b[0m\u001b[0moutput\u001b[0m\u001b[1;33m)\u001b[0m \u001b[1;33m==\u001b[0m \u001b[1;36m0\u001b[0m\u001b[1;33m:\u001b[0m\u001b[1;33m\u001b[0m\u001b[1;33m\u001b[0m\u001b[0m\n\u001b[1;32m--> 908\u001b[1;33m             \u001b[1;32mraise\u001b[0m \u001b[0mDataError\u001b[0m\u001b[1;33m(\u001b[0m\u001b[1;34m\"No numeric types to aggregate\"\u001b[0m\u001b[1;33m)\u001b[0m\u001b[1;33m\u001b[0m\u001b[1;33m\u001b[0m\u001b[0m\n\u001b[0m\u001b[0;32m    909\u001b[0m \u001b[1;33m\u001b[0m\u001b[0m\n\u001b[0;32m    910\u001b[0m         \u001b[1;32mreturn\u001b[0m \u001b[0mself\u001b[0m\u001b[1;33m.\u001b[0m\u001b[0m_wrap_aggregated_output\u001b[0m\u001b[1;33m(\u001b[0m\u001b[0moutput\u001b[0m\u001b[1;33m)\u001b[0m\u001b[1;33m\u001b[0m\u001b[1;33m\u001b[0m\u001b[0m\n",
      "\u001b[1;31mDataError\u001b[0m: No numeric types to aggregate"
     ]
    }
   ],
   "source": [
    "bike_station.groupby('user_type')['trip_duration'].mean()"
   ]
  },
  {
   "cell_type": "markdown",
   "metadata": {},
   "source": [
    "... based on start station:"
   ]
  },
  {
   "cell_type": "code",
   "execution_count": 44,
   "metadata": {},
   "outputs": [
    {
     "ename": "DataError",
     "evalue": "No numeric types to aggregate",
     "output_type": "error",
     "traceback": [
      "\u001b[1;31m---------------------------------------------------------------------------\u001b[0m",
      "\u001b[1;31mDataError\u001b[0m                                 Traceback (most recent call last)",
      "\u001b[1;32m<ipython-input-44-f4f12397a3a0>\u001b[0m in \u001b[0;36m<module>\u001b[1;34m\u001b[0m\n\u001b[1;32m----> 1\u001b[1;33m \u001b[0mbike_station\u001b[0m\u001b[1;33m.\u001b[0m\u001b[0mgroupby\u001b[0m\u001b[1;33m(\u001b[0m\u001b[1;34m'start_station_name'\u001b[0m\u001b[1;33m)\u001b[0m\u001b[1;33m[\u001b[0m\u001b[1;34m'trip_duration'\u001b[0m\u001b[1;33m]\u001b[0m\u001b[1;33m.\u001b[0m\u001b[0mmean\u001b[0m\u001b[1;33m(\u001b[0m\u001b[1;33m)\u001b[0m\u001b[1;33m\u001b[0m\u001b[1;33m\u001b[0m\u001b[0m\n\u001b[0m",
      "\u001b[1;32m~\\anaconda3\\lib\\site-packages\\pandas\\core\\groupby\\groupby.py\u001b[0m in \u001b[0;36mmean\u001b[1;34m(self, *args, **kwargs)\u001b[0m\n\u001b[0;32m   1223\u001b[0m         \"\"\"\n\u001b[0;32m   1224\u001b[0m         \u001b[0mnv\u001b[0m\u001b[1;33m.\u001b[0m\u001b[0mvalidate_groupby_func\u001b[0m\u001b[1;33m(\u001b[0m\u001b[1;34m\"mean\"\u001b[0m\u001b[1;33m,\u001b[0m \u001b[0margs\u001b[0m\u001b[1;33m,\u001b[0m \u001b[0mkwargs\u001b[0m\u001b[1;33m,\u001b[0m \u001b[1;33m[\u001b[0m\u001b[1;34m\"numeric_only\"\u001b[0m\u001b[1;33m]\u001b[0m\u001b[1;33m)\u001b[0m\u001b[1;33m\u001b[0m\u001b[1;33m\u001b[0m\u001b[0m\n\u001b[1;32m-> 1225\u001b[1;33m         return self._cython_agg_general(\n\u001b[0m\u001b[0;32m   1226\u001b[0m             \u001b[1;34m\"mean\"\u001b[0m\u001b[1;33m,\u001b[0m \u001b[0malt\u001b[0m\u001b[1;33m=\u001b[0m\u001b[1;32mlambda\u001b[0m \u001b[0mx\u001b[0m\u001b[1;33m,\u001b[0m \u001b[0maxis\u001b[0m\u001b[1;33m:\u001b[0m \u001b[0mSeries\u001b[0m\u001b[1;33m(\u001b[0m\u001b[0mx\u001b[0m\u001b[1;33m)\u001b[0m\u001b[1;33m.\u001b[0m\u001b[0mmean\u001b[0m\u001b[1;33m(\u001b[0m\u001b[1;33m**\u001b[0m\u001b[0mkwargs\u001b[0m\u001b[1;33m)\u001b[0m\u001b[1;33m,\u001b[0m \u001b[1;33m**\u001b[0m\u001b[0mkwargs\u001b[0m\u001b[1;33m\u001b[0m\u001b[1;33m\u001b[0m\u001b[0m\n\u001b[0;32m   1227\u001b[0m         )\n",
      "\u001b[1;32m~\\anaconda3\\lib\\site-packages\\pandas\\core\\groupby\\groupby.py\u001b[0m in \u001b[0;36m_cython_agg_general\u001b[1;34m(self, how, alt, numeric_only, min_count)\u001b[0m\n\u001b[0;32m    906\u001b[0m \u001b[1;33m\u001b[0m\u001b[0m\n\u001b[0;32m    907\u001b[0m         \u001b[1;32mif\u001b[0m \u001b[0mlen\u001b[0m\u001b[1;33m(\u001b[0m\u001b[0moutput\u001b[0m\u001b[1;33m)\u001b[0m \u001b[1;33m==\u001b[0m \u001b[1;36m0\u001b[0m\u001b[1;33m:\u001b[0m\u001b[1;33m\u001b[0m\u001b[1;33m\u001b[0m\u001b[0m\n\u001b[1;32m--> 908\u001b[1;33m             \u001b[1;32mraise\u001b[0m \u001b[0mDataError\u001b[0m\u001b[1;33m(\u001b[0m\u001b[1;34m\"No numeric types to aggregate\"\u001b[0m\u001b[1;33m)\u001b[0m\u001b[1;33m\u001b[0m\u001b[1;33m\u001b[0m\u001b[0m\n\u001b[0m\u001b[0;32m    909\u001b[0m \u001b[1;33m\u001b[0m\u001b[0m\n\u001b[0;32m    910\u001b[0m         \u001b[1;32mreturn\u001b[0m \u001b[0mself\u001b[0m\u001b[1;33m.\u001b[0m\u001b[0m_wrap_aggregated_output\u001b[0m\u001b[1;33m(\u001b[0m\u001b[0moutput\u001b[0m\u001b[1;33m)\u001b[0m\u001b[1;33m\u001b[0m\u001b[1;33m\u001b[0m\u001b[0m\n",
      "\u001b[1;31mDataError\u001b[0m: No numeric types to aggregate"
     ]
    }
   ],
   "source": [
    "bike_station.groupby('start_station_name')['trip_duration'].mean()"
   ]
  },
  {
   "cell_type": "markdown",
   "metadata": {},
   "source": [
    "... based on district:"
   ]
  },
  {
   "cell_type": "code",
   "execution_count": 45,
   "metadata": {},
   "outputs": [
    {
     "ename": "DataError",
     "evalue": "No numeric types to aggregate",
     "output_type": "error",
     "traceback": [
      "\u001b[1;31m---------------------------------------------------------------------------\u001b[0m",
      "\u001b[1;31mDataError\u001b[0m                                 Traceback (most recent call last)",
      "\u001b[1;32m<ipython-input-45-25202e90309c>\u001b[0m in \u001b[0;36m<module>\u001b[1;34m\u001b[0m\n\u001b[1;32m----> 1\u001b[1;33m \u001b[0mbike_station\u001b[0m\u001b[1;33m.\u001b[0m\u001b[0mgroupby\u001b[0m\u001b[1;33m(\u001b[0m\u001b[1;34m'District'\u001b[0m\u001b[1;33m)\u001b[0m\u001b[1;33m[\u001b[0m\u001b[1;34m'trip_duration'\u001b[0m\u001b[1;33m]\u001b[0m\u001b[1;33m.\u001b[0m\u001b[0mmean\u001b[0m\u001b[1;33m(\u001b[0m\u001b[1;33m)\u001b[0m\u001b[1;33m\u001b[0m\u001b[1;33m\u001b[0m\u001b[0m\n\u001b[0m",
      "\u001b[1;32m~\\anaconda3\\lib\\site-packages\\pandas\\core\\groupby\\groupby.py\u001b[0m in \u001b[0;36mmean\u001b[1;34m(self, *args, **kwargs)\u001b[0m\n\u001b[0;32m   1223\u001b[0m         \"\"\"\n\u001b[0;32m   1224\u001b[0m         \u001b[0mnv\u001b[0m\u001b[1;33m.\u001b[0m\u001b[0mvalidate_groupby_func\u001b[0m\u001b[1;33m(\u001b[0m\u001b[1;34m\"mean\"\u001b[0m\u001b[1;33m,\u001b[0m \u001b[0margs\u001b[0m\u001b[1;33m,\u001b[0m \u001b[0mkwargs\u001b[0m\u001b[1;33m,\u001b[0m \u001b[1;33m[\u001b[0m\u001b[1;34m\"numeric_only\"\u001b[0m\u001b[1;33m]\u001b[0m\u001b[1;33m)\u001b[0m\u001b[1;33m\u001b[0m\u001b[1;33m\u001b[0m\u001b[0m\n\u001b[1;32m-> 1225\u001b[1;33m         return self._cython_agg_general(\n\u001b[0m\u001b[0;32m   1226\u001b[0m             \u001b[1;34m\"mean\"\u001b[0m\u001b[1;33m,\u001b[0m \u001b[0malt\u001b[0m\u001b[1;33m=\u001b[0m\u001b[1;32mlambda\u001b[0m \u001b[0mx\u001b[0m\u001b[1;33m,\u001b[0m \u001b[0maxis\u001b[0m\u001b[1;33m:\u001b[0m \u001b[0mSeries\u001b[0m\u001b[1;33m(\u001b[0m\u001b[0mx\u001b[0m\u001b[1;33m)\u001b[0m\u001b[1;33m.\u001b[0m\u001b[0mmean\u001b[0m\u001b[1;33m(\u001b[0m\u001b[1;33m**\u001b[0m\u001b[0mkwargs\u001b[0m\u001b[1;33m)\u001b[0m\u001b[1;33m,\u001b[0m \u001b[1;33m**\u001b[0m\u001b[0mkwargs\u001b[0m\u001b[1;33m\u001b[0m\u001b[1;33m\u001b[0m\u001b[0m\n\u001b[0;32m   1227\u001b[0m         )\n",
      "\u001b[1;32m~\\anaconda3\\lib\\site-packages\\pandas\\core\\groupby\\groupby.py\u001b[0m in \u001b[0;36m_cython_agg_general\u001b[1;34m(self, how, alt, numeric_only, min_count)\u001b[0m\n\u001b[0;32m    906\u001b[0m \u001b[1;33m\u001b[0m\u001b[0m\n\u001b[0;32m    907\u001b[0m         \u001b[1;32mif\u001b[0m \u001b[0mlen\u001b[0m\u001b[1;33m(\u001b[0m\u001b[0moutput\u001b[0m\u001b[1;33m)\u001b[0m \u001b[1;33m==\u001b[0m \u001b[1;36m0\u001b[0m\u001b[1;33m:\u001b[0m\u001b[1;33m\u001b[0m\u001b[1;33m\u001b[0m\u001b[0m\n\u001b[1;32m--> 908\u001b[1;33m             \u001b[1;32mraise\u001b[0m \u001b[0mDataError\u001b[0m\u001b[1;33m(\u001b[0m\u001b[1;34m\"No numeric types to aggregate\"\u001b[0m\u001b[1;33m)\u001b[0m\u001b[1;33m\u001b[0m\u001b[1;33m\u001b[0m\u001b[0m\n\u001b[0m\u001b[0;32m    909\u001b[0m \u001b[1;33m\u001b[0m\u001b[0m\n\u001b[0;32m    910\u001b[0m         \u001b[1;32mreturn\u001b[0m \u001b[0mself\u001b[0m\u001b[1;33m.\u001b[0m\u001b[0m_wrap_aggregated_output\u001b[0m\u001b[1;33m(\u001b[0m\u001b[0moutput\u001b[0m\u001b[1;33m)\u001b[0m\u001b[1;33m\u001b[0m\u001b[1;33m\u001b[0m\u001b[0m\n",
      "\u001b[1;31mDataError\u001b[0m: No numeric types to aggregate"
     ]
    }
   ],
   "source": [
    "bike_station.groupby('District')['trip_duration'].mean()"
   ]
  },
  {
   "cell_type": "markdown",
   "metadata": {},
   "source": [
    "Total duration of usage time per bike:"
   ]
  },
  {
   "cell_type": "code",
   "execution_count": 46,
   "metadata": {},
   "outputs": [
    {
     "data": {
      "text/html": [
       "<div>\n",
       "<style scoped>\n",
       "    .dataframe tbody tr th:only-of-type {\n",
       "        vertical-align: middle;\n",
       "    }\n",
       "\n",
       "    .dataframe tbody tr th {\n",
       "        vertical-align: top;\n",
       "    }\n",
       "\n",
       "    .dataframe thead th {\n",
       "        text-align: right;\n",
       "    }\n",
       "</style>\n",
       "<table border=\"1\" class=\"dataframe\">\n",
       "  <thead>\n",
       "    <tr style=\"text-align: right;\">\n",
       "      <th></th>\n",
       "      <th>bike_id</th>\n",
       "      <th>trip_duration</th>\n",
       "    </tr>\n",
       "  </thead>\n",
       "  <tbody>\n",
       "    <tr>\n",
       "      <th>990</th>\n",
       "      <td>1053</td>\n",
       "      <td>349 days 06:25:10.621000</td>\n",
       "    </tr>\n",
       "    <tr>\n",
       "      <th>360</th>\n",
       "      <td>390</td>\n",
       "      <td>169 days 21:38:34.975000</td>\n",
       "    </tr>\n",
       "    <tr>\n",
       "      <th>1051</th>\n",
       "      <td>1116</td>\n",
       "      <td>128 days 08:48:44.094000</td>\n",
       "    </tr>\n",
       "    <tr>\n",
       "      <th>53</th>\n",
       "      <td>56</td>\n",
       "      <td>92 days 21:10:45.448000</td>\n",
       "    </tr>\n",
       "    <tr>\n",
       "      <th>1</th>\n",
       "      <td>2</td>\n",
       "      <td>90 days 18:45:03.191000</td>\n",
       "    </tr>\n",
       "    <tr>\n",
       "      <th>...</th>\n",
       "      <td>...</td>\n",
       "      <td>...</td>\n",
       "    </tr>\n",
       "    <tr>\n",
       "      <th>522</th>\n",
       "      <td>563</td>\n",
       "      <td>0 days 00:14:46</td>\n",
       "    </tr>\n",
       "    <tr>\n",
       "      <th>1232</th>\n",
       "      <td>1301</td>\n",
       "      <td>0 days 00:11:21.454000</td>\n",
       "    </tr>\n",
       "    <tr>\n",
       "      <th>1584</th>\n",
       "      <td>1716</td>\n",
       "      <td>0 days 00:11:10.696000</td>\n",
       "    </tr>\n",
       "    <tr>\n",
       "      <th>1764</th>\n",
       "      <td>1897</td>\n",
       "      <td>0 days 00:05:11</td>\n",
       "    </tr>\n",
       "    <tr>\n",
       "      <th>1609</th>\n",
       "      <td>1741</td>\n",
       "      <td>0 days 00:04:12</td>\n",
       "    </tr>\n",
       "  </tbody>\n",
       "</table>\n",
       "<p>1798 rows × 2 columns</p>\n",
       "</div>"
      ],
      "text/plain": [
       "      bike_id            trip_duration\n",
       "990      1053 349 days 06:25:10.621000\n",
       "360       390 169 days 21:38:34.975000\n",
       "1051     1116 128 days 08:48:44.094000\n",
       "53         56  92 days 21:10:45.448000\n",
       "1           2  90 days 18:45:03.191000\n",
       "...       ...                      ...\n",
       "522       563          0 days 00:14:46\n",
       "1232     1301   0 days 00:11:21.454000\n",
       "1584     1716   0 days 00:11:10.696000\n",
       "1764     1897          0 days 00:05:11\n",
       "1609     1741          0 days 00:04:12\n",
       "\n",
       "[1798 rows x 2 columns]"
      ]
     },
     "execution_count": 46,
     "metadata": {},
     "output_type": "execute_result"
    }
   ],
   "source": [
    "time_in_use = bike_station.groupby('bike_id')['trip_duration'].sum().reset_index()\n",
    "time_in_use.sort_values('trip_duration', ascending=False)"
   ]
  },
  {
   "cell_type": "markdown",
   "metadata": {},
   "source": [
    "Fleet usage:"
   ]
  },
  {
   "cell_type": "code",
   "execution_count": 47,
   "metadata": {},
   "outputs": [
    {
     "data": {
      "text/plain": [
       "Deployment Year\n",
       "2011.0     849\n",
       "2012.0     770\n",
       "2013.0     258\n",
       "2014.0     241\n",
       "2015.0     330\n",
       "2016.0     470\n",
       "2017.0     175\n",
       "2018.0    1079\n",
       "2019.0     891\n",
       "2020.0     541\n",
       "2021.0     693\n",
       "2022.0     410\n",
       "Name: Total docks, dtype: int64"
      ]
     },
     "execution_count": 47,
     "metadata": {},
     "output_type": "execute_result"
    }
   ],
   "source": [
    "# Total number of added docks per year\n",
    "total_fleet_size = stations.groupby('Deployment Year')['Total docks'].sum()\n",
    "total_fleet_size"
   ]
  },
  {
   "cell_type": "code",
   "execution_count": 48,
   "metadata": {},
   "outputs": [
    {
     "name": "stdout",
     "output_type": "stream",
     "text": [
      "Total fleet size in 2016:\n"
     ]
    },
    {
     "data": {
      "text/plain": [
       "2918"
      ]
     },
     "execution_count": 48,
     "metadata": {},
     "output_type": "execute_result"
    }
   ],
   "source": [
    "# Total fleet size in 2016 (assuming there was no loss of formerly built docks and all the docks added in 2016\n",
    "# were added at the beginning of the year)\n",
    "fs_2016 = sum(total_fleet_size[0:2016])\n",
    "print('Total fleet size in 2016:')\n",
    "fs_2016"
   ]
  },
  {
   "cell_type": "markdown",
   "metadata": {},
   "source": [
    "\n",
    "## Temporal Demand Patterns and Seasonality\n",
    "\n",
    "In the following, we want to demonstrate how fleet usage varies with regard to different temporal constellations.\n",
    "\n",
    "### Fleet Usage Variation During a Day\n",
    "\n",
    "Here we calculate the average amount of bookings (counted with start_time) per hour of a day to show how fleet usage changes during a day. We can observe, that there is higher demand for bikes during daytime than at night. Moreover we can see peaks of usage within the so-called 'rush hours': demand for bikes is the highest at 8 am, when people have to get to work, and at 5 pm, when people want to go back to their homes after work.\n"
   ]
  },
  {
   "cell_type": "code",
   "execution_count": 49,
   "metadata": {},
   "outputs": [
    {
     "data": {
      "image/png": "[encoded data removed]",
      "text/plain": [
       "<Figure size 432x288 with 1 Axes>"
      ]
     },
     "metadata": {
      "needs_background": "light"
     },
     "output_type": "display_data"
    }
   ],
   "source": [
    "#Count bookings per start_time for each hour of a day (0-23)\n",
    "#Devide by 365 to get a daily average\n",
    "hour_of_a_day = []\n",
    "for i in range(0,23):\n",
    "    hour_of_a_day.append([i, bike['start_time'].loc[(bike['start_time'].dt.hour) == i].count()/365])\n",
    "hour_of_a_day = pd.DataFrame(hour_of_a_day)\n",
    "\n",
    "# Plotting\n",
    "plt.bar(hour_of_a_day[0], hour_of_a_day[1])\n",
    "plt.title('Bike Bookings per Hour of Day')\n",
    "plt.xlabel('Hour of a day')\n",
    "plt.ylabel('Average Amount of Bookings')\n",
    "plt.show()"
   ]
  },
  {
   "cell_type": "markdown",
   "metadata": {},
   "source": [
    "\n",
    "### Fleet Usage Variation During a Week\n",
    "\n",
    "Here we calculate the average amount of bookings (counted with start_time) per day of a week (Monday to Sunday) to show how fleet usage changes during a week. We can observe, that there is higher demand for bikes during the week than on weekends. This aligns quite well wtih the findings of the daily variation of fleet usage - bike demand seems to be heavily driven by work.\n"
   ]
  },
  {
   "cell_type": "code",
   "execution_count": 50,
   "metadata": {},
   "outputs": [
    {
     "data": {
      "image/png": "[encoded data removed]",
      "text/plain": [
       "<Figure size 432x288 with 1 Axes>"
      ]
     },
     "metadata": {
      "needs_background": "light"
     },
     "output_type": "display_data"
    }
   ],
   "source": [
    "#Count bookings per start_time for each day of a week\n",
    "#Devide by 52 to get an average value for a week\n",
    "bike_day_of_a_week = []\n",
    "for i in range(0,7):\n",
    "    bike_day_of_a_week.append([i,bike['start_time'].loc[(bike['start_time'].dt.dayofweek) == i].count()/52])\n",
    "bike_day_of_a_week = pd.DataFrame(bike_day_of_a_week)\n",
    "\n",
    "#Plotting\n",
    "days_of_a_week = ['Mon', 'Tue', 'Wed', 'Thu', 'Fri', 'Sat', 'Sun']\n",
    "plt.bar(days_of_a_week,bike_day_of_a_week[1])\n",
    "plt.title('Bike Bookings per Day of a Week')\n",
    "plt.xlabel('Days of Week')\n",
    "plt.ylabel('Number of Bookings')\n",
    "plt.show()"
   ]
  },
  {
   "cell_type": "markdown",
   "metadata": {},
   "source": [
    "\n",
    "### Fleet Usage Variation During a Year\n",
    "\n",
    "Here we calculate the total amount of bookings (counted with start_time) on a monthly basis to show how fleet usage changes during a year. We can observe, that there is significantly higher demand for bikes in summer months than during winter. This seems all too understandable, as the weather and temperatures in summer tend to invite cycling\n"
   ]
  },
  {
   "cell_type": "code",
   "execution_count": 51,
   "metadata": {},
   "outputs": [
    {
     "data": {
      "image/png": "[encoded data removed]",
      "text/plain": [
       "<Figure size 432x288 with 1 Axes>"
      ]
     },
     "metadata": {
      "needs_background": "light"
     },
     "output_type": "display_data"
    }
   ],
   "source": [
    "#Count the number of bookings on a monthly basis\n",
    "bike.index = bike.start_time\n",
    "bike_month = pd.Series(bike['start_time'].resample('1M').count())\n",
    "\n",
    "#Plotting\n",
    "months =['Jan', 'Feb', 'Mar', 'Apr', 'May' , 'Jun' , 'Jul' , 'Aug' , 'Sep' , 'Okt' , 'Nov' , 'Dec']\n",
    "plt.bar(months,bike_month)\n",
    "plt.title('Bookings per Month')\n",
    "plt.xlabel('Months')\n",
    "plt.ylabel('Total Amount of Bookings')\n",
    "plt.show()"
   ]
  },
  {
   "cell_type": "code",
   "execution_count": null,
   "metadata": {},
   "outputs": [],
   "source": []
  }
 ],
 "metadata": {
  "kernelspec": {
   "display_name": "Python 3",
   "language": "python",
   "name": "python3"
  },
  "language_info": {
   "codemirror_mode": {
    "name": "ipython",
    "version": 3
   },
   "file_extension": ".py",
   "mimetype": "text/x-python",
   "name": "python",
   "nbconvert_exporter": "python",
   "pygments_lexer": "ipython3",
   "version": "3.8.3"
  }
 },
 "nbformat": 4,
 "nbformat_minor": 5
}
