{
 "cells": [
  {
   "cell_type": "code",
   "execution_count": 1,
   "id": "1c65abc2-0b20-4a85-a56a-41803cc32540",
   "metadata": {},
   "outputs": [],
   "source": [
    "import numpy as np\n",
    "from numpy import mean\n",
    "from numpy import std\n",
    "\n",
    "import pandas as pd\n",
    "import matplotlib as mpl\n",
    "import matplotlib.pyplot as plt\n",
    "from matplotlib import rcParams\n",
    "import seaborn as sns\n",
    "import datetime\n",
    "\n",
    "from sklearn.linear_model import LinearRegression\n",
    "from sklearn.metrics import mean_squared_error, mean_absolute_error, r2_score\n",
    "from sklearn.metrics import mean_squared_error\n",
    "from sklearn.preprocessing import PolynomialFeatures"
   ]
  },
  {
   "cell_type": "code",
   "execution_count": 2,
   "id": "c39b1161-bb9d-4d15-9940-ca401538b626",
   "metadata": {},
   "outputs": [],
   "source": [
    "pred_model = pd.read_csv(\"Pred_Model.csv\")"
   ]
  },
  {
   "cell_type": "code",
   "execution_count": 3,
   "id": "546385ca-96fc-4d9f-b461-006ada96fe01",
   "metadata": {
    "tags": []
   },
   "outputs": [],
   "source": [
    "pred_model['start_time'] = pd.to_datetime(pred_model['start_time'])\n",
    "pred_model['end_time'] = pd.to_datetime(pred_model['end_time'])"
   ]
  },
  {
   "cell_type": "code",
   "execution_count": 4,
   "id": "896a72f9-43ad-4037-baeb-1a9fd4eb1017",
   "metadata": {
    "tags": []
   },
   "outputs": [],
   "source": [
    "pred_model_counts = pred_model.groupby([pd.Grouper(key='start_time', freq = 'H')]).size().to_frame('counts')"
   ]
  },
  {
   "cell_type": "code",
   "execution_count": 5,
   "id": "eaa3e09c-02c0-480a-ba6b-0a6ba50d316a",
   "metadata": {},
   "outputs": [
    {
     "data": {
      "text/plain": [
       "1235121"
      ]
     },
     "execution_count": 5,
     "metadata": {},
     "output_type": "execute_result"
    }
   ],
   "source": [
    "pred_model_counts[\"counts\"].sum()"
   ]
  },
  {
   "cell_type": "code",
   "execution_count": 6,
   "id": "ec08011b-3329-4b18-b496-659b4542de87",
   "metadata": {
    "tags": []
   },
   "outputs": [],
   "source": [
    "# make index to column to create day of week and month based on date\n",
    "pred_model_counts['index1'] = pred_model_counts.index\n",
    "pred_model_counts[\"hourofday\"] = pred_model_counts[\"index1\"].dt.hour\n",
    "pred_model_counts[\"weekday\"] = pred_model_counts[\"index1\"].dt.dayofweek\n",
    "pred_model_counts[\"month\"] = pred_model_counts[\"index1\"].dt.month"
   ]
  },
  {
   "cell_type": "code",
   "execution_count": 7,
   "id": "8588b05c-b12a-4245-a586-5b6263db0e4e",
   "metadata": {
    "tags": []
   },
   "outputs": [],
   "source": [
    "pred_model_counts = pred_model_counts.drop('index1', axis=1)"
   ]
  },
  {
   "cell_type": "code",
   "execution_count": 8,
   "id": "6a86ba7d-2c06-4d91-80a9-49e01c26e633",
   "metadata": {},
   "outputs": [
    {
     "data": {
      "text/html": [
       "<div>\n",
       "<style scoped>\n",
       "    .dataframe tbody tr th:only-of-type {\n",
       "        vertical-align: middle;\n",
       "    }\n",
       "\n",
       "    .dataframe tbody tr th {\n",
       "        vertical-align: top;\n",
       "    }\n",
       "\n",
       "    .dataframe thead th {\n",
       "        text-align: right;\n",
       "    }\n",
       "</style>\n",
       "<table border=\"1\" class=\"dataframe\">\n",
       "  <thead>\n",
       "    <tr style=\"text-align: right;\">\n",
       "      <th></th>\n",
       "      <th>counts</th>\n",
       "      <th>hourofday</th>\n",
       "      <th>weekday</th>\n",
       "      <th>month</th>\n",
       "    </tr>\n",
       "    <tr>\n",
       "      <th>daytime</th>\n",
       "      <th></th>\n",
       "      <th></th>\n",
       "      <th></th>\n",
       "      <th></th>\n",
       "    </tr>\n",
       "  </thead>\n",
       "  <tbody>\n",
       "    <tr>\n",
       "      <th>2016-01-01 00:00:00</th>\n",
       "      <td>13</td>\n",
       "      <td>0</td>\n",
       "      <td>4</td>\n",
       "      <td>1</td>\n",
       "    </tr>\n",
       "    <tr>\n",
       "      <th>2016-01-01 01:00:00</th>\n",
       "      <td>14</td>\n",
       "      <td>1</td>\n",
       "      <td>4</td>\n",
       "      <td>1</td>\n",
       "    </tr>\n",
       "    <tr>\n",
       "      <th>2016-01-01 02:00:00</th>\n",
       "      <td>9</td>\n",
       "      <td>2</td>\n",
       "      <td>4</td>\n",
       "      <td>1</td>\n",
       "    </tr>\n",
       "    <tr>\n",
       "      <th>2016-01-01 03:00:00</th>\n",
       "      <td>1</td>\n",
       "      <td>3</td>\n",
       "      <td>4</td>\n",
       "      <td>1</td>\n",
       "    </tr>\n",
       "    <tr>\n",
       "      <th>2016-01-01 04:00:00</th>\n",
       "      <td>0</td>\n",
       "      <td>4</td>\n",
       "      <td>4</td>\n",
       "      <td>1</td>\n",
       "    </tr>\n",
       "    <tr>\n",
       "      <th>...</th>\n",
       "      <td>...</td>\n",
       "      <td>...</td>\n",
       "      <td>...</td>\n",
       "      <td>...</td>\n",
       "    </tr>\n",
       "    <tr>\n",
       "      <th>2016-12-31 19:00:00</th>\n",
       "      <td>20</td>\n",
       "      <td>19</td>\n",
       "      <td>5</td>\n",
       "      <td>12</td>\n",
       "    </tr>\n",
       "    <tr>\n",
       "      <th>2016-12-31 20:00:00</th>\n",
       "      <td>13</td>\n",
       "      <td>20</td>\n",
       "      <td>5</td>\n",
       "      <td>12</td>\n",
       "    </tr>\n",
       "    <tr>\n",
       "      <th>2016-12-31 21:00:00</th>\n",
       "      <td>22</td>\n",
       "      <td>21</td>\n",
       "      <td>5</td>\n",
       "      <td>12</td>\n",
       "    </tr>\n",
       "    <tr>\n",
       "      <th>2016-12-31 22:00:00</th>\n",
       "      <td>6</td>\n",
       "      <td>22</td>\n",
       "      <td>5</td>\n",
       "      <td>12</td>\n",
       "    </tr>\n",
       "    <tr>\n",
       "      <th>2016-12-31 23:00:00</th>\n",
       "      <td>6</td>\n",
       "      <td>23</td>\n",
       "      <td>5</td>\n",
       "      <td>12</td>\n",
       "    </tr>\n",
       "  </tbody>\n",
       "</table>\n",
       "<p>8784 rows × 4 columns</p>\n",
       "</div>"
      ],
      "text/plain": [
       "                     counts  hourofday  weekday  month\n",
       "daytime                                               \n",
       "2016-01-01 00:00:00      13          0        4      1\n",
       "2016-01-01 01:00:00      14          1        4      1\n",
       "2016-01-01 02:00:00       9          2        4      1\n",
       "2016-01-01 03:00:00       1          3        4      1\n",
       "2016-01-01 04:00:00       0          4        4      1\n",
       "...                     ...        ...      ...    ...\n",
       "2016-12-31 19:00:00      20         19        5     12\n",
       "2016-12-31 20:00:00      13         20        5     12\n",
       "2016-12-31 21:00:00      22         21        5     12\n",
       "2016-12-31 22:00:00       6         22        5     12\n",
       "2016-12-31 23:00:00       6         23        5     12\n",
       "\n",
       "[8784 rows x 4 columns]"
      ]
     },
     "execution_count": 8,
     "metadata": {},
     "output_type": "execute_result"
    }
   ],
   "source": [
    "pred_model_counts.index.names = ['daytime']\n",
    "pred_model_counts.index = pd.to_datetime(pred_model_counts.index)\n",
    "pred_model_counts"
   ]
  },
  {
   "cell_type": "markdown",
   "id": "8b0d51f4-669b-4f24-9fba-1baaf3fe88f0",
   "metadata": {},
   "source": [
    "## Import weather and merge with pred_model_counts"
   ]
  },
  {
   "cell_type": "code",
   "execution_count": 9,
   "id": "f02ef335-6c42-49d5-a535-e416213aeb05",
   "metadata": {
    "tags": []
   },
   "outputs": [
    {
     "data": {
      "text/html": [
       "<div>\n",
       "<style scoped>\n",
       "    .dataframe tbody tr th:only-of-type {\n",
       "        vertical-align: middle;\n",
       "    }\n",
       "\n",
       "    .dataframe tbody tr th {\n",
       "        vertical-align: top;\n",
       "    }\n",
       "\n",
       "    .dataframe thead th {\n",
       "        text-align: right;\n",
       "    }\n",
       "</style>\n",
       "<table border=\"1\" class=\"dataframe\">\n",
       "  <thead>\n",
       "    <tr style=\"text-align: right;\">\n",
       "      <th></th>\n",
       "      <th>Unnamed: 0</th>\n",
       "      <th>max_temp</th>\n",
       "      <th>min_temp</th>\n",
       "      <th>precip</th>\n",
       "      <th>interp_maxtemp</th>\n",
       "      <th>interp_mintemp</th>\n",
       "      <th>interp_precip</th>\n",
       "      <th>update_maxtemp</th>\n",
       "      <th>update_mintemp</th>\n",
       "      <th>update_precip</th>\n",
       "    </tr>\n",
       "  </thead>\n",
       "  <tbody>\n",
       "    <tr>\n",
       "      <th>0</th>\n",
       "      <td>2015-01-01 06:00:00</td>\n",
       "      <td>-5.6</td>\n",
       "      <td>-5.6</td>\n",
       "      <td>0.0</td>\n",
       "      <td>-5.6</td>\n",
       "      <td>-5.6</td>\n",
       "      <td>0.0</td>\n",
       "      <td>-5.6</td>\n",
       "      <td>-5.6</td>\n",
       "      <td>0.0</td>\n",
       "    </tr>\n",
       "    <tr>\n",
       "      <th>1</th>\n",
       "      <td>2015-01-01 07:00:00</td>\n",
       "      <td>-5.6</td>\n",
       "      <td>-5.6</td>\n",
       "      <td>0.0</td>\n",
       "      <td>-5.6</td>\n",
       "      <td>-5.6</td>\n",
       "      <td>0.0</td>\n",
       "      <td>-5.6</td>\n",
       "      <td>-5.6</td>\n",
       "      <td>0.0</td>\n",
       "    </tr>\n",
       "    <tr>\n",
       "      <th>2</th>\n",
       "      <td>2015-01-01 08:00:00</td>\n",
       "      <td>-5.6</td>\n",
       "      <td>-5.6</td>\n",
       "      <td>0.0</td>\n",
       "      <td>-5.6</td>\n",
       "      <td>-5.6</td>\n",
       "      <td>0.0</td>\n",
       "      <td>-5.6</td>\n",
       "      <td>-5.6</td>\n",
       "      <td>0.0</td>\n",
       "    </tr>\n",
       "    <tr>\n",
       "      <th>3</th>\n",
       "      <td>2015-01-01 09:00:00</td>\n",
       "      <td>-4.4</td>\n",
       "      <td>-4.4</td>\n",
       "      <td>0.0</td>\n",
       "      <td>-4.4</td>\n",
       "      <td>-4.4</td>\n",
       "      <td>0.0</td>\n",
       "      <td>-4.4</td>\n",
       "      <td>-4.4</td>\n",
       "      <td>0.0</td>\n",
       "    </tr>\n",
       "    <tr>\n",
       "      <th>4</th>\n",
       "      <td>2015-01-01 10:00:00</td>\n",
       "      <td>-5.6</td>\n",
       "      <td>-5.6</td>\n",
       "      <td>0.0</td>\n",
       "      <td>-5.6</td>\n",
       "      <td>-5.6</td>\n",
       "      <td>0.0</td>\n",
       "      <td>-5.6</td>\n",
       "      <td>-5.6</td>\n",
       "      <td>0.0</td>\n",
       "    </tr>\n",
       "  </tbody>\n",
       "</table>\n",
       "</div>"
      ],
      "text/plain": [
       "            Unnamed: 0  max_temp  min_temp  precip  interp_maxtemp  \\\n",
       "0  2015-01-01 06:00:00      -5.6      -5.6     0.0            -5.6   \n",
       "1  2015-01-01 07:00:00      -5.6      -5.6     0.0            -5.6   \n",
       "2  2015-01-01 08:00:00      -5.6      -5.6     0.0            -5.6   \n",
       "3  2015-01-01 09:00:00      -4.4      -4.4     0.0            -4.4   \n",
       "4  2015-01-01 10:00:00      -5.6      -5.6     0.0            -5.6   \n",
       "\n",
       "   interp_mintemp  interp_precip  update_maxtemp  update_mintemp  \\\n",
       "0            -5.6            0.0            -5.6            -5.6   \n",
       "1            -5.6            0.0            -5.6            -5.6   \n",
       "2            -5.6            0.0            -5.6            -5.6   \n",
       "3            -4.4            0.0            -4.4            -4.4   \n",
       "4            -5.6            0.0            -5.6            -5.6   \n",
       "\n",
       "   update_precip  \n",
       "0            0.0  \n",
       "1            0.0  \n",
       "2            0.0  \n",
       "3            0.0  \n",
       "4            0.0  "
      ]
     },
     "execution_count": 9,
     "metadata": {},
     "output_type": "execute_result"
    }
   ],
   "source": [
    "weather_hourly = pd.read_csv('weather_hourly.csv')\n",
    "weather_hourly.head()"
   ]
  },
  {
   "cell_type": "code",
   "execution_count": 10,
   "id": "82d91869-fcb6-4432-8438-065dd31c24be",
   "metadata": {
    "tags": []
   },
   "outputs": [
    {
     "data": {
      "text/html": [
       "<div>\n",
       "<style scoped>\n",
       "    .dataframe tbody tr th:only-of-type {\n",
       "        vertical-align: middle;\n",
       "    }\n",
       "\n",
       "    .dataframe tbody tr th {\n",
       "        vertical-align: top;\n",
       "    }\n",
       "\n",
       "    .dataframe thead th {\n",
       "        text-align: right;\n",
       "    }\n",
       "</style>\n",
       "<table border=\"1\" class=\"dataframe\">\n",
       "  <thead>\n",
       "    <tr style=\"text-align: right;\">\n",
       "      <th></th>\n",
       "      <th>update_precip</th>\n",
       "      <th>temp_av</th>\n",
       "    </tr>\n",
       "    <tr>\n",
       "      <th>daytime</th>\n",
       "      <th></th>\n",
       "      <th></th>\n",
       "    </tr>\n",
       "  </thead>\n",
       "  <tbody>\n",
       "    <tr>\n",
       "      <th>2015-01-01 06:00:00</th>\n",
       "      <td>0.0</td>\n",
       "      <td>-5.6</td>\n",
       "    </tr>\n",
       "    <tr>\n",
       "      <th>2015-01-01 07:00:00</th>\n",
       "      <td>0.0</td>\n",
       "      <td>-5.6</td>\n",
       "    </tr>\n",
       "    <tr>\n",
       "      <th>2015-01-01 08:00:00</th>\n",
       "      <td>0.0</td>\n",
       "      <td>-5.6</td>\n",
       "    </tr>\n",
       "    <tr>\n",
       "      <th>2015-01-01 09:00:00</th>\n",
       "      <td>0.0</td>\n",
       "      <td>-4.4</td>\n",
       "    </tr>\n",
       "    <tr>\n",
       "      <th>2015-01-01 10:00:00</th>\n",
       "      <td>0.0</td>\n",
       "      <td>-5.6</td>\n",
       "    </tr>\n",
       "    <tr>\n",
       "      <th>...</th>\n",
       "      <td>...</td>\n",
       "      <td>...</td>\n",
       "    </tr>\n",
       "    <tr>\n",
       "      <th>2020-01-02 01:00:00</th>\n",
       "      <td>0.0</td>\n",
       "      <td>3.3</td>\n",
       "    </tr>\n",
       "    <tr>\n",
       "      <th>2020-01-02 02:00:00</th>\n",
       "      <td>0.0</td>\n",
       "      <td>3.3</td>\n",
       "    </tr>\n",
       "    <tr>\n",
       "      <th>2020-01-02 03:00:00</th>\n",
       "      <td>0.0</td>\n",
       "      <td>2.8</td>\n",
       "    </tr>\n",
       "    <tr>\n",
       "      <th>2020-01-02 04:00:00</th>\n",
       "      <td>0.0</td>\n",
       "      <td>2.8</td>\n",
       "    </tr>\n",
       "    <tr>\n",
       "      <th>2020-01-02 05:00:00</th>\n",
       "      <td>0.0</td>\n",
       "      <td>2.2</td>\n",
       "    </tr>\n",
       "  </tbody>\n",
       "</table>\n",
       "<p>43848 rows × 2 columns</p>\n",
       "</div>"
      ],
      "text/plain": [
       "                     update_precip  temp_av\n",
       "daytime                                    \n",
       "2015-01-01 06:00:00            0.0     -5.6\n",
       "2015-01-01 07:00:00            0.0     -5.6\n",
       "2015-01-01 08:00:00            0.0     -5.6\n",
       "2015-01-01 09:00:00            0.0     -4.4\n",
       "2015-01-01 10:00:00            0.0     -5.6\n",
       "...                            ...      ...\n",
       "2020-01-02 01:00:00            0.0      3.3\n",
       "2020-01-02 02:00:00            0.0      3.3\n",
       "2020-01-02 03:00:00            0.0      2.8\n",
       "2020-01-02 04:00:00            0.0      2.8\n",
       "2020-01-02 05:00:00            0.0      2.2\n",
       "\n",
       "[43848 rows x 2 columns]"
      ]
     },
     "execution_count": 10,
     "metadata": {},
     "output_type": "execute_result"
    }
   ],
   "source": [
    "weatherhour = weather_hourly.drop(columns = ['max_temp','min_temp','precip','interp_maxtemp','interp_mintemp','interp_precip'])\n",
    "weatherhour['temp_av'] = (weatherhour['update_maxtemp'] + weatherhour['update_mintemp']) / 2\n",
    "weatherhour = weatherhour.drop(columns = ['update_mintemp', 'update_maxtemp'])\n",
    "weatherhour = weatherhour.set_index('Unnamed: 0')\n",
    "weatherhour.index.names = ['daytime']\n",
    "weatherhour.index = pd.to_datetime(weatherhour.index)\n",
    "weatherhour"
   ]
  },
  {
   "cell_type": "code",
   "execution_count": 11,
   "id": "e700855d",
   "metadata": {
    "scrolled": true
   },
   "outputs": [
    {
     "name": "stdout",
     "output_type": "stream",
     "text": [
      "<class 'pandas.core.frame.DataFrame'>\n",
      "DatetimeIndex: 43848 entries, 2015-01-01 06:00:00 to 2020-01-02 05:00:00\n",
      "Data columns (total 2 columns):\n",
      " #   Column         Non-Null Count  Dtype  \n",
      "---  ------         --------------  -----  \n",
      " 0   update_precip  43848 non-null  float64\n",
      " 1   temp_av        43848 non-null  float64\n",
      "dtypes: float64(2)\n",
      "memory usage: 1.0 MB\n"
     ]
    }
   ],
   "source": [
    "weatherhour.info()"
   ]
  },
  {
   "cell_type": "code",
   "execution_count": 12,
   "id": "0b278777-0e5b-4ba1-8ef8-fdebda95c0b5",
   "metadata": {},
   "outputs": [
    {
     "data": {
      "text/html": [
       "<div>\n",
       "<style scoped>\n",
       "    .dataframe tbody tr th:only-of-type {\n",
       "        vertical-align: middle;\n",
       "    }\n",
       "\n",
       "    .dataframe tbody tr th {\n",
       "        vertical-align: top;\n",
       "    }\n",
       "\n",
       "    .dataframe thead th {\n",
       "        text-align: right;\n",
       "    }\n",
       "</style>\n",
       "<table border=\"1\" class=\"dataframe\">\n",
       "  <thead>\n",
       "    <tr style=\"text-align: right;\">\n",
       "      <th></th>\n",
       "      <th>update_precip</th>\n",
       "      <th>temp_av</th>\n",
       "    </tr>\n",
       "    <tr>\n",
       "      <th>daytime</th>\n",
       "      <th></th>\n",
       "      <th></th>\n",
       "    </tr>\n",
       "  </thead>\n",
       "  <tbody>\n",
       "    <tr>\n",
       "      <th>2016-01-01 00:00:00</th>\n",
       "      <td>0.0</td>\n",
       "      <td>5.6</td>\n",
       "    </tr>\n",
       "    <tr>\n",
       "      <th>2016-01-01 01:00:00</th>\n",
       "      <td>0.0</td>\n",
       "      <td>5.0</td>\n",
       "    </tr>\n",
       "    <tr>\n",
       "      <th>2016-01-01 02:00:00</th>\n",
       "      <td>0.0</td>\n",
       "      <td>5.0</td>\n",
       "    </tr>\n",
       "    <tr>\n",
       "      <th>2016-01-01 03:00:00</th>\n",
       "      <td>0.0</td>\n",
       "      <td>4.4</td>\n",
       "    </tr>\n",
       "    <tr>\n",
       "      <th>2016-01-01 04:00:00</th>\n",
       "      <td>0.0</td>\n",
       "      <td>4.4</td>\n",
       "    </tr>\n",
       "    <tr>\n",
       "      <th>...</th>\n",
       "      <td>...</td>\n",
       "      <td>...</td>\n",
       "    </tr>\n",
       "    <tr>\n",
       "      <th>2016-12-31 20:00:00</th>\n",
       "      <td>0.0</td>\n",
       "      <td>1.7</td>\n",
       "    </tr>\n",
       "    <tr>\n",
       "      <th>2016-12-31 21:00:00</th>\n",
       "      <td>0.0</td>\n",
       "      <td>1.7</td>\n",
       "    </tr>\n",
       "    <tr>\n",
       "      <th>2016-12-31 22:00:00</th>\n",
       "      <td>0.0</td>\n",
       "      <td>2.2</td>\n",
       "    </tr>\n",
       "    <tr>\n",
       "      <th>2016-12-31 23:00:00</th>\n",
       "      <td>0.0</td>\n",
       "      <td>3.3</td>\n",
       "    </tr>\n",
       "    <tr>\n",
       "      <th>2017-01-01 00:00:00</th>\n",
       "      <td>0.0</td>\n",
       "      <td>3.9</td>\n",
       "    </tr>\n",
       "  </tbody>\n",
       "</table>\n",
       "<p>8785 rows × 2 columns</p>\n",
       "</div>"
      ],
      "text/plain": [
       "                     update_precip  temp_av\n",
       "daytime                                    \n",
       "2016-01-01 00:00:00            0.0      5.6\n",
       "2016-01-01 01:00:00            0.0      5.0\n",
       "2016-01-01 02:00:00            0.0      5.0\n",
       "2016-01-01 03:00:00            0.0      4.4\n",
       "2016-01-01 04:00:00            0.0      4.4\n",
       "...                            ...      ...\n",
       "2016-12-31 20:00:00            0.0      1.7\n",
       "2016-12-31 21:00:00            0.0      1.7\n",
       "2016-12-31 22:00:00            0.0      2.2\n",
       "2016-12-31 23:00:00            0.0      3.3\n",
       "2017-01-01 00:00:00            0.0      3.9\n",
       "\n",
       "[8785 rows x 2 columns]"
      ]
     },
     "execution_count": 12,
     "metadata": {},
     "output_type": "execute_result"
    }
   ],
   "source": [
    "weatherhour = weatherhour.loc['2016-01-01 00:00:00' : '2017-01-01 00:00:00']\n",
    "weatherhour"
   ]
  },
  {
   "cell_type": "code",
   "execution_count": 13,
   "id": "0f973205-b461-4fba-8017-8a4693ab5346",
   "metadata": {},
   "outputs": [
    {
     "data": {
      "text/html": [
       "<div>\n",
       "<style scoped>\n",
       "    .dataframe tbody tr th:only-of-type {\n",
       "        vertical-align: middle;\n",
       "    }\n",
       "\n",
       "    .dataframe tbody tr th {\n",
       "        vertical-align: top;\n",
       "    }\n",
       "\n",
       "    .dataframe thead th {\n",
       "        text-align: right;\n",
       "    }\n",
       "</style>\n",
       "<table border=\"1\" class=\"dataframe\">\n",
       "  <thead>\n",
       "    <tr style=\"text-align: right;\">\n",
       "      <th></th>\n",
       "      <th>counts</th>\n",
       "      <th>hourofday</th>\n",
       "      <th>weekday</th>\n",
       "      <th>month</th>\n",
       "      <th>update_precip</th>\n",
       "      <th>temp_av</th>\n",
       "    </tr>\n",
       "    <tr>\n",
       "      <th>daytime</th>\n",
       "      <th></th>\n",
       "      <th></th>\n",
       "      <th></th>\n",
       "      <th></th>\n",
       "      <th></th>\n",
       "      <th></th>\n",
       "    </tr>\n",
       "  </thead>\n",
       "  <tbody>\n",
       "    <tr>\n",
       "      <th>2016-01-01 00:00:00</th>\n",
       "      <td>13</td>\n",
       "      <td>0</td>\n",
       "      <td>4</td>\n",
       "      <td>1</td>\n",
       "      <td>0.0</td>\n",
       "      <td>5.6</td>\n",
       "    </tr>\n",
       "    <tr>\n",
       "      <th>2016-01-01 01:00:00</th>\n",
       "      <td>14</td>\n",
       "      <td>1</td>\n",
       "      <td>4</td>\n",
       "      <td>1</td>\n",
       "      <td>0.0</td>\n",
       "      <td>5.0</td>\n",
       "    </tr>\n",
       "    <tr>\n",
       "      <th>2016-01-01 02:00:00</th>\n",
       "      <td>9</td>\n",
       "      <td>2</td>\n",
       "      <td>4</td>\n",
       "      <td>1</td>\n",
       "      <td>0.0</td>\n",
       "      <td>5.0</td>\n",
       "    </tr>\n",
       "    <tr>\n",
       "      <th>2016-01-01 03:00:00</th>\n",
       "      <td>1</td>\n",
       "      <td>3</td>\n",
       "      <td>4</td>\n",
       "      <td>1</td>\n",
       "      <td>0.0</td>\n",
       "      <td>4.4</td>\n",
       "    </tr>\n",
       "    <tr>\n",
       "      <th>2016-01-01 04:00:00</th>\n",
       "      <td>0</td>\n",
       "      <td>4</td>\n",
       "      <td>4</td>\n",
       "      <td>1</td>\n",
       "      <td>0.0</td>\n",
       "      <td>4.4</td>\n",
       "    </tr>\n",
       "    <tr>\n",
       "      <th>...</th>\n",
       "      <td>...</td>\n",
       "      <td>...</td>\n",
       "      <td>...</td>\n",
       "      <td>...</td>\n",
       "      <td>...</td>\n",
       "      <td>...</td>\n",
       "    </tr>\n",
       "    <tr>\n",
       "      <th>2016-12-31 19:00:00</th>\n",
       "      <td>20</td>\n",
       "      <td>19</td>\n",
       "      <td>5</td>\n",
       "      <td>12</td>\n",
       "      <td>0.0</td>\n",
       "      <td>1.7</td>\n",
       "    </tr>\n",
       "    <tr>\n",
       "      <th>2016-12-31 20:00:00</th>\n",
       "      <td>13</td>\n",
       "      <td>20</td>\n",
       "      <td>5</td>\n",
       "      <td>12</td>\n",
       "      <td>0.0</td>\n",
       "      <td>1.7</td>\n",
       "    </tr>\n",
       "    <tr>\n",
       "      <th>2016-12-31 21:00:00</th>\n",
       "      <td>22</td>\n",
       "      <td>21</td>\n",
       "      <td>5</td>\n",
       "      <td>12</td>\n",
       "      <td>0.0</td>\n",
       "      <td>1.7</td>\n",
       "    </tr>\n",
       "    <tr>\n",
       "      <th>2016-12-31 22:00:00</th>\n",
       "      <td>6</td>\n",
       "      <td>22</td>\n",
       "      <td>5</td>\n",
       "      <td>12</td>\n",
       "      <td>0.0</td>\n",
       "      <td>2.2</td>\n",
       "    </tr>\n",
       "    <tr>\n",
       "      <th>2016-12-31 23:00:00</th>\n",
       "      <td>6</td>\n",
       "      <td>23</td>\n",
       "      <td>5</td>\n",
       "      <td>12</td>\n",
       "      <td>0.0</td>\n",
       "      <td>3.3</td>\n",
       "    </tr>\n",
       "  </tbody>\n",
       "</table>\n",
       "<p>8784 rows × 6 columns</p>\n",
       "</div>"
      ],
      "text/plain": [
       "                     counts  hourofday  weekday  month  update_precip  temp_av\n",
       "daytime                                                                       \n",
       "2016-01-01 00:00:00      13          0        4      1            0.0      5.6\n",
       "2016-01-01 01:00:00      14          1        4      1            0.0      5.0\n",
       "2016-01-01 02:00:00       9          2        4      1            0.0      5.0\n",
       "2016-01-01 03:00:00       1          3        4      1            0.0      4.4\n",
       "2016-01-01 04:00:00       0          4        4      1            0.0      4.4\n",
       "...                     ...        ...      ...    ...            ...      ...\n",
       "2016-12-31 19:00:00      20         19        5     12            0.0      1.7\n",
       "2016-12-31 20:00:00      13         20        5     12            0.0      1.7\n",
       "2016-12-31 21:00:00      22         21        5     12            0.0      1.7\n",
       "2016-12-31 22:00:00       6         22        5     12            0.0      2.2\n",
       "2016-12-31 23:00:00       6         23        5     12            0.0      3.3\n",
       "\n",
       "[8784 rows x 6 columns]"
      ]
     },
     "execution_count": 13,
     "metadata": {},
     "output_type": "execute_result"
    }
   ],
   "source": [
    "pred_model_joint = pred_model_counts.join(weatherhour, how=\"left\")\n",
    "pred_model_joint"
   ]
  },
  {
   "cell_type": "markdown",
   "id": "76ba51d5-ce8d-4fe3-82df-5aa523ce702c",
   "metadata": {},
   "source": [
    "Variables\n",
    "\n",
    "- Time of the day in hours \n",
    "- Month\n",
    "- Weekday (0-6)\n",
    "- Temperature (average of min and max temp cause very similar)\n",
    "- Precipitation (0,1)"
   ]
  },
  {
   "cell_type": "code",
   "execution_count": 14,
   "id": "1f4d6297-ec11-40f1-b7cf-7f9260c94153",
   "metadata": {},
   "outputs": [],
   "source": [
    "from sklearn.model_selection import train_test_split\n",
    "\n",
    "# Extract the relevant features from the dataset\n",
    "X = pred_model_joint[['hourofday', 'weekday', 'month', 'update_precip', 'temp_av']]\n",
    "y = pred_model_joint['counts']\n",
    "\n",
    "# split the data into training and test sets\n",
    "X_train, X_test, y_train, y_test = train_test_split(X, y, test_size=0.2, random_state=42)"
   ]
  },
  {
   "cell_type": "code",
   "execution_count": 15,
   "id": "11736b44",
   "metadata": {},
   "outputs": [
    {
     "name": "stdout",
     "output_type": "stream",
     "text": [
      "               Train Mean  Test Mean   p-value\n",
      "hourofday       11.463640  11.645418  0.326012\n",
      "weekday          3.018927   2.965282  0.309641\n",
      "month            6.527537   6.458167  0.453081\n",
      "update_precip    0.080618   0.069437  0.095668\n",
      "temp_av         11.746625  11.575949  0.516439\n"
     ]
    }
   ],
   "source": [
    "from scipy import stats\n",
    "\n",
    "# Calculate the means of both training and test set for each value\n",
    "train_mean = X_train.mean()\n",
    "test_mean = X_test.mean()\n",
    "\n",
    "# create a table for comparing the means\n",
    "mean_table = pd.concat([train_mean, test_mean], axis=1)\n",
    "mean_table.columns = ['Train Mean', 'Test Mean']\n",
    "\n",
    "# Perform t-test\n",
    "t, p = stats.ttest_ind(X_train, X_test, equal_var=False)\n",
    "\n",
    "# Add p-values to the table\n",
    "mean_table['p-value'] = p\n",
    "\n",
    "#Print the table\n",
    "print(mean_table)\n",
    "\n",
    "# the p-values are greater than 0.05, which means that there is\n",
    "# no significant difference between the means of the training and test datasets. "
   ]
  },
  {
   "cell_type": "code",
   "execution_count": 16,
   "id": "994a9cab-ab4f-4e6a-9d49-8352b513a928",
   "metadata": {},
   "outputs": [
    {
     "data": {
      "image/png": "[encoded data removed]",
      "text/plain": [
       "<Figure size 720x360 with 1 Axes>"
      ]
     },
     "metadata": {
      "needs_background": "light"
     },
     "output_type": "display_data"
    }
   ],
   "source": [
    "# Plot the distribution of the target variable in the training and holdout sets\n",
    "plt.figure(figsize=(10, 5))\n",
    "plt.hist(y_train, bins=50, alpha=0.6, label='Training', density= True)\n",
    "plt.hist(y_test, bins=50, alpha=0.6, label='Holdout', density= True)\n",
    "plt.xlabel('Number of Rentals')\n",
    "plt.ylabel('Relative Frequency')\n",
    "plt.legend()\n",
    "plt.show()"
   ]
  },
  {
   "cell_type": "code",
   "execution_count": 17,
   "id": "abd32288",
   "metadata": {
    "scrolled": true
   },
   "outputs": [
    {
     "data": {
      "image/png": "[encoded data removed]",
      "text/plain": [
       "<Figure size 720x360 with 1 Axes>"
      ]
     },
     "metadata": {
      "needs_background": "light"
     },
     "output_type": "display_data"
    }
   ],
   "source": [
    "# Plot the distribution of the target variable in the training and holdout sets\n",
    "plt.figure(figsize=(10, 5))\n",
    "plt.hist(y_train, bins=50, alpha=0.6, label='Training')\n",
    "plt.hist(y_test, bins=50, alpha=0.6, label='Holdout')\n",
    "plt.xlabel('Number of Rentals')\n",
    "plt.ylabel('Absolute Frequency')\n",
    "plt.legend()\n",
    "plt.show()"
   ]
  },
  {
   "cell_type": "markdown",
   "id": "6a94b4ee-d1fd-4c2b-859d-3498161d648e",
   "metadata": {
    "tags": []
   },
   "source": [
    "## 4. Linear/Polynomial Regression"
   ]
  },
  {
   "cell_type": "code",
   "execution_count": 22,
   "id": "9029ad48-b7f0-450d-9078-c057c5ec9922",
   "metadata": {
    "collapsed": true,
    "jupyter": {
     "outputs_hidden": true,
     "source_hidden": true
    },
    "tags": []
   },
   "outputs": [
    {
     "name": "stderr",
     "output_type": "stream",
     "text": [
      "C:\\Users\\lucas\\AppData\\Local\\Temp/ipykernel_8156/89998143.py:2: SettingWithCopyWarning: \n",
      "A value is trying to be set on a copy of a slice from a DataFrame.\n",
      "Try using .loc[row_indexer,col_indexer] = value instead\n",
      "\n",
      "See the caveats in the documentation: https://pandas.pydata.org/pandas-docs/stable/user_guide/indexing.html#returning-a-view-versus-a-copy\n",
      "  X_train['weekday']=X_train['weekday'].astype('category')\n",
      "C:\\Users\\lucas\\AppData\\Local\\Temp/ipykernel_8156/89998143.py:3: SettingWithCopyWarning: \n",
      "A value is trying to be set on a copy of a slice from a DataFrame.\n",
      "Try using .loc[row_indexer,col_indexer] = value instead\n",
      "\n",
      "See the caveats in the documentation: https://pandas.pydata.org/pandas-docs/stable/user_guide/indexing.html#returning-a-view-versus-a-copy\n",
      "  X_train['month']=X_train['month'].astype('category')\n",
      "C:\\Users\\lucas\\AppData\\Local\\Temp/ipykernel_8156/89998143.py:4: SettingWithCopyWarning: \n",
      "A value is trying to be set on a copy of a slice from a DataFrame.\n",
      "Try using .loc[row_indexer,col_indexer] = value instead\n",
      "\n",
      "See the caveats in the documentation: https://pandas.pydata.org/pandas-docs/stable/user_guide/indexing.html#returning-a-view-versus-a-copy\n",
      "  X_train['update_precip']=X_train['update_precip'].astype('category')\n",
      "C:\\Users\\lucas\\AppData\\Local\\Temp/ipykernel_8156/89998143.py:5: SettingWithCopyWarning: \n",
      "A value is trying to be set on a copy of a slice from a DataFrame.\n",
      "Try using .loc[row_indexer,col_indexer] = value instead\n",
      "\n",
      "See the caveats in the documentation: https://pandas.pydata.org/pandas-docs/stable/user_guide/indexing.html#returning-a-view-versus-a-copy\n",
      "  X_train['hourofday']=X_train['hourofday'].astype('category')\n"
     ]
    },
    {
     "data": {
      "text/html": [
       "<div>\n",
       "<style scoped>\n",
       "    .dataframe tbody tr th:only-of-type {\n",
       "        vertical-align: middle;\n",
       "    }\n",
       "\n",
       "    .dataframe tbody tr th {\n",
       "        vertical-align: top;\n",
       "    }\n",
       "\n",
       "    .dataframe thead th {\n",
       "        text-align: right;\n",
       "    }\n",
       "</style>\n",
       "<table border=\"1\" class=\"dataframe\">\n",
       "  <thead>\n",
       "    <tr style=\"text-align: right;\">\n",
       "      <th></th>\n",
       "      <th>temp_av</th>\n",
       "      <th>hourofday_1</th>\n",
       "      <th>hourofday_2</th>\n",
       "      <th>hourofday_3</th>\n",
       "      <th>hourofday_4</th>\n",
       "      <th>hourofday_5</th>\n",
       "      <th>hourofday_6</th>\n",
       "      <th>hourofday_7</th>\n",
       "      <th>hourofday_8</th>\n",
       "      <th>hourofday_9</th>\n",
       "      <th>...</th>\n",
       "      <th>month_7</th>\n",
       "      <th>month_8</th>\n",
       "      <th>month_9</th>\n",
       "      <th>month_10</th>\n",
       "      <th>month_11</th>\n",
       "      <th>month_12</th>\n",
       "      <th>update_precip_0.3333333333333333</th>\n",
       "      <th>update_precip_0.5</th>\n",
       "      <th>update_precip_0.6666666666666666</th>\n",
       "      <th>update_precip_1.0</th>\n",
       "    </tr>\n",
       "    <tr>\n",
       "      <th>daytime</th>\n",
       "      <th></th>\n",
       "      <th></th>\n",
       "      <th></th>\n",
       "      <th></th>\n",
       "      <th></th>\n",
       "      <th></th>\n",
       "      <th></th>\n",
       "      <th></th>\n",
       "      <th></th>\n",
       "      <th></th>\n",
       "      <th></th>\n",
       "      <th></th>\n",
       "      <th></th>\n",
       "      <th></th>\n",
       "      <th></th>\n",
       "      <th></th>\n",
       "      <th></th>\n",
       "      <th></th>\n",
       "      <th></th>\n",
       "      <th></th>\n",
       "      <th></th>\n",
       "    </tr>\n",
       "  </thead>\n",
       "  <tbody>\n",
       "    <tr>\n",
       "      <th>2016-09-20 03:00:00</th>\n",
       "      <td>21.10</td>\n",
       "      <td>0</td>\n",
       "      <td>0</td>\n",
       "      <td>1</td>\n",
       "      <td>0</td>\n",
       "      <td>0</td>\n",
       "      <td>0</td>\n",
       "      <td>0</td>\n",
       "      <td>0</td>\n",
       "      <td>0</td>\n",
       "      <td>...</td>\n",
       "      <td>0</td>\n",
       "      <td>0</td>\n",
       "      <td>1</td>\n",
       "      <td>0</td>\n",
       "      <td>0</td>\n",
       "      <td>0</td>\n",
       "      <td>0</td>\n",
       "      <td>0</td>\n",
       "      <td>0</td>\n",
       "      <td>0</td>\n",
       "    </tr>\n",
       "    <tr>\n",
       "      <th>2016-04-13 12:00:00</th>\n",
       "      <td>5.60</td>\n",
       "      <td>0</td>\n",
       "      <td>0</td>\n",
       "      <td>0</td>\n",
       "      <td>0</td>\n",
       "      <td>0</td>\n",
       "      <td>0</td>\n",
       "      <td>0</td>\n",
       "      <td>0</td>\n",
       "      <td>0</td>\n",
       "      <td>...</td>\n",
       "      <td>0</td>\n",
       "      <td>0</td>\n",
       "      <td>0</td>\n",
       "      <td>0</td>\n",
       "      <td>0</td>\n",
       "      <td>0</td>\n",
       "      <td>0</td>\n",
       "      <td>0</td>\n",
       "      <td>0</td>\n",
       "      <td>0</td>\n",
       "    </tr>\n",
       "    <tr>\n",
       "      <th>2016-01-07 23:00:00</th>\n",
       "      <td>2.20</td>\n",
       "      <td>0</td>\n",
       "      <td>0</td>\n",
       "      <td>0</td>\n",
       "      <td>0</td>\n",
       "      <td>0</td>\n",
       "      <td>0</td>\n",
       "      <td>0</td>\n",
       "      <td>0</td>\n",
       "      <td>0</td>\n",
       "      <td>...</td>\n",
       "      <td>0</td>\n",
       "      <td>0</td>\n",
       "      <td>0</td>\n",
       "      <td>0</td>\n",
       "      <td>0</td>\n",
       "      <td>0</td>\n",
       "      <td>0</td>\n",
       "      <td>0</td>\n",
       "      <td>0</td>\n",
       "      <td>0</td>\n",
       "    </tr>\n",
       "    <tr>\n",
       "      <th>2016-08-25 12:00:00</th>\n",
       "      <td>22.20</td>\n",
       "      <td>0</td>\n",
       "      <td>0</td>\n",
       "      <td>0</td>\n",
       "      <td>0</td>\n",
       "      <td>0</td>\n",
       "      <td>0</td>\n",
       "      <td>0</td>\n",
       "      <td>0</td>\n",
       "      <td>0</td>\n",
       "      <td>...</td>\n",
       "      <td>0</td>\n",
       "      <td>1</td>\n",
       "      <td>0</td>\n",
       "      <td>0</td>\n",
       "      <td>0</td>\n",
       "      <td>0</td>\n",
       "      <td>0</td>\n",
       "      <td>0</td>\n",
       "      <td>0</td>\n",
       "      <td>0</td>\n",
       "    </tr>\n",
       "    <tr>\n",
       "      <th>2016-01-16 07:00:00</th>\n",
       "      <td>5.45</td>\n",
       "      <td>0</td>\n",
       "      <td>0</td>\n",
       "      <td>0</td>\n",
       "      <td>0</td>\n",
       "      <td>0</td>\n",
       "      <td>0</td>\n",
       "      <td>1</td>\n",
       "      <td>0</td>\n",
       "      <td>0</td>\n",
       "      <td>...</td>\n",
       "      <td>0</td>\n",
       "      <td>0</td>\n",
       "      <td>0</td>\n",
       "      <td>0</td>\n",
       "      <td>0</td>\n",
       "      <td>0</td>\n",
       "      <td>0</td>\n",
       "      <td>1</td>\n",
       "      <td>0</td>\n",
       "      <td>0</td>\n",
       "    </tr>\n",
       "  </tbody>\n",
       "</table>\n",
       "<p>5 rows × 45 columns</p>\n",
       "</div>"
      ],
      "text/plain": [
       "                     temp_av  hourofday_1  hourofday_2  hourofday_3  \\\n",
       "daytime                                                               \n",
       "2016-09-20 03:00:00    21.10            0            0            1   \n",
       "2016-04-13 12:00:00     5.60            0            0            0   \n",
       "2016-01-07 23:00:00     2.20            0            0            0   \n",
       "2016-08-25 12:00:00    22.20            0            0            0   \n",
       "2016-01-16 07:00:00     5.45            0            0            0   \n",
       "\n",
       "                     hourofday_4  hourofday_5  hourofday_6  hourofday_7  \\\n",
       "daytime                                                                   \n",
       "2016-09-20 03:00:00            0            0            0            0   \n",
       "2016-04-13 12:00:00            0            0            0            0   \n",
       "2016-01-07 23:00:00            0            0            0            0   \n",
       "2016-08-25 12:00:00            0            0            0            0   \n",
       "2016-01-16 07:00:00            0            0            0            1   \n",
       "\n",
       "                     hourofday_8  hourofday_9  ...  month_7  month_8  month_9  \\\n",
       "daytime                                        ...                              \n",
       "2016-09-20 03:00:00            0            0  ...        0        0        1   \n",
       "2016-04-13 12:00:00            0            0  ...        0        0        0   \n",
       "2016-01-07 23:00:00            0            0  ...        0        0        0   \n",
       "2016-08-25 12:00:00            0            0  ...        0        1        0   \n",
       "2016-01-16 07:00:00            0            0  ...        0        0        0   \n",
       "\n",
       "                     month_10  month_11  month_12  \\\n",
       "daytime                                             \n",
       "2016-09-20 03:00:00         0         0         0   \n",
       "2016-04-13 12:00:00         0         0         0   \n",
       "2016-01-07 23:00:00         0         0         0   \n",
       "2016-08-25 12:00:00         0         0         0   \n",
       "2016-01-16 07:00:00         0         0         0   \n",
       "\n",
       "                     update_precip_0.3333333333333333  update_precip_0.5  \\\n",
       "daytime                                                                    \n",
       "2016-09-20 03:00:00                                 0                  0   \n",
       "2016-04-13 12:00:00                                 0                  0   \n",
       "2016-01-07 23:00:00                                 0                  0   \n",
       "2016-08-25 12:00:00                                 0                  0   \n",
       "2016-01-16 07:00:00                                 0                  1   \n",
       "\n",
       "                     update_precip_0.6666666666666666  update_precip_1.0  \n",
       "daytime                                                                   \n",
       "2016-09-20 03:00:00                                 0                  0  \n",
       "2016-04-13 12:00:00                                 0                  0  \n",
       "2016-01-07 23:00:00                                 0                  0  \n",
       "2016-08-25 12:00:00                                 0                  0  \n",
       "2016-01-16 07:00:00                                 0                  0  \n",
       "\n",
       "[5 rows x 45 columns]"
      ]
     },
     "execution_count": 22,
     "metadata": {},
     "output_type": "execute_result"
    }
   ],
   "source": [
    "#### To Create Dummys, we need to convert variables to \"category\" type\n",
    "X_train['weekday']=X_train['weekday'].astype('category')\n",
    "X_train['month']=X_train['month'].astype('category')\n",
    "X_train['update_precip']=X_train['update_precip'].astype('category')\n",
    "X_train['hourofday']=X_train['hourofday'].astype('category')\n",
    "X_train = pd.get_dummies(X_train, drop_first=True)\n",
    "X_train.head()"
   ]
  },
  {
   "cell_type": "code",
   "execution_count": 23,
   "id": "ee2b8a15-7924-4c8f-8af8-fabb2560aca4",
   "metadata": {
    "collapsed": true,
    "jupyter": {
     "outputs_hidden": true,
     "source_hidden": true
    },
    "tags": []
   },
   "outputs": [
    {
     "name": "stdout",
     "output_type": "stream",
     "text": [
      "<class 'pandas.core.frame.DataFrame'>\n",
      "DatetimeIndex: 1757 entries, 2016-09-23 01:00:00 to 2016-07-01 14:00:00\n",
      "Data columns (total 45 columns):\n",
      " #   Column                            Non-Null Count  Dtype  \n",
      "---  ------                            --------------  -----  \n",
      " 0   temp_av                           1757 non-null   float64\n",
      " 1   hourofday_1                       1757 non-null   uint8  \n",
      " 2   hourofday_2                       1757 non-null   uint8  \n",
      " 3   hourofday_3                       1757 non-null   uint8  \n",
      " 4   hourofday_4                       1757 non-null   uint8  \n",
      " 5   hourofday_5                       1757 non-null   uint8  \n",
      " 6   hourofday_6                       1757 non-null   uint8  \n",
      " 7   hourofday_7                       1757 non-null   uint8  \n",
      " 8   hourofday_8                       1757 non-null   uint8  \n",
      " 9   hourofday_9                       1757 non-null   uint8  \n",
      " 10  hourofday_10                      1757 non-null   uint8  \n",
      " 11  hourofday_11                      1757 non-null   uint8  \n",
      " 12  hourofday_12                      1757 non-null   uint8  \n",
      " 13  hourofday_13                      1757 non-null   uint8  \n",
      " 14  hourofday_14                      1757 non-null   uint8  \n",
      " 15  hourofday_15                      1757 non-null   uint8  \n",
      " 16  hourofday_16                      1757 non-null   uint8  \n",
      " 17  hourofday_17                      1757 non-null   uint8  \n",
      " 18  hourofday_18                      1757 non-null   uint8  \n",
      " 19  hourofday_19                      1757 non-null   uint8  \n",
      " 20  hourofday_20                      1757 non-null   uint8  \n",
      " 21  hourofday_21                      1757 non-null   uint8  \n",
      " 22  hourofday_22                      1757 non-null   uint8  \n",
      " 23  hourofday_23                      1757 non-null   uint8  \n",
      " 24  weekday_1                         1757 non-null   uint8  \n",
      " 25  weekday_2                         1757 non-null   uint8  \n",
      " 26  weekday_3                         1757 non-null   uint8  \n",
      " 27  weekday_4                         1757 non-null   uint8  \n",
      " 28  weekday_5                         1757 non-null   uint8  \n",
      " 29  weekday_6                         1757 non-null   uint8  \n",
      " 30  month_2                           1757 non-null   uint8  \n",
      " 31  month_3                           1757 non-null   uint8  \n",
      " 32  month_4                           1757 non-null   uint8  \n",
      " 33  month_5                           1757 non-null   uint8  \n",
      " 34  month_6                           1757 non-null   uint8  \n",
      " 35  month_7                           1757 non-null   uint8  \n",
      " 36  month_8                           1757 non-null   uint8  \n",
      " 37  month_9                           1757 non-null   uint8  \n",
      " 38  month_10                          1757 non-null   uint8  \n",
      " 39  month_11                          1757 non-null   uint8  \n",
      " 40  month_12                          1757 non-null   uint8  \n",
      " 41  update_precip_0.3333333333333333  1757 non-null   uint8  \n",
      " 42  update_precip_0.5                 1757 non-null   uint8  \n",
      " 43  update_precip_0.6666666666666666  1757 non-null   uint8  \n",
      " 44  update_precip_1.0                 1757 non-null   uint8  \n",
      "dtypes: float64(1), uint8(44)\n",
      "memory usage: 102.9 KB\n"
     ]
    },
    {
     "name": "stderr",
     "output_type": "stream",
     "text": [
      "C:\\Users\\lucas\\AppData\\Local\\Temp/ipykernel_8156/3117573012.py:1: SettingWithCopyWarning: \n",
      "A value is trying to be set on a copy of a slice from a DataFrame.\n",
      "Try using .loc[row_indexer,col_indexer] = value instead\n",
      "\n",
      "See the caveats in the documentation: https://pandas.pydata.org/pandas-docs/stable/user_guide/indexing.html#returning-a-view-versus-a-copy\n",
      "  X_test['weekday']=X_test['weekday'].astype('category')\n",
      "C:\\Users\\lucas\\AppData\\Local\\Temp/ipykernel_8156/3117573012.py:2: SettingWithCopyWarning: \n",
      "A value is trying to be set on a copy of a slice from a DataFrame.\n",
      "Try using .loc[row_indexer,col_indexer] = value instead\n",
      "\n",
      "See the caveats in the documentation: https://pandas.pydata.org/pandas-docs/stable/user_guide/indexing.html#returning-a-view-versus-a-copy\n",
      "  X_test['month']=X_test['month'].astype('category')\n",
      "C:\\Users\\lucas\\AppData\\Local\\Temp/ipykernel_8156/3117573012.py:3: SettingWithCopyWarning: \n",
      "A value is trying to be set on a copy of a slice from a DataFrame.\n",
      "Try using .loc[row_indexer,col_indexer] = value instead\n",
      "\n",
      "See the caveats in the documentation: https://pandas.pydata.org/pandas-docs/stable/user_guide/indexing.html#returning-a-view-versus-a-copy\n",
      "  X_test['update_precip']=X_test['update_precip'].astype('category')\n",
      "C:\\Users\\lucas\\AppData\\Local\\Temp/ipykernel_8156/3117573012.py:4: SettingWithCopyWarning: \n",
      "A value is trying to be set on a copy of a slice from a DataFrame.\n",
      "Try using .loc[row_indexer,col_indexer] = value instead\n",
      "\n",
      "See the caveats in the documentation: https://pandas.pydata.org/pandas-docs/stable/user_guide/indexing.html#returning-a-view-versus-a-copy\n",
      "  X_test['hourofday']=X_test['hourofday'].astype('category')\n"
     ]
    }
   ],
   "source": [
    "X_test['weekday']=X_test['weekday'].astype('category')\n",
    "X_test['month']=X_test['month'].astype('category')\n",
    "X_test['update_precip']=X_test['update_precip'].astype('category')\n",
    "X_test['hourofday']=X_test['hourofday'].astype('category')\n",
    "X_test = pd.get_dummies(X_test, drop_first=True)\n",
    "X_test.info()"
   ]
  },
  {
   "cell_type": "markdown",
   "id": "5235fc06",
   "metadata": {},
   "source": [
    "### Polynomial Regression degree = 1 "
   ]
  },
  {
   "cell_type": "code",
   "execution_count": 24,
   "id": "cfa00af5",
   "metadata": {
    "jupyter": {
     "source_hidden": true
    },
    "tags": []
   },
   "outputs": [],
   "source": [
    "poly = PolynomialFeatures(degree=1)"
   ]
  },
  {
   "cell_type": "code",
   "execution_count": 25,
   "id": "c43b01c4",
   "metadata": {
    "jupyter": {
     "source_hidden": true
    },
    "tags": []
   },
   "outputs": [],
   "source": [
    "X_train_poly = poly.fit_transform(X_train)\n",
    "X_test_poly = poly.fit_transform(X_test)"
   ]
  },
  {
   "cell_type": "code",
   "execution_count": 26,
   "id": "615775ce",
   "metadata": {
    "jupyter": {
     "source_hidden": true
    },
    "tags": []
   },
   "outputs": [],
   "source": [
    "reg = LinearRegression(fit_intercept=True).fit(X_train_poly, y_train)"
   ]
  },
  {
   "cell_type": "code",
   "execution_count": 27,
   "id": "cac7b8c0",
   "metadata": {
    "jupyter": {
     "source_hidden": true
    },
    "tags": []
   },
   "outputs": [],
   "source": [
    "y_pred = reg.predict(X_test_poly)"
   ]
  },
  {
   "cell_type": "code",
   "execution_count": 28,
   "id": "9beba24c",
   "metadata": {
    "collapsed": true,
    "jupyter": {
     "outputs_hidden": true,
     "source_hidden": true
    },
    "tags": []
   },
   "outputs": [
    {
     "name": "stdout",
     "output_type": "stream",
     "text": [
      "Mean Squared Error:  9893.715539336848\n",
      "Mean Absolute Error:  74.51248927233152\n",
      "R-squared:  0.6698756567446307\n"
     ]
    }
   ],
   "source": [
    "from sklearn.metrics import r2_score, mean_absolute_error\n",
    "mse = mean_squared_error(y_test, y_pred)\n",
    "mae = mean_absolute_error(y_test, y_pred)\n",
    "r2 = r2_score(y_test, y_pred)\n",
    "print(\"Mean Squared Error: \", mse)\n",
    "print(\"Mean Absolute Error: \", mae)\n",
    "print(\"R-squared: \", r2)"
   ]
  },
  {
   "cell_type": "code",
   "execution_count": 89,
   "id": "f5cd0484",
   "metadata": {
    "collapsed": true,
    "jupyter": {
     "outputs_hidden": true,
     "source_hidden": true
    },
    "tags": []
   },
   "outputs": [
    {
     "data": {
      "text/html": [
       "<div>\n",
       "<style scoped>\n",
       "    .dataframe tbody tr th:only-of-type {\n",
       "        vertical-align: middle;\n",
       "    }\n",
       "\n",
       "    .dataframe tbody tr th {\n",
       "        vertical-align: top;\n",
       "    }\n",
       "\n",
       "    .dataframe thead th {\n",
       "        text-align: right;\n",
       "    }\n",
       "</style>\n",
       "<table border=\"1\" class=\"dataframe\">\n",
       "  <thead>\n",
       "    <tr style=\"text-align: right;\">\n",
       "      <th></th>\n",
       "      <th>Feature Name</th>\n",
       "      <th>Coefficient</th>\n",
       "    </tr>\n",
       "  </thead>\n",
       "  <tbody>\n",
       "    <tr>\n",
       "      <th>0</th>\n",
       "      <td>1</td>\n",
       "      <td>-0.00000</td>\n",
       "    </tr>\n",
       "    <tr>\n",
       "      <th>1</th>\n",
       "      <td>temp_av</td>\n",
       "      <td>3.17932</td>\n",
       "    </tr>\n",
       "    <tr>\n",
       "      <th>2</th>\n",
       "      <td>hourofday_1</td>\n",
       "      <td>-7.14753</td>\n",
       "    </tr>\n",
       "    <tr>\n",
       "      <th>3</th>\n",
       "      <td>hourofday_2</td>\n",
       "      <td>-8.58092</td>\n",
       "    </tr>\n",
       "    <tr>\n",
       "      <th>4</th>\n",
       "      <td>hourofday_3</td>\n",
       "      <td>-16.38911</td>\n",
       "    </tr>\n",
       "    <tr>\n",
       "      <th>5</th>\n",
       "      <td>hourofday_4</td>\n",
       "      <td>-15.75805</td>\n",
       "    </tr>\n",
       "    <tr>\n",
       "      <th>6</th>\n",
       "      <td>hourofday_5</td>\n",
       "      <td>0.06226</td>\n",
       "    </tr>\n",
       "    <tr>\n",
       "      <th>7</th>\n",
       "      <td>hourofday_6</td>\n",
       "      <td>54.80925</td>\n",
       "    </tr>\n",
       "    <tr>\n",
       "      <th>8</th>\n",
       "      <td>hourofday_7</td>\n",
       "      <td>165.93757</td>\n",
       "    </tr>\n",
       "    <tr>\n",
       "      <th>9</th>\n",
       "      <td>hourofday_8</td>\n",
       "      <td>289.71710</td>\n",
       "    </tr>\n",
       "    <tr>\n",
       "      <th>10</th>\n",
       "      <td>hourofday_9</td>\n",
       "      <td>174.38824</td>\n",
       "    </tr>\n",
       "    <tr>\n",
       "      <th>11</th>\n",
       "      <td>hourofday_10</td>\n",
       "      <td>127.25734</td>\n",
       "    </tr>\n",
       "    <tr>\n",
       "      <th>12</th>\n",
       "      <td>hourofday_11</td>\n",
       "      <td>142.65446</td>\n",
       "    </tr>\n",
       "    <tr>\n",
       "      <th>13</th>\n",
       "      <td>hourofday_12</td>\n",
       "      <td>165.31102</td>\n",
       "    </tr>\n",
       "    <tr>\n",
       "      <th>14</th>\n",
       "      <td>hourofday_13</td>\n",
       "      <td>165.60774</td>\n",
       "    </tr>\n",
       "    <tr>\n",
       "      <th>15</th>\n",
       "      <td>hourofday_14</td>\n",
       "      <td>155.92515</td>\n",
       "    </tr>\n",
       "    <tr>\n",
       "      <th>16</th>\n",
       "      <td>hourofday_15</td>\n",
       "      <td>184.82371</td>\n",
       "    </tr>\n",
       "    <tr>\n",
       "      <th>17</th>\n",
       "      <td>hourofday_16</td>\n",
       "      <td>265.11170</td>\n",
       "    </tr>\n",
       "    <tr>\n",
       "      <th>18</th>\n",
       "      <td>hourofday_17</td>\n",
       "      <td>362.21975</td>\n",
       "    </tr>\n",
       "    <tr>\n",
       "      <th>19</th>\n",
       "      <td>hourofday_18</td>\n",
       "      <td>248.91465</td>\n",
       "    </tr>\n",
       "    <tr>\n",
       "      <th>20</th>\n",
       "      <td>hourofday_19</td>\n",
       "      <td>163.68489</td>\n",
       "    </tr>\n",
       "    <tr>\n",
       "      <th>21</th>\n",
       "      <td>hourofday_20</td>\n",
       "      <td>100.80226</td>\n",
       "    </tr>\n",
       "    <tr>\n",
       "      <th>22</th>\n",
       "      <td>hourofday_21</td>\n",
       "      <td>64.54329</td>\n",
       "    </tr>\n",
       "    <tr>\n",
       "      <th>23</th>\n",
       "      <td>hourofday_22</td>\n",
       "      <td>42.32354</td>\n",
       "    </tr>\n",
       "    <tr>\n",
       "      <th>24</th>\n",
       "      <td>hourofday_23</td>\n",
       "      <td>18.35966</td>\n",
       "    </tr>\n",
       "    <tr>\n",
       "      <th>25</th>\n",
       "      <td>weekday_1</td>\n",
       "      <td>3.30295</td>\n",
       "    </tr>\n",
       "    <tr>\n",
       "      <th>26</th>\n",
       "      <td>weekday_2</td>\n",
       "      <td>11.51131</td>\n",
       "    </tr>\n",
       "    <tr>\n",
       "      <th>27</th>\n",
       "      <td>weekday_3</td>\n",
       "      <td>11.73557</td>\n",
       "    </tr>\n",
       "    <tr>\n",
       "      <th>28</th>\n",
       "      <td>weekday_4</td>\n",
       "      <td>3.01902</td>\n",
       "    </tr>\n",
       "    <tr>\n",
       "      <th>29</th>\n",
       "      <td>weekday_5</td>\n",
       "      <td>-33.42931</td>\n",
       "    </tr>\n",
       "    <tr>\n",
       "      <th>30</th>\n",
       "      <td>weekday_6</td>\n",
       "      <td>-43.83204</td>\n",
       "    </tr>\n",
       "    <tr>\n",
       "      <th>31</th>\n",
       "      <td>month_2</td>\n",
       "      <td>-1.60983</td>\n",
       "    </tr>\n",
       "    <tr>\n",
       "      <th>32</th>\n",
       "      <td>month_3</td>\n",
       "      <td>22.04174</td>\n",
       "    </tr>\n",
       "    <tr>\n",
       "      <th>33</th>\n",
       "      <td>month_4</td>\n",
       "      <td>73.35417</td>\n",
       "    </tr>\n",
       "    <tr>\n",
       "      <th>34</th>\n",
       "      <td>month_5</td>\n",
       "      <td>114.57522</td>\n",
       "    </tr>\n",
       "    <tr>\n",
       "      <th>35</th>\n",
       "      <td>month_6</td>\n",
       "      <td>140.97881</td>\n",
       "    </tr>\n",
       "    <tr>\n",
       "      <th>36</th>\n",
       "      <td>month_7</td>\n",
       "      <td>128.13829</td>\n",
       "    </tr>\n",
       "    <tr>\n",
       "      <th>37</th>\n",
       "      <td>month_8</td>\n",
       "      <td>133.21839</td>\n",
       "    </tr>\n",
       "    <tr>\n",
       "      <th>38</th>\n",
       "      <td>month_9</td>\n",
       "      <td>144.93215</td>\n",
       "    </tr>\n",
       "    <tr>\n",
       "      <th>39</th>\n",
       "      <td>month_10</td>\n",
       "      <td>130.52000</td>\n",
       "    </tr>\n",
       "    <tr>\n",
       "      <th>40</th>\n",
       "      <td>month_11</td>\n",
       "      <td>96.68169</td>\n",
       "    </tr>\n",
       "    <tr>\n",
       "      <th>41</th>\n",
       "      <td>month_12</td>\n",
       "      <td>38.01237</td>\n",
       "    </tr>\n",
       "    <tr>\n",
       "      <th>42</th>\n",
       "      <td>update_precip_0.3333333333333333</td>\n",
       "      <td>-38.67679</td>\n",
       "    </tr>\n",
       "    <tr>\n",
       "      <th>43</th>\n",
       "      <td>update_precip_0.5</td>\n",
       "      <td>-40.95201</td>\n",
       "    </tr>\n",
       "    <tr>\n",
       "      <th>44</th>\n",
       "      <td>update_precip_0.6666666666666666</td>\n",
       "      <td>-38.50339</td>\n",
       "    </tr>\n",
       "    <tr>\n",
       "      <th>45</th>\n",
       "      <td>update_precip_1.0</td>\n",
       "      <td>-54.85160</td>\n",
       "    </tr>\n",
       "    <tr>\n",
       "      <th>Intercept</th>\n",
       "      <td>-89.636899</td>\n",
       "      <td>-89.63690</td>\n",
       "    </tr>\n",
       "  </tbody>\n",
       "</table>\n",
       "</div>"
      ],
      "text/plain": [
       "                               Feature Name Coefficient\n",
       "0                                         1    -0.00000\n",
       "1                                   temp_av     3.17932\n",
       "2                               hourofday_1    -7.14753\n",
       "3                               hourofday_2    -8.58092\n",
       "4                               hourofday_3   -16.38911\n",
       "5                               hourofday_4   -15.75805\n",
       "6                               hourofday_5     0.06226\n",
       "7                               hourofday_6    54.80925\n",
       "8                               hourofday_7   165.93757\n",
       "9                               hourofday_8   289.71710\n",
       "10                              hourofday_9   174.38824\n",
       "11                             hourofday_10   127.25734\n",
       "12                             hourofday_11   142.65446\n",
       "13                             hourofday_12   165.31102\n",
       "14                             hourofday_13   165.60774\n",
       "15                             hourofday_14   155.92515\n",
       "16                             hourofday_15   184.82371\n",
       "17                             hourofday_16   265.11170\n",
       "18                             hourofday_17   362.21975\n",
       "19                             hourofday_18   248.91465\n",
       "20                             hourofday_19   163.68489\n",
       "21                             hourofday_20   100.80226\n",
       "22                             hourofday_21    64.54329\n",
       "23                             hourofday_22    42.32354\n",
       "24                             hourofday_23    18.35966\n",
       "25                                weekday_1     3.30295\n",
       "26                                weekday_2    11.51131\n",
       "27                                weekday_3    11.73557\n",
       "28                                weekday_4     3.01902\n",
       "29                                weekday_5   -33.42931\n",
       "30                                weekday_6   -43.83204\n",
       "31                                  month_2    -1.60983\n",
       "32                                  month_3    22.04174\n",
       "33                                  month_4    73.35417\n",
       "34                                  month_5   114.57522\n",
       "35                                  month_6   140.97881\n",
       "36                                  month_7   128.13829\n",
       "37                                  month_8   133.21839\n",
       "38                                  month_9   144.93215\n",
       "39                                 month_10   130.52000\n",
       "40                                 month_11    96.68169\n",
       "41                                 month_12    38.01237\n",
       "42         update_precip_0.3333333333333333   -38.67679\n",
       "43                        update_precip_0.5   -40.95201\n",
       "44         update_precip_0.6666666666666666   -38.50339\n",
       "45                        update_precip_1.0   -54.85160\n",
       "Intercept                        -89.636899   -89.63690"
      ]
     },
     "execution_count": 89,
     "metadata": {},
     "output_type": "execute_result"
    }
   ],
   "source": [
    "coef_names = poly.get_feature_names_out()\n",
    "coef_dict = dict(zip(coef_names, reg.coef_))\n",
    "\n",
    "coef_df = pd.DataFrame(list(coef_dict.items()), columns=[\"Feature Name\", \"Coefficient\"])\n",
    "coef_df.loc['Intercept'] = reg.intercept_\n",
    "\n",
    "# Display the coefficients with five decimal places instead of scientific notation (for visualization purposes only)\n",
    "coef_df[\"Coefficient\"] = coef_df[\"Coefficient\"].apply(lambda x: \"{:.5f}\".format(x))\n",
    "\n",
    "coef_df"
   ]
  },
  {
   "cell_type": "markdown",
   "id": "ff6a52a0",
   "metadata": {
    "jupyter": {
     "source_hidden": true
    },
    "tags": []
   },
   "source": [
    "In this table, you can see the coefficients that have been calculated by the linear regression model in order to predict the target variable (the number of rentals per hour). The coefficient indicates how strongly the feature affects the prediction. A positive coefficient means that the feature has a positive correlation with the target variable, i.e. the higher the feature, the higher the prediction. A negative coefficient means the opposite. It can be seen that, for example, temperature has a positive influence (coefficient of 3.17932). As precipitation increases, the coefficient values become more negative, indicating a negative correlation with the target variable.\n",
    "The final value, called \"Intercept,\" gives the value of the model when all features are 0. In this case, it is -89.63690."
   ]
  },
  {
   "cell_type": "code",
   "execution_count": 90,
   "id": "0f420706",
   "metadata": {
    "collapsed": true,
    "jupyter": {
     "outputs_hidden": true,
     "source_hidden": true
    },
    "tags": []
   },
   "outputs": [
    {
     "data": {
      "image/png": "[encoded data removed]",
      "text/plain": [
       "<Figure size 432x288 with 1 Axes>"
      ]
     },
     "metadata": {
      "needs_background": "light"
     },
     "output_type": "display_data"
    },
    {
     "data": {
      "image/png": "[encoded data removed]",
      "text/plain": [
       "<Figure size 432x288 with 1 Axes>"
      ]
     },
     "metadata": {
      "needs_background": "light"
     },
     "output_type": "display_data"
    }
   ],
   "source": [
    "# Use the model to predict the target variable for the training data\n",
    "predicted_values_train = reg.predict(X_train_poly)\n",
    "\n",
    "# Use the model to predict the target variable for the test data\n",
    "predicted_values_test = reg.predict(X_test_poly)\n",
    "\n",
    "# Plot the actual target values against the predicted values for the training data\n",
    "plt.scatter(y_train, predicted_values_train, color = \"blue\", s=2, alpha=0.3)\n",
    "plt.title(\"Actual vs Predicted Values (Training Data)\")\n",
    "plt.xlabel(\"Actual Values\")\n",
    "plt.ylabel(\"Predicted Values\")\n",
    "plt.plot(y_train, y_train, color = \"black\")\n",
    "plt.axis([min(y_train), max(y_train), min(y_train), max(y_train)])\n",
    "plt.show()\n",
    "\n",
    "# Plot the actual target values against the predicted values for the test data\n",
    "plt.scatter(y_test, predicted_values_test, color = \"green\", s=2, alpha=0.3)\n",
    "plt.title(\"Actual vs Predicted Values (Test Data)\")\n",
    "plt.xlabel(\"Actual Values\")\n",
    "plt.ylabel(\"Predicted Values\")\n",
    "plt.plot(y_test, y_test, color = \"black\")\n",
    "plt.axis([min(y_test), max(y_test), min(y_test), max(y_test)]) \n",
    "plt.show()"
   ]
  },
  {
   "cell_type": "markdown",
   "id": "0cb814ff",
   "metadata": {
    "tags": []
   },
   "source": [
    "### Polynomial Regression degree=2"
   ]
  },
  {
   "cell_type": "code",
   "execution_count": 103,
   "id": "a7d774ba",
   "metadata": {
    "jupyter": {
     "source_hidden": true
    },
    "tags": []
   },
   "outputs": [],
   "source": [
    "poly2 = PolynomialFeatures(degree=2)"
   ]
  },
  {
   "cell_type": "code",
   "execution_count": 104,
   "id": "870d8983",
   "metadata": {
    "jupyter": {
     "source_hidden": true
    },
    "tags": []
   },
   "outputs": [],
   "source": [
    "X_train_poly2 = poly2.fit_transform(X_train)\n",
    "X_test_poly2 = poly2.fit_transform(X_test)"
   ]
  },
  {
   "cell_type": "code",
   "execution_count": 105,
   "id": "7b849884",
   "metadata": {
    "jupyter": {
     "source_hidden": true
    },
    "tags": []
   },
   "outputs": [],
   "source": [
    "reg2 = LinearRegression().fit(X_train_poly2, y_train)"
   ]
  },
  {
   "cell_type": "code",
   "execution_count": 106,
   "id": "634a4083",
   "metadata": {
    "jupyter": {
     "source_hidden": true
    },
    "tags": []
   },
   "outputs": [],
   "source": [
    "y_pred2 = reg2.predict(X_test_poly2)"
   ]
  },
  {
   "cell_type": "code",
   "execution_count": 107,
   "id": "1ce24541",
   "metadata": {
    "collapsed": true,
    "jupyter": {
     "outputs_hidden": true,
     "source_hidden": true
    },
    "tags": []
   },
   "outputs": [
    {
     "name": "stdout",
     "output_type": "stream",
     "text": [
      "Mean Squared Error:  4995017951833878.0\n",
      "Mean Absolute Error:  2368409.8017647383\n",
      "R-squared:  -166521159933.0548\n"
     ]
    }
   ],
   "source": [
    "from sklearn.metrics import r2_score, mean_absolute_error\n",
    "mse2 = mean_squared_error(y_test, y_pred2)\n",
    "mae2 = mean_absolute_error(y_test, y_pred2)\n",
    "r2_02 = r2_score(y_test, y_pred2)\n",
    "print(\"Mean Squared Error: \", mse2)\n",
    "print(\"Mean Absolute Error: \", mae2)\n",
    "print(\"R-squared: \", r2_02)"
   ]
  },
  {
   "cell_type": "code",
   "execution_count": 41,
   "id": "e8f969ab",
   "metadata": {
    "collapsed": true,
    "jupyter": {
     "outputs_hidden": true,
     "source_hidden": true
    },
    "tags": []
   },
   "outputs": [
    {
     "data": {
      "text/html": [
       "<div>\n",
       "<style scoped>\n",
       "    .dataframe tbody tr th:only-of-type {\n",
       "        vertical-align: middle;\n",
       "    }\n",
       "\n",
       "    .dataframe tbody tr th {\n",
       "        vertical-align: top;\n",
       "    }\n",
       "\n",
       "    .dataframe thead th {\n",
       "        text-align: right;\n",
       "    }\n",
       "</style>\n",
       "<table border=\"1\" class=\"dataframe\">\n",
       "  <thead>\n",
       "    <tr style=\"text-align: right;\">\n",
       "      <th></th>\n",
       "      <th>Feature Name</th>\n",
       "      <th>Coefficient</th>\n",
       "    </tr>\n",
       "  </thead>\n",
       "  <tbody>\n",
       "    <tr>\n",
       "      <th>42</th>\n",
       "      <td>update_precip_0.3333333333333333</td>\n",
       "      <td>293607894.06103</td>\n",
       "    </tr>\n",
       "    <tr>\n",
       "      <th>43</th>\n",
       "      <td>update_precip_0.5</td>\n",
       "      <td>-2197447092.20067</td>\n",
       "    </tr>\n",
       "    <tr>\n",
       "      <th>44</th>\n",
       "      <td>update_precip_0.6666666666666666</td>\n",
       "      <td>1233449705.99770</td>\n",
       "    </tr>\n",
       "    <tr>\n",
       "      <th>45</th>\n",
       "      <td>update_precip_1.0</td>\n",
       "      <td>-3577641587.86244</td>\n",
       "    </tr>\n",
       "    <tr>\n",
       "      <th>46</th>\n",
       "      <td>temp_av^2</td>\n",
       "      <td>-0.15448</td>\n",
       "    </tr>\n",
       "    <tr>\n",
       "      <th>47</th>\n",
       "      <td>temp_av hourofday_1</td>\n",
       "      <td>-0.50987</td>\n",
       "    </tr>\n",
       "    <tr>\n",
       "      <th>48</th>\n",
       "      <td>temp_av hourofday_2</td>\n",
       "      <td>-0.56225</td>\n",
       "    </tr>\n",
       "    <tr>\n",
       "      <th>49</th>\n",
       "      <td>temp_av hourofday_3</td>\n",
       "      <td>-0.76579</td>\n",
       "    </tr>\n",
       "    <tr>\n",
       "      <th>50</th>\n",
       "      <td>temp_av hourofday_4</td>\n",
       "      <td>-0.95388</td>\n",
       "    </tr>\n",
       "    <tr>\n",
       "      <th>51</th>\n",
       "      <td>temp_av hourofday_5</td>\n",
       "      <td>-1.08860</td>\n",
       "    </tr>\n",
       "    <tr>\n",
       "      <th>52</th>\n",
       "      <td>temp_av hourofday_6</td>\n",
       "      <td>0.16671</td>\n",
       "    </tr>\n",
       "  </tbody>\n",
       "</table>\n",
       "</div>"
      ],
      "text/plain": [
       "                        Feature Name        Coefficient\n",
       "42  update_precip_0.3333333333333333    293607894.06103\n",
       "43                 update_precip_0.5  -2197447092.20067\n",
       "44  update_precip_0.6666666666666666   1233449705.99770\n",
       "45                 update_precip_1.0  -3577641587.86244\n",
       "46                         temp_av^2           -0.15448\n",
       "47               temp_av hourofday_1           -0.50987\n",
       "48               temp_av hourofday_2           -0.56225\n",
       "49               temp_av hourofday_3           -0.76579\n",
       "50               temp_av hourofday_4           -0.95388\n",
       "51               temp_av hourofday_5           -1.08860\n",
       "52               temp_av hourofday_6            0.16671"
      ]
     },
     "execution_count": 41,
     "metadata": {},
     "output_type": "execute_result"
    }
   ],
   "source": [
    "coef_names2 = poly2.get_feature_names_out()\n",
    "coef_dict2 = dict(zip(coef_names2, reg2.coef_))\n",
    "\n",
    "coef_df2 = pd.DataFrame(list(coef_dict2.items()), columns=[\"Feature Name\", \"Coefficient\"])\n",
    "coef_df2.loc['Intercept'] = reg2.intercept_\n",
    "\n",
    "# Display the coefficients with five decimal places instead of scientific notation (for visualization purposes only)\n",
    "coef_df2[\"Coefficient\"] = coef_df2[\"Coefficient\"].apply(lambda x: \"{:.5f}\".format(x))\n",
    "\n",
    "coef_df2.iloc[42:53]"
   ]
  },
  {
   "cell_type": "code",
   "execution_count": null,
   "id": "36c8505b",
   "metadata": {
    "jupyter": {
     "source_hidden": true
    },
    "tags": []
   },
   "outputs": [],
   "source": [
    "# Use the model to predict the target variable for the training data\n",
    "predicted_values_train2 = reg2.predict(X_train_poly2)\n",
    "\n",
    "# Use the model to predict the target variable for the test data\n",
    "predicted_values_test2 = reg2.predict(X_test_poly2)\n",
    "\n",
    "# Plot the actual target values against the predicted values for the training data\n",
    "plt.scatter(y_train, predicted_values_train2, color = \"blue\", s=2, alpha=0.3)\n",
    "plt.title(\"Actual vs Predicted Values (Training Data)\")\n",
    "plt.xlabel(\"Actual Values\")\n",
    "plt.ylabel(\"Predicted Values\")\n",
    "plt.plot(y_train, y_train, color = \"black\")\n",
    "plt.axis([min(y_train), max(y_train), min(y_train), max(y_train)])\n",
    "plt.show()\n",
    "\n",
    "# Plot the actual target values against the predicted values for the test data\n",
    "plt.scatter(y_test, predicted_values_test2, color = \"green\", s=2, alpha=0.3)\n",
    "plt.title(\"Actual vs Predicted Values (Test Data)\")\n",
    "plt.xlabel(\"Actual Values\")\n",
    "plt.ylabel(\"Predicted Values\")\n",
    "plt.plot(y_test, y_test, color = \"black\")\n",
    "plt.axis([min(y_test), max(y_test), min(y_test), max(y_test)]) \n",
    "plt.show()"
   ]
  },
  {
   "cell_type": "markdown",
   "id": "2c9a6822",
   "metadata": {
    "jp-MarkdownHeadingCollapsed": true,
    "tags": []
   },
   "source": [
    "### Polynomial Regression degree=3"
   ]
  },
  {
   "cell_type": "code",
   "execution_count": 34,
   "id": "9eaa92e0",
   "metadata": {},
   "outputs": [],
   "source": [
    "poly3 = PolynomialFeatures(degree=3)"
   ]
  },
  {
   "cell_type": "code",
   "execution_count": 35,
   "id": "9c044c75",
   "metadata": {},
   "outputs": [],
   "source": [
    "X_train_poly3 = poly3.fit_transform(X_train)\n",
    "X_test_poly3 = poly3.fit_transform(X_test)"
   ]
  },
  {
   "cell_type": "code",
   "execution_count": 36,
   "id": "03e00f3f",
   "metadata": {},
   "outputs": [],
   "source": [
    "reg3 = LinearRegression().fit(X_train_poly3, y_train)"
   ]
  },
  {
   "cell_type": "code",
   "execution_count": 37,
   "id": "a79a322d",
   "metadata": {},
   "outputs": [],
   "source": [
    "y_pred3 = reg3.predict(X_test_poly3)"
   ]
  },
  {
   "cell_type": "code",
   "execution_count": 45,
   "id": "dbab21cc",
   "metadata": {},
   "outputs": [
    {
     "name": "stdout",
     "output_type": "stream",
     "text": [
      "Mean Squared Error:  512137584962.40283\n",
      "Mean Absolute Error:  20833.816082161873\n",
      "R-squared:  -17073360.000125013\n"
     ]
    }
   ],
   "source": [
    "from sklearn.metrics import r2_score, mean_absolute_error\n",
    "mse3 = mean_squared_error(y_test, y_pred3)\n",
    "mae3 = mean_absolute_error(y_test, y_pred3)\n",
    "r2_03 = r2_score(y_test, y_pred3)\n",
    "print(\"Mean Squared Error: \", mse3)\n",
    "print(\"Mean Absolute Error: \", mae3)\n",
    "print(\"R-squared: \", r2_03)"
   ]
  },
  {
   "cell_type": "markdown",
   "id": "a8fb7501",
   "metadata": {},
   "source": [
    "The polynomial regression with a degree of 3 leads to a highly overfitted model. This is evidenced by the significant increase in the mean squared error and mean absolute error, as well as the decrease in the coefficient of determination (R-squared) when compared to the polynomial regression with a degree of 1 and 2. This indicates that the model is not generalizing well to new data, and is instead fitting to the noise in the training data. This overfitting is likely caused by the inclusion of high-order polynomial terms in the model, which can capture random variations in the training data that are not present in the underlying relationships. As a result, the model is not able to accurately make predictions on new, unseen data."
   ]
  },
  {
   "cell_type": "code",
   "execution_count": 39,
   "id": "29dafa3a",
   "metadata": {},
   "outputs": [
    {
     "data": {
      "text/html": [
       "<div>\n",
       "<style scoped>\n",
       "    .dataframe tbody tr th:only-of-type {\n",
       "        vertical-align: middle;\n",
       "    }\n",
       "\n",
       "    .dataframe tbody tr th {\n",
       "        vertical-align: top;\n",
       "    }\n",
       "\n",
       "    .dataframe thead th {\n",
       "        text-align: right;\n",
       "    }\n",
       "</style>\n",
       "<table border=\"1\" class=\"dataframe\">\n",
       "  <thead>\n",
       "    <tr style=\"text-align: right;\">\n",
       "      <th></th>\n",
       "      <th>Feature Name</th>\n",
       "      <th>Coefficient</th>\n",
       "    </tr>\n",
       "  </thead>\n",
       "  <tbody>\n",
       "    <tr>\n",
       "      <th>17287</th>\n",
       "      <td>update_precip_0.5^2 update_precip_0.6666666666...</td>\n",
       "      <td>0.00000</td>\n",
       "    </tr>\n",
       "    <tr>\n",
       "      <th>17288</th>\n",
       "      <td>update_precip_0.5^2 update_precip_1.0</td>\n",
       "      <td>0.00000</td>\n",
       "    </tr>\n",
       "    <tr>\n",
       "      <th>17289</th>\n",
       "      <td>update_precip_0.5 update_precip_0.666666666666...</td>\n",
       "      <td>0.00000</td>\n",
       "    </tr>\n",
       "    <tr>\n",
       "      <th>17290</th>\n",
       "      <td>update_precip_0.5 update_precip_0.666666666666...</td>\n",
       "      <td>0.00000</td>\n",
       "    </tr>\n",
       "    <tr>\n",
       "      <th>17291</th>\n",
       "      <td>update_precip_0.5 update_precip_1.0^2</td>\n",
       "      <td>0.00000</td>\n",
       "    </tr>\n",
       "    <tr>\n",
       "      <th>17292</th>\n",
       "      <td>update_precip_0.6666666666666666^3</td>\n",
       "      <td>106418.30159</td>\n",
       "    </tr>\n",
       "    <tr>\n",
       "      <th>17293</th>\n",
       "      <td>update_precip_0.6666666666666666^2 update_prec...</td>\n",
       "      <td>0.00000</td>\n",
       "    </tr>\n",
       "    <tr>\n",
       "      <th>17294</th>\n",
       "      <td>update_precip_0.6666666666666666 update_precip...</td>\n",
       "      <td>0.00000</td>\n",
       "    </tr>\n",
       "    <tr>\n",
       "      <th>17295</th>\n",
       "      <td>update_precip_1.0^3</td>\n",
       "      <td>698402.86978</td>\n",
       "    </tr>\n",
       "    <tr>\n",
       "      <th>Intercept</th>\n",
       "      <td>796982050.801478</td>\n",
       "      <td>796982050.80148</td>\n",
       "    </tr>\n",
       "  </tbody>\n",
       "</table>\n",
       "</div>"
      ],
      "text/plain": [
       "                                                Feature Name      Coefficient\n",
       "17287      update_precip_0.5^2 update_precip_0.6666666666...          0.00000\n",
       "17288                  update_precip_0.5^2 update_precip_1.0          0.00000\n",
       "17289      update_precip_0.5 update_precip_0.666666666666...          0.00000\n",
       "17290      update_precip_0.5 update_precip_0.666666666666...          0.00000\n",
       "17291                  update_precip_0.5 update_precip_1.0^2          0.00000\n",
       "17292                     update_precip_0.6666666666666666^3     106418.30159\n",
       "17293      update_precip_0.6666666666666666^2 update_prec...          0.00000\n",
       "17294      update_precip_0.6666666666666666 update_precip...          0.00000\n",
       "17295                                    update_precip_1.0^3     698402.86978\n",
       "Intercept                                   796982050.801478  796982050.80148"
      ]
     },
     "execution_count": 39,
     "metadata": {},
     "output_type": "execute_result"
    }
   ],
   "source": [
    "coef_names3 = poly3.get_feature_names_out()\n",
    "coef_dict3 = dict(zip(coef_names3, reg3.coef_))\n",
    "\n",
    "coef_df3 = pd.DataFrame(list(coef_dict3.items()), columns=[\"Feature Name\", \"Coefficient\"])\n",
    "coef_df3.loc['Intercept'] = reg3.intercept_\n",
    "\n",
    "# Display the coefficients with five decimal places instead of scientific notation (for visualization purposes only)\n",
    "coef_df3[\"Coefficient\"] = coef_df3[\"Coefficient\"].apply(lambda x: \"{:.5f}\".format(x))\n",
    "\n",
    "coef_df3.tail(10)"
   ]
  },
  {
   "cell_type": "code",
   "execution_count": 40,
   "id": "233a3e1c",
   "metadata": {},
   "outputs": [
    {
     "data": {
      "image/png": "[encoded data removed]",
      "text/plain": [
       "<Figure size 432x288 with 1 Axes>"
      ]
     },
     "metadata": {
      "needs_background": "light"
     },
     "output_type": "display_data"
    },
    {
     "data": {
      "image/png": "[encoded data removed]",
      "text/plain": [
       "<Figure size 432x288 with 1 Axes>"
      ]
     },
     "metadata": {
      "needs_background": "light"
     },
     "output_type": "display_data"
    }
   ],
   "source": [
    "# Use the model to predict the target variable for the training data\n",
    "predicted_values_train3 = reg3.predict(X_train_poly3)\n",
    "\n",
    "# Use the model to predict the target variable for the test data\n",
    "predicted_values_test3 = reg3.predict(X_test_poly3)\n",
    "\n",
    "# Plot the actual target values against the predicted values for the training data\n",
    "plt.scatter(y_train, predicted_values_train2, color = \"blue\", s=2, alpha=0.3)\n",
    "plt.title(\"Actual vs Predicted Values (Training Data)\")\n",
    "plt.xlabel(\"Actual Values\")\n",
    "plt.ylabel(\"Predicted Values\")\n",
    "plt.plot(y_train, y_train, color = \"black\")\n",
    "plt.axis([min(y_train), max(y_train), min(y_train), max(y_train)])\n",
    "plt.show()\n",
    "\n",
    "# Plot the actual target values against the predicted values for the test data\n",
    "plt.scatter(y_test, predicted_values_test3, color = \"green\", s=2, alpha=0.3)\n",
    "plt.title(\"Actual vs Predicted Values (Test Data)\")\n",
    "plt.xlabel(\"Actual Values\")\n",
    "plt.ylabel(\"Predicted Values\")\n",
    "plt.plot(y_test, y_test, color = \"black\")\n",
    "plt.axis([min(y_test), max(y_test), min(y_test), max(y_test)]) \n",
    "plt.show()"
   ]
  },
  {
   "cell_type": "markdown",
   "id": "0d436028",
   "metadata": {
    "jupyter": {
     "source_hidden": true
    },
    "tags": []
   },
   "source": [
    "### Summary with findings"
   ]
  },
  {
   "cell_type": "code",
   "execution_count": 29,
   "id": "efa1cb3f",
   "metadata": {
    "collapsed": true,
    "jupyter": {
     "outputs_hidden": true,
     "source_hidden": true
    },
    "tags": []
   },
   "outputs": [
    {
     "name": "stdout",
     "output_type": "stream",
     "text": [
      "   Degree                 MSE          MAE        R-squared\n",
      "0       1          9893.71554     74.51249          0.66988\n",
      "1       2          3047.17284     37.73939          0.89832\n",
      "2       3  354824695276.44598  17347.80608  -11839461.03357\n"
     ]
    }
   ],
   "source": [
    "#for range up to 5 it takes too much time\n",
    "results = []\n",
    "\n",
    "for degree in range(1, 4):\n",
    "    poly = PolynomialFeatures(degree=degree)\n",
    "    X_train_poly = poly.fit_transform(X_train)\n",
    "    X_test_poly = poly.fit_transform(X_test)\n",
    "    reg = LinearRegression(fit_intercept=True).fit(X_train_poly, y_train)\n",
    "    y_pred = reg.predict(X_test_poly)\n",
    "    mse = mean_squared_error(y_test, y_pred)\n",
    "    mae = mean_absolute_error(y_test, y_pred)\n",
    "    r2 = r2_score(y_test, y_pred)\n",
    "    results.append([degree, mse, mae, r2])\n",
    "\n",
    "# Create a DataFrame to display the results in a table\n",
    "results_df = pd.DataFrame(results, columns=[\"Degree\", \"MSE\", \"MAE\", \"R-squared\"])\n",
    "results_df[\"MSE\"] = results_df[\"MSE\"].apply(lambda x: \"{:.5f}\".format(x))\n",
    "results_df[\"MAE\"] = results_df[\"MAE\"].apply(lambda x: \"{:.5f}\".format(x))\n",
    "results_df[\"R-squared\"] = results_df[\"R-squared\"].apply(lambda x: \"{:.5f}\".format(x))\n",
    "print(results_df)"
   ]
  },
  {
   "cell_type": "markdown",
   "id": "7261152d",
   "metadata": {
    "jupyter": {
     "source_hidden": true
    },
    "tags": []
   },
   "source": [
    "## 4.2 Ridge- & Lasso-Regression"
   ]
  },
  {
   "cell_type": "markdown",
   "id": "1795ca9c-abb2-4d38-8c58-ccc56e5a55bb",
   "metadata": {
    "jupyter": {
     "source_hidden": true
    },
    "tags": []
   },
   "source": [
    "To increase the fitting of our Regression, we regularize our models with the Lasso- & Ridge-Regression. We start with the L1-regularization."
   ]
  },
  {
   "cell_type": "code",
   "execution_count": 125,
   "id": "a7a67741-27ac-49ce-b8d7-dee1a6151268",
   "metadata": {
    "jupyter": {
     "source_hidden": true
    },
    "tags": []
   },
   "outputs": [],
   "source": [
    "from sklearn.linear_model import Lasso\n",
    "from sklearn.linear_model import Ridge"
   ]
  },
  {
   "cell_type": "markdown",
   "id": "f3381d8b-c26a-402d-ab66-ac27d2dad734",
   "metadata": {
    "jupyter": {
     "source_hidden": true
    },
    "tags": []
   },
   "source": [
    "#### Lasso regression ($L_1$ regularization)\n",
    "\n"
   ]
  },
  {
   "cell_type": "markdown",
   "id": "2223cd95-473f-4777-8b45-8b9b54e35a81",
   "metadata": {
    "jupyter": {
     "source_hidden": true
    },
    "tags": []
   },
   "source": [
    "##### Degree=1"
   ]
  },
  {
   "cell_type": "code",
   "execution_count": 145,
   "id": "28ae89de-fedb-4c6d-be67-d6984234db3b",
   "metadata": {
    "collapsed": true,
    "jupyter": {
     "outputs_hidden": true,
     "source_hidden": true
    },
    "tags": []
   },
   "outputs": [
    {
     "name": "stdout",
     "output_type": "stream",
     "text": [
      "The R^2 for linear regression is:  0.6660733529465747\n"
     ]
    }
   ],
   "source": [
    "model_L1_1 = Lasso(alpha = 0.1)\n",
    "\n",
    "model_L1_1.fit(X_train_poly, y_train)\n",
    "predict_1 = model_L1_1.predict(X_train_poly)\n",
    "\n",
    "print ('The R^2 for linear regression is: ',r2_score(y_train, predict_1))"
   ]
  },
  {
   "cell_type": "markdown",
   "id": "a487c379-e1a8-4f3e-89a4-a35ad8224fd8",
   "metadata": {
    "jupyter": {
     "source_hidden": true
    },
    "tags": []
   },
   "source": [
    "As we can see, there is no increase of our R^2 by using the L1-regularization. Therefore we will focus on the polynomial function."
   ]
  },
  {
   "cell_type": "markdown",
   "id": "e3754c1e-e345-48a2-a641-15c9ddabcac7",
   "metadata": {
    "jupyter": {
     "source_hidden": true
    },
    "tags": []
   },
   "source": [
    "##### Degree=2"
   ]
  },
  {
   "cell_type": "code",
   "execution_count": 135,
   "id": "21e39cfe-c3ec-4284-85b7-8d9111209670",
   "metadata": {
    "collapsed": true,
    "jupyter": {
     "outputs_hidden": true,
     "source_hidden": true
    },
    "tags": []
   },
   "outputs": [
    {
     "name": "stdout",
     "output_type": "stream",
     "text": [
      "The R^2 for quadratic curve is:  0.866309073970725\n"
     ]
    },
    {
     "name": "stderr",
     "output_type": "stream",
     "text": [
      "C:\\Users\\User\\anaconda3\\lib\\site-packages\\sklearn\\linear_model\\_coordinate_descent.py:647: ConvergenceWarning: Objective did not converge. You might want to increase the number of iterations, check the scale of the features or consider increasing regularisation. Duality gap: 8.922e+06, tolerance: 1.926e+04\n",
      "  model = cd_fast.enet_coordinate_descent(\n"
     ]
    }
   ],
   "source": [
    "model_L1_2 = Lasso(alpha = 0.1)\n",
    "\n",
    "model_L1_2.fit(X_train_poly2, y_train)\n",
    "predict = model_L1_2.predict(X_train_poly2)\n",
    "\n",
    "#print(\"Coefficients \", model_L2.coef_, \"\\nIntercept \", model_L2.intercept_ )\n",
    "\n",
    "print ('The R^2 for quadratic curve is: ',r2_score(y_train, predict))"
   ]
  },
  {
   "cell_type": "markdown",
   "id": "fbd73662-7d71-44a7-81d5-6e0c14ec36ef",
   "metadata": {
    "jupyter": {
     "source_hidden": true
    },
    "tags": []
   },
   "source": [
    "As you can see, for a really low penalty term $\\alpha$ < 0.01 we can increase the R^2 of our model. An increase in our performance might be possible, but only if we rarely penalise the absolute values of our regression coefficients."
   ]
  },
  {
   "cell_type": "markdown",
   "id": "e25f7ad9-2c75-476b-b9ed-0f7ba1ff6fd2",
   "metadata": {
    "jupyter": {
     "source_hidden": true
    },
    "tags": []
   },
   "source": [
    "#### Ridge regression ($L_2$ Regularization)"
   ]
  },
  {
   "cell_type": "markdown",
   "id": "c347c559-3927-4717-89eb-408b4e8a6858",
   "metadata": {
    "jupyter": {
     "source_hidden": true
    },
    "tags": []
   },
   "source": [
    "##### Polynomial=2"
   ]
  },
  {
   "cell_type": "code",
   "execution_count": 149,
   "id": "84df225d-afa2-4da5-92a2-ca917471ddec",
   "metadata": {
    "collapsed": true,
    "jupyter": {
     "outputs_hidden": true,
     "source_hidden": true
    },
    "tags": []
   },
   "outputs": [
    {
     "name": "stderr",
     "output_type": "stream",
     "text": [
      "C:\\Users\\User\\anaconda3\\lib\\site-packages\\sklearn\\linear_model\\_base.py:141: FutureWarning: 'normalize' was deprecated in version 1.0 and will be removed in 1.2.\n",
      "If you wish to scale the data, use Pipeline with a StandardScaler in a preprocessing stage. To reproduce the previous behavior:\n",
      "\n",
      "from sklearn.pipeline import make_pipeline\n",
      "\n",
      "model = make_pipeline(StandardScaler(with_mean=False), Ridge())\n",
      "\n",
      "If you wish to pass a sample_weight parameter, you need to pass it as a fit parameter to each step of the pipeline as follows:\n",
      "\n",
      "kwargs = {s[0] + '__sample_weight': sample_weight for s in model.steps}\n",
      "model.fit(X, y, **kwargs)\n",
      "\n",
      "Set parameter alpha to: original_alpha * n_samples. \n",
      "  warnings.warn(\n"
     ]
    },
    {
     "name": "stdout",
     "output_type": "stream",
     "text": [
      "The R^2 for polynomial regression is:  0.9016295125692947\n"
     ]
    }
   ],
   "source": [
    "Poly = PolynomialFeatures(degree = 2)\n",
    "\n",
    "model_L2_2 = Ridge(alpha = 0.01, normalize = True, solver = 'lsqr')\n",
    "\n",
    "model_L2_2.fit(X_train_poly2, y_train)\n",
    "prediction = model_L2_2.predict(X_train_poly2)\n",
    "\n",
    "#print(\"Coefficients \", model_L2.coef_, \"\\nIntercept \", model_L2.intercept_ )\n",
    "\n",
    "print ('The R^2 for polynomial regression is: ',r2_score(y_train, prediction))"
   ]
  },
  {
   "cell_type": "markdown",
   "id": "9be12244-da4d-4677-b619-d0c97f518b9c",
   "metadata": {
    "jupyter": {
     "source_hidden": true
    },
    "tags": []
   },
   "source": [
    "As you can see, for a really low penalty term $\\alpha$ < 0.01 we can increase the R^2 of our model. \n",
    "Overall we can say that an increase of polynomial model (d=2) might be possible, but only if we penalise the sum of the absolute values of the coefficients (L1) or penalise the sum of squares of the model coefficients (L2)."
   ]
  },
  {
   "cell_type": "markdown",
   "id": "9cc4644c-af8a-42e2-a0f4-e8436020a637",
   "metadata": {},
   "source": [
    "## 4.3 Random Forest"
   ]
  },
  {
   "cell_type": "code",
   "execution_count": 18,
   "id": "df926fbc-caa6-40a4-a96f-9175822bff0d",
   "metadata": {},
   "outputs": [
    {
     "name": "stdout",
     "output_type": "stream",
     "text": [
      "Best parameters found:  {'bootstrap': True, 'ccp_alpha': 0.0, 'criterion': 'mse', 'max_depth': None, 'max_features': 'sqrt', 'max_leaf_nodes': None, 'max_samples': None, 'min_impurity_decrease': 0.0, 'min_impurity_split': None, 'min_samples_leaf': 1, 'min_samples_split': 2, 'min_weight_fraction_leaf': 0.0, 'n_estimators': 100, 'n_jobs': None, 'oob_score': False, 'random_state': 42, 'verbose': 0, 'warm_start': False}\n"
     ]
    }
   ],
   "source": [
    "from sklearn.ensemble import RandomForestRegressor\n",
    "from sklearn.model_selection import RandomizedSearchCV\n",
    "from sklearn.metrics import mean_squared_error\n",
    "from sklearn.metrics import mean_absolute_error, r2_score\n",
    "\n",
    "# Define the parameter grid for the Random Forest model\n",
    "param_grid = {\n",
    "    'n_estimators': [50, 100, 200, 500],\n",
    "    'max_depth': [2, 5, 10, 20, None],\n",
    "    'min_samples_split': [2, 5, 10],\n",
    "    'min_samples_leaf': [1, 2, 4],\n",
    "    'max_features': ['auto', 'sqrt', 'log2']\n",
    "}\n",
    "\n",
    "# Create a Random Forest model\n",
    "rf_model = RandomForestRegressor(random_state=42)\n",
    "\n",
    "# Use RandomizedSearchCV to perform hyperparameter tuning\n",
    "random_search = RandomizedSearchCV(estimator=rf_model, param_distributions=param_grid, n_iter=10, cv=5, n_jobs=-1, random_state=42)\n",
    "\n",
    "# Fit the RandomizedSearchCV object to the training data\n",
    "random_search.fit(X_train, y_train)\n",
    "\n",
    "# Print the best parameters from the search\n",
    "best_params = random_search.best_estimator_.get_params()\n",
    "print(\"Best parameters found: \",best_params)"
   ]
  },
  {
   "cell_type": "code",
   "execution_count": 19,
   "id": "42c69396-2e02-4777-8136-3189cdb169a8",
   "metadata": {},
   "outputs": [
    {
     "name": "stdout",
     "output_type": "stream",
     "text": [
      "Mean Squared Error:  2147.7500762154123\n",
      "Mean Absolute Error:  26.23946473968073\n",
      "R-squared:  0.9283358632489239\n"
     ]
    }
   ],
   "source": [
    "# Use the best parameters to create a new model\n",
    "best_rf_model = RandomForestRegressor(random_state=42, **random_search.best_params_)\n",
    "\n",
    "# Fit the new model to the training data\n",
    "best_rf_model.fit(X_train, y_train)\n",
    "\n",
    "# Make predictions on the holdout set\n",
    "y_pred = best_rf_model.predict(X_test)\n",
    "\n",
    "# Evaluate the new model's performance on the holdout set\n",
    "mse = mean_squared_error(y_test, y_pred)\n",
    "mae = mean_absolute_error(y_test, y_pred)\n",
    "r2 = r2_score(y_test, y_pred)\n",
    "print(\"Mean Squared Error: \", mse)\n",
    "print(\"Mean Absolute Error: \", mae)\n",
    "print(\"R-squared: \", r2)"
   ]
  },
  {
   "cell_type": "code",
   "execution_count": 20,
   "id": "7887af32-ab67-4950-a03a-2e3add8b3f55",
   "metadata": {},
   "outputs": [
    {
     "data": {
      "image/png": "[encoded data removed]",
      "text/plain": [
       "<Figure size 432x288 with 1 Axes>"
      ]
     },
     "metadata": {
      "needs_background": "light"
     },
     "output_type": "display_data"
    },
    {
     "data": {
      "image/png": "[encoded data removed]",
      "text/plain": [
       "<Figure size 720x432 with 1 Axes>"
      ]
     },
     "metadata": {
      "needs_background": "light"
     },
     "output_type": "display_data"
    },
    {
     "data": {
      "image/png": "[encoded data removed]",
      "text/plain": [
       "<Figure size 432x288 with 1 Axes>"
      ]
     },
     "metadata": {
      "needs_background": "light"
     },
     "output_type": "display_data"
    }
   ],
   "source": [
    "# Create an array of colors based on the difference between the predicted and actual values\n",
    "colors = np.abs(y_test - y_pred)\n",
    "\n",
    "# Plot the predicted vs actual values on the holdout set\n",
    "plt.scatter(y_test, y_pred, c=colors)\n",
    "plt.xlabel(\"Actual Values\")\n",
    "plt.ylabel(\"Predicted Values\")\n",
    "plt.title(\"Predicted vs Actual Values\")\n",
    "plt.show()\n",
    "\n",
    "# Plot the distribution of the feature importances\n",
    "importances = best_rf_model.feature_importances_\n",
    "features = X_train.columns\n",
    "indices = np.argsort(importances)\n",
    "plt.figure(figsize=(10,6))\n",
    "plt.barh(range(len(indices)), importances[indices], align='center')\n",
    "plt.yticks(range(len(indices)), [features[i] for i in indices])\n",
    "plt.xlabel('Relative Importance')\n",
    "plt.title('Feature Importance')\n",
    "plt.show()\n",
    "\n",
    "# plot the training and validation loss/score during hyperparameter tuning\n",
    "plt.plot(random_search.cv_results_['mean_test_score'], label = 'mean test score')\n",
    "plt.xlabel('Iterations')\n",
    "plt.ylabel('Score')\n",
    "plt.title('Training and validation loss/score during hyperparameter tuning')\n",
    "plt.legend()\n",
    "plt.show()"
   ]
  },
  {
   "cell_type": "markdown",
   "id": "3efeddb3-b916-4ee5-9d8b-275d50e25b26",
   "metadata": {},
   "source": [
    "The metrics indicate that the random forest model is able to predict the number of bike rentals per hour with a relatively high level of accuracy. The Mean Squared Error (MSE) is a measure of how much the model's predictions deviate from the true values, with a lower value indicating a better fit. In this case, the MSE is 2147.75, which suggests that the model's predictions are relatively close to the true values.\n",
    "\n",
    "The Mean Absolute Error (MAE) is similar to MSE, but it measures the average magnitude of the errors in the model's predictions, without considering their direction. The MAE in this case is 26.23, which suggests that the average magnitude of the errors is relatively low.\n",
    "\n",
    "The R-squared value is a measure of how much of the variation in the output variable is explained by the model. A value of 1 indicates that the model explains all the variation, while a value of 0 means the model explains none of it. The R-squared value of 0.9283358632489239 indicates that the model explains a large proportion of the variation in the output variable, which is a good indication of model performance.\n",
    "\n",
    "In summary, the results of the random forest model indicate that the model is able to predict the number of bike rentals per hour with a relatively high level of accuracy, and the MSE, MAE and R-squared values are all good indicators of the model's performance."
   ]
  },
  {
   "cell_type": "markdown",
   "id": "f94215c4-856c-4fad-ba7e-23332ece8048",
   "metadata": {},
   "source": [
    "## 4.4 Neural Network"
   ]
  },
  {
   "cell_type": "markdown",
   "id": "876c59c3-0da4-4164-84f7-69fc89168823",
   "metadata": {},
   "source": [
    "First try: The warning message \"ConvergenceWarning: lbfgs failed to converge (status=1): STOP: TOTAL NO. of ITERATIONS REACHED LIMIT\" is raised because the optimizer used by the neural network (L-BFGS) was not able to find a solution that satisfies the convergence criteria within the maximum number of iterations specified.\n",
    "\n",
    "Solution: Increase the maximum number of iterations and scale the input features: 'max_iter': [1000, 2000, 5000]"
   ]
  },
  {
   "cell_type": "code",
   "execution_count": 24,
   "id": "e15dff3e-339e-42eb-92a1-ecbaa5ec0db5",
   "metadata": {},
   "outputs": [
    {
     "name": "stderr",
     "output_type": "stream",
     "text": [
      "C:\\Users\\lucas\\anaconda3\\lib\\site-packages\\sklearn\\neural_network\\_multilayer_perceptron.py:500: ConvergenceWarning: lbfgs failed to converge (status=1):\n",
      "STOP: TOTAL NO. of ITERATIONS REACHED LIMIT.\n",
      "\n",
      "Increase the number of iterations (max_iter) or scale the data as shown in:\n",
      "    https://scikit-learn.org/stable/modules/preprocessing.html\n",
      "  self.n_iter_ = _check_optimize_result(\"lbfgs\", opt_res, self.max_iter)\n"
     ]
    },
    {
     "name": "stdout",
     "output_type": "stream",
     "text": [
      "Mean Squared Error:  2909.6630511177023\n",
      "Mean Absolute Error:  35.0541723838762\n",
      "R-squared:  0.9029130562703616\n"
     ]
    },
    {
     "data": {
      "image/png": "[encoded data removed]",
      "text/plain": [
       "<Figure size 432x288 with 1 Axes>"
      ]
     },
     "metadata": {
      "needs_background": "light"
     },
     "output_type": "display_data"
    },
    {
     "name": "stdout",
     "output_type": "stream",
     "text": [
      "Best parameters found:  {'solver': 'lbfgs', 'max_iter': 2000, 'learning_rate': 'invscaling', 'hidden_layer_sizes': (100,), 'activation': 'relu'}\n"
     ]
    }
   ],
   "source": [
    "from sklearn.neural_network import MLPRegressor\n",
    "from sklearn.preprocessing import StandardScaler\n",
    "\n",
    "# Scale the input features\n",
    "scaler = StandardScaler()\n",
    "X_train = scaler.fit_transform(X_train)\n",
    "X_test = scaler.transform(X_test)\n",
    "\n",
    "# Define the parameter grid for the MLP model\n",
    "param_grid = {\n",
    "    'hidden_layer_sizes': [(10,), (50,), (100,), (200,)],\n",
    "    'activation': ['relu', 'logistic'],\n",
    "    'solver': ['adam', 'lbfgs'],\n",
    "    'learning_rate': ['constant', 'invscaling'],\n",
    "    'max_iter': [1000, 2000, 5000]\n",
    "}\n",
    "\n",
    "# Create a MLP model\n",
    "mlp_model = MLPRegressor(random_state=42)\n",
    "\n",
    "# Use RandomizedSearchCV to perform hyperparameter tuning\n",
    "random_search = RandomizedSearchCV(estimator=mlp_model, param_distributions=param_grid, n_iter=10, cv=5, n_jobs=-1, random_state=42)\n",
    "\n",
    "# Train the model on the training data\n",
    "random_search.fit(X_train, y_train)\n",
    "\n",
    "# Make predictions on the test set\n",
    "y_pred = random_search.predict(X_test)\n",
    "\n",
    "# Evaluate model performance\n",
    "mse = mean_squared_error(y_test, y_pred)\n",
    "mae = mean_absolute_error(y_test, y_pred)\n",
    "r2 = r2_score(y_test, y_pred)\n",
    "print(\"Mean Squared Error: \", mse)\n",
    "print(\"Mean Absolute Error: \", mae)\n",
    "print(\"R-squared: \", r2)\n",
    "\n",
    "# Plot the predicted vs actual values on the test set\n",
    "plt.scatter(y_test, y_pred)\n",
    "plt.xlabel(\"Actual Values\")\n",
    "plt.ylabel(\"Predicted Values\")\n",
    "plt.title(\"Predicted vs Actual Values\")\n",
    "plt.show()\n",
    "\n",
    "# Print the best parameters from the search\n",
    "best_params = random_search.best_estimator_.get_params()\n",
    "print(\"Best parameters found: \",random_search.best_params_)\n"
   ]
  },
  {
   "cell_type": "markdown",
   "id": "dd12a26b-d73c-45aa-a159-ece9a9b449f2",
   "metadata": {},
   "source": [
    "## 4.5 Gradient Boosting "
   ]
  },
  {
   "cell_type": "code",
   "execution_count": 27,
   "id": "4ba4c64a-3214-41b1-9a2c-7f4064a9ab3b",
   "metadata": {},
   "outputs": [
    {
     "name": "stdout",
     "output_type": "stream",
     "text": [
      "Mean Squared Error:  2725.53845703338\n",
      "Mean Absolute Error:  32.71461677160589\n",
      "R-squared:  0.9090567553142218\n"
     ]
    }
   ],
   "source": [
    "from sklearn.ensemble import GradientBoostingRegressor\n",
    "\n",
    "# Create a Gradient Boosting model\n",
    "gb_model = GradientBoostingRegressor(random_state=42)\n",
    "\n",
    "# Train the model using the random forest and neural network predictions as input features\n",
    "X_train_gb = np.column_stack((best_rf_model.predict(X_train), random_search.predict(X_train)))\n",
    "X_test_gb = np.column_stack((best_rf_model.predict(X_test), random_search.predict(X_test)))\n",
    "\n",
    "gb_model.fit(X_train_gb, y_train)\n",
    "\n",
    "# Make predictions on the test set\n",
    "y_pred = gb_model.predict(X_test_gb)\n",
    "\n",
    "# Evaluate the model performance\n",
    "mse = mean_squared_error(y_test, y_pred)\n",
    "mae = mean_absolute_error(y_test, y_pred)\n",
    "r2 = r2_score(y_test, y_pred)\n",
    "\n",
    "print(\"Mean Squared Error: \", mse)\n",
    "print(\"Mean Absolute Error: \", mae)\n",
    "print(\"R-squared: \", r2)\n"
   ]
  }
 ],
 "metadata": {
  "kernelspec": {
   "display_name": "Python 3 (ipykernel)",
   "language": "python",
   "name": "python3"
  },
  "language_info": {
   "codemirror_mode": {
    "name": "ipython",
    "version": 3
   },
   "file_extension": ".py",
   "mimetype": "text/x-python",
   "name": "python",
   "nbconvert_exporter": "python",
   "pygments_lexer": "ipython3",
   "version": "3.9.7"
  },
  "vp": {
   "vp_config_version": "1.0.0",
   "vp_menu_width": 273,
   "vp_note_display": false,
   "vp_note_width": 0,
   "vp_position": {
    "width": 278
   },
   "vp_section_display": false,
   "vp_signature": "VisualPython"
  }
 },
 "nbformat": 4,
 "nbformat_minor": 5
}
