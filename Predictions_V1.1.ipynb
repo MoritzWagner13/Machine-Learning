{
 "cells": [
  {
   "cell_type": "code",
   "execution_count": 1,
   "id": "1c65abc2-0b20-4a85-a56a-41803cc32540",
   "metadata": {},
   "outputs": [],
   "source": [
    "import numpy as np\n",
    "from numpy import mean\n",
    "from numpy import std\n",
    "\n",
    "import pandas as pd\n",
    "import matplotlib as mpl\n",
    "import matplotlib.pyplot as plt\n",
    "from matplotlib import rcParams\n",
    "import seaborn as sns\n",
    "import datetime\n",
    "\n",
    "from sklearn.linear_model import LinearRegression\n",
    "from sklearn.metrics import mean_squared_error, mean_absolute_error, r2_score\n",
    "from sklearn.metrics import mean_squared_error\n",
    "from sklearn.preprocessing import PolynomialFeatures"
   ]
  },
  {
   "cell_type": "code",
   "execution_count": 2,
   "id": "c39b1161-bb9d-4d15-9940-ca401538b626",
   "metadata": {},
   "outputs": [],
   "source": [
    "pred_model = pd.read_csv(\"Pred_Model.csv\")"
   ]
  },
  {
   "cell_type": "code",
   "execution_count": 3,
   "id": "546385ca-96fc-4d9f-b461-006ada96fe01",
   "metadata": {
    "tags": []
   },
   "outputs": [],
   "source": [
    "pred_model['start_time'] = pd.to_datetime(pred_model['start_time'])\n",
    "pred_model['end_time'] = pd.to_datetime(pred_model['end_time'])"
   ]
  },
  {
   "cell_type": "code",
   "execution_count": 4,
   "id": "896a72f9-43ad-4037-baeb-1a9fd4eb1017",
   "metadata": {
    "tags": []
   },
   "outputs": [],
   "source": [
    "pred_model_counts = pred_model.groupby([pd.Grouper(key='start_time', freq = 'H')]).size().to_frame('counts')"
   ]
  },
  {
   "cell_type": "code",
   "execution_count": 5,
   "id": "eaa3e09c-02c0-480a-ba6b-0a6ba50d316a",
   "metadata": {},
   "outputs": [
    {
     "data": {
      "text/plain": [
       "1236059"
      ]
     },
     "execution_count": 5,
     "metadata": {},
     "output_type": "execute_result"
    }
   ],
   "source": [
    "pred_model_counts[\"counts\"].sum()"
   ]
  },
  {
   "cell_type": "code",
   "execution_count": 6,
   "id": "ec08011b-3329-4b18-b496-659b4542de87",
   "metadata": {
    "tags": []
   },
   "outputs": [],
   "source": [
    "# make index to column to create day of week and month based on date\n",
    "pred_model_counts['index1'] = pred_model_counts.index\n",
    "pred_model_counts[\"hourofday\"] = pred_model_counts[\"index1\"].dt.hour\n",
    "pred_model_counts[\"weekday\"] = pred_model_counts[\"index1\"].dt.dayofweek\n",
    "pred_model_counts[\"month\"] = pred_model_counts[\"index1\"].dt.month"
   ]
  },
  {
   "cell_type": "code",
   "execution_count": 7,
   "id": "8588b05c-b12a-4245-a586-5b6263db0e4e",
   "metadata": {
    "tags": []
   },
   "outputs": [],
   "source": [
    "pred_model_counts = pred_model_counts.drop('index1', axis=1)"
   ]
  },
  {
   "cell_type": "code",
   "execution_count": 8,
   "id": "6a86ba7d-2c06-4d91-80a9-49e01c26e633",
   "metadata": {},
   "outputs": [
    {
     "data": {
      "text/html": [
       "<div>\n",
       "<style scoped>\n",
       "    .dataframe tbody tr th:only-of-type {\n",
       "        vertical-align: middle;\n",
       "    }\n",
       "\n",
       "    .dataframe tbody tr th {\n",
       "        vertical-align: top;\n",
       "    }\n",
       "\n",
       "    .dataframe thead th {\n",
       "        text-align: right;\n",
       "    }\n",
       "</style>\n",
       "<table border=\"1\" class=\"dataframe\">\n",
       "  <thead>\n",
       "    <tr style=\"text-align: right;\">\n",
       "      <th></th>\n",
       "      <th>counts</th>\n",
       "      <th>hourofday</th>\n",
       "      <th>weekday</th>\n",
       "      <th>month</th>\n",
       "    </tr>\n",
       "    <tr>\n",
       "      <th>daytime</th>\n",
       "      <th></th>\n",
       "      <th></th>\n",
       "      <th></th>\n",
       "      <th></th>\n",
       "    </tr>\n",
       "  </thead>\n",
       "  <tbody>\n",
       "    <tr>\n",
       "      <th>2016-01-01 00:00:00</th>\n",
       "      <td>13</td>\n",
       "      <td>0</td>\n",
       "      <td>4</td>\n",
       "      <td>1</td>\n",
       "    </tr>\n",
       "    <tr>\n",
       "      <th>2016-01-01 01:00:00</th>\n",
       "      <td>14</td>\n",
       "      <td>1</td>\n",
       "      <td>4</td>\n",
       "      <td>1</td>\n",
       "    </tr>\n",
       "    <tr>\n",
       "      <th>2016-01-01 02:00:00</th>\n",
       "      <td>9</td>\n",
       "      <td>2</td>\n",
       "      <td>4</td>\n",
       "      <td>1</td>\n",
       "    </tr>\n",
       "    <tr>\n",
       "      <th>2016-01-01 03:00:00</th>\n",
       "      <td>1</td>\n",
       "      <td>3</td>\n",
       "      <td>4</td>\n",
       "      <td>1</td>\n",
       "    </tr>\n",
       "    <tr>\n",
       "      <th>2016-01-01 04:00:00</th>\n",
       "      <td>0</td>\n",
       "      <td>4</td>\n",
       "      <td>4</td>\n",
       "      <td>1</td>\n",
       "    </tr>\n",
       "    <tr>\n",
       "      <th>...</th>\n",
       "      <td>...</td>\n",
       "      <td>...</td>\n",
       "      <td>...</td>\n",
       "      <td>...</td>\n",
       "    </tr>\n",
       "    <tr>\n",
       "      <th>2016-12-31 19:00:00</th>\n",
       "      <td>20</td>\n",
       "      <td>19</td>\n",
       "      <td>5</td>\n",
       "      <td>12</td>\n",
       "    </tr>\n",
       "    <tr>\n",
       "      <th>2016-12-31 20:00:00</th>\n",
       "      <td>13</td>\n",
       "      <td>20</td>\n",
       "      <td>5</td>\n",
       "      <td>12</td>\n",
       "    </tr>\n",
       "    <tr>\n",
       "      <th>2016-12-31 21:00:00</th>\n",
       "      <td>22</td>\n",
       "      <td>21</td>\n",
       "      <td>5</td>\n",
       "      <td>12</td>\n",
       "    </tr>\n",
       "    <tr>\n",
       "      <th>2016-12-31 22:00:00</th>\n",
       "      <td>6</td>\n",
       "      <td>22</td>\n",
       "      <td>5</td>\n",
       "      <td>12</td>\n",
       "    </tr>\n",
       "    <tr>\n",
       "      <th>2016-12-31 23:00:00</th>\n",
       "      <td>6</td>\n",
       "      <td>23</td>\n",
       "      <td>5</td>\n",
       "      <td>12</td>\n",
       "    </tr>\n",
       "  </tbody>\n",
       "</table>\n",
       "<p>8784 rows × 4 columns</p>\n",
       "</div>"
      ],
      "text/plain": [
       "                     counts  hourofday  weekday  month\n",
       "daytime                                               \n",
       "2016-01-01 00:00:00      13          0        4      1\n",
       "2016-01-01 01:00:00      14          1        4      1\n",
       "2016-01-01 02:00:00       9          2        4      1\n",
       "2016-01-01 03:00:00       1          3        4      1\n",
       "2016-01-01 04:00:00       0          4        4      1\n",
       "...                     ...        ...      ...    ...\n",
       "2016-12-31 19:00:00      20         19        5     12\n",
       "2016-12-31 20:00:00      13         20        5     12\n",
       "2016-12-31 21:00:00      22         21        5     12\n",
       "2016-12-31 22:00:00       6         22        5     12\n",
       "2016-12-31 23:00:00       6         23        5     12\n",
       "\n",
       "[8784 rows x 4 columns]"
      ]
     },
     "execution_count": 8,
     "metadata": {},
     "output_type": "execute_result"
    }
   ],
   "source": [
    "pred_model_counts.index.names = ['daytime']\n",
    "pred_model_counts.index = pd.to_datetime(pred_model_counts.index)\n",
    "pred_model_counts"
   ]
  },
  {
   "cell_type": "markdown",
   "id": "8b0d51f4-669b-4f24-9fba-1baaf3fe88f0",
   "metadata": {},
   "source": [
    "## Import weather and merge with pred_model_counts"
   ]
  },
  {
   "cell_type": "code",
   "execution_count": 9,
   "id": "f02ef335-6c42-49d5-a535-e416213aeb05",
   "metadata": {
    "tags": []
   },
   "outputs": [
    {
     "data": {
      "text/html": [
       "<div>\n",
       "<style scoped>\n",
       "    .dataframe tbody tr th:only-of-type {\n",
       "        vertical-align: middle;\n",
       "    }\n",
       "\n",
       "    .dataframe tbody tr th {\n",
       "        vertical-align: top;\n",
       "    }\n",
       "\n",
       "    .dataframe thead th {\n",
       "        text-align: right;\n",
       "    }\n",
       "</style>\n",
       "<table border=\"1\" class=\"dataframe\">\n",
       "  <thead>\n",
       "    <tr style=\"text-align: right;\">\n",
       "      <th></th>\n",
       "      <th>Unnamed: 0</th>\n",
       "      <th>max_temp</th>\n",
       "      <th>min_temp</th>\n",
       "      <th>precip</th>\n",
       "      <th>interp_maxtemp</th>\n",
       "      <th>interp_mintemp</th>\n",
       "      <th>interp_precip</th>\n",
       "      <th>update_maxtemp</th>\n",
       "      <th>update_mintemp</th>\n",
       "      <th>update_precip</th>\n",
       "    </tr>\n",
       "  </thead>\n",
       "  <tbody>\n",
       "    <tr>\n",
       "      <th>0</th>\n",
       "      <td>2015-01-01 06:00:00</td>\n",
       "      <td>-5.6</td>\n",
       "      <td>-5.6</td>\n",
       "      <td>0.0</td>\n",
       "      <td>-5.6</td>\n",
       "      <td>-5.6</td>\n",
       "      <td>0.0</td>\n",
       "      <td>-5.6</td>\n",
       "      <td>-5.6</td>\n",
       "      <td>0.0</td>\n",
       "    </tr>\n",
       "    <tr>\n",
       "      <th>1</th>\n",
       "      <td>2015-01-01 07:00:00</td>\n",
       "      <td>-5.6</td>\n",
       "      <td>-5.6</td>\n",
       "      <td>0.0</td>\n",
       "      <td>-5.6</td>\n",
       "      <td>-5.6</td>\n",
       "      <td>0.0</td>\n",
       "      <td>-5.6</td>\n",
       "      <td>-5.6</td>\n",
       "      <td>0.0</td>\n",
       "    </tr>\n",
       "    <tr>\n",
       "      <th>2</th>\n",
       "      <td>2015-01-01 08:00:00</td>\n",
       "      <td>-5.6</td>\n",
       "      <td>-5.6</td>\n",
       "      <td>0.0</td>\n",
       "      <td>-5.6</td>\n",
       "      <td>-5.6</td>\n",
       "      <td>0.0</td>\n",
       "      <td>-5.6</td>\n",
       "      <td>-5.6</td>\n",
       "      <td>0.0</td>\n",
       "    </tr>\n",
       "    <tr>\n",
       "      <th>3</th>\n",
       "      <td>2015-01-01 09:00:00</td>\n",
       "      <td>-4.4</td>\n",
       "      <td>-4.4</td>\n",
       "      <td>0.0</td>\n",
       "      <td>-4.4</td>\n",
       "      <td>-4.4</td>\n",
       "      <td>0.0</td>\n",
       "      <td>-4.4</td>\n",
       "      <td>-4.4</td>\n",
       "      <td>0.0</td>\n",
       "    </tr>\n",
       "    <tr>\n",
       "      <th>4</th>\n",
       "      <td>2015-01-01 10:00:00</td>\n",
       "      <td>-5.6</td>\n",
       "      <td>-5.6</td>\n",
       "      <td>0.0</td>\n",
       "      <td>-5.6</td>\n",
       "      <td>-5.6</td>\n",
       "      <td>0.0</td>\n",
       "      <td>-5.6</td>\n",
       "      <td>-5.6</td>\n",
       "      <td>0.0</td>\n",
       "    </tr>\n",
       "  </tbody>\n",
       "</table>\n",
       "</div>"
      ],
      "text/plain": [
       "            Unnamed: 0  max_temp  min_temp  precip  interp_maxtemp  \\\n",
       "0  2015-01-01 06:00:00      -5.6      -5.6     0.0            -5.6   \n",
       "1  2015-01-01 07:00:00      -5.6      -5.6     0.0            -5.6   \n",
       "2  2015-01-01 08:00:00      -5.6      -5.6     0.0            -5.6   \n",
       "3  2015-01-01 09:00:00      -4.4      -4.4     0.0            -4.4   \n",
       "4  2015-01-01 10:00:00      -5.6      -5.6     0.0            -5.6   \n",
       "\n",
       "   interp_mintemp  interp_precip  update_maxtemp  update_mintemp  \\\n",
       "0            -5.6            0.0            -5.6            -5.6   \n",
       "1            -5.6            0.0            -5.6            -5.6   \n",
       "2            -5.6            0.0            -5.6            -5.6   \n",
       "3            -4.4            0.0            -4.4            -4.4   \n",
       "4            -5.6            0.0            -5.6            -5.6   \n",
       "\n",
       "   update_precip  \n",
       "0            0.0  \n",
       "1            0.0  \n",
       "2            0.0  \n",
       "3            0.0  \n",
       "4            0.0  "
      ]
     },
     "execution_count": 9,
     "metadata": {},
     "output_type": "execute_result"
    }
   ],
   "source": [
    "weather_hourly = pd.read_csv('weather_hourly.csv')\n",
    "weather_hourly.head()"
   ]
  },
  {
   "cell_type": "code",
   "execution_count": 10,
   "id": "82d91869-fcb6-4432-8438-065dd31c24be",
   "metadata": {
    "tags": []
   },
   "outputs": [
    {
     "data": {
      "text/html": [
       "<div>\n",
       "<style scoped>\n",
       "    .dataframe tbody tr th:only-of-type {\n",
       "        vertical-align: middle;\n",
       "    }\n",
       "\n",
       "    .dataframe tbody tr th {\n",
       "        vertical-align: top;\n",
       "    }\n",
       "\n",
       "    .dataframe thead th {\n",
       "        text-align: right;\n",
       "    }\n",
       "</style>\n",
       "<table border=\"1\" class=\"dataframe\">\n",
       "  <thead>\n",
       "    <tr style=\"text-align: right;\">\n",
       "      <th></th>\n",
       "      <th>update_precip</th>\n",
       "      <th>temp_av</th>\n",
       "    </tr>\n",
       "    <tr>\n",
       "      <th>daytime</th>\n",
       "      <th></th>\n",
       "      <th></th>\n",
       "    </tr>\n",
       "  </thead>\n",
       "  <tbody>\n",
       "    <tr>\n",
       "      <th>2015-01-01 06:00:00</th>\n",
       "      <td>0.0</td>\n",
       "      <td>-5.6</td>\n",
       "    </tr>\n",
       "    <tr>\n",
       "      <th>2015-01-01 07:00:00</th>\n",
       "      <td>0.0</td>\n",
       "      <td>-5.6</td>\n",
       "    </tr>\n",
       "    <tr>\n",
       "      <th>2015-01-01 08:00:00</th>\n",
       "      <td>0.0</td>\n",
       "      <td>-5.6</td>\n",
       "    </tr>\n",
       "    <tr>\n",
       "      <th>2015-01-01 09:00:00</th>\n",
       "      <td>0.0</td>\n",
       "      <td>-4.4</td>\n",
       "    </tr>\n",
       "    <tr>\n",
       "      <th>2015-01-01 10:00:00</th>\n",
       "      <td>0.0</td>\n",
       "      <td>-5.6</td>\n",
       "    </tr>\n",
       "    <tr>\n",
       "      <th>...</th>\n",
       "      <td>...</td>\n",
       "      <td>...</td>\n",
       "    </tr>\n",
       "    <tr>\n",
       "      <th>2020-01-02 01:00:00</th>\n",
       "      <td>0.0</td>\n",
       "      <td>3.3</td>\n",
       "    </tr>\n",
       "    <tr>\n",
       "      <th>2020-01-02 02:00:00</th>\n",
       "      <td>0.0</td>\n",
       "      <td>3.3</td>\n",
       "    </tr>\n",
       "    <tr>\n",
       "      <th>2020-01-02 03:00:00</th>\n",
       "      <td>0.0</td>\n",
       "      <td>2.8</td>\n",
       "    </tr>\n",
       "    <tr>\n",
       "      <th>2020-01-02 04:00:00</th>\n",
       "      <td>0.0</td>\n",
       "      <td>2.8</td>\n",
       "    </tr>\n",
       "    <tr>\n",
       "      <th>2020-01-02 05:00:00</th>\n",
       "      <td>0.0</td>\n",
       "      <td>2.2</td>\n",
       "    </tr>\n",
       "  </tbody>\n",
       "</table>\n",
       "<p>43848 rows × 2 columns</p>\n",
       "</div>"
      ],
      "text/plain": [
       "                     update_precip  temp_av\n",
       "daytime                                    \n",
       "2015-01-01 06:00:00            0.0     -5.6\n",
       "2015-01-01 07:00:00            0.0     -5.6\n",
       "2015-01-01 08:00:00            0.0     -5.6\n",
       "2015-01-01 09:00:00            0.0     -4.4\n",
       "2015-01-01 10:00:00            0.0     -5.6\n",
       "...                            ...      ...\n",
       "2020-01-02 01:00:00            0.0      3.3\n",
       "2020-01-02 02:00:00            0.0      3.3\n",
       "2020-01-02 03:00:00            0.0      2.8\n",
       "2020-01-02 04:00:00            0.0      2.8\n",
       "2020-01-02 05:00:00            0.0      2.2\n",
       "\n",
       "[43848 rows x 2 columns]"
      ]
     },
     "execution_count": 10,
     "metadata": {},
     "output_type": "execute_result"
    }
   ],
   "source": [
    "weatherhour = weather_hourly.drop(columns = ['max_temp','min_temp','precip','interp_maxtemp','interp_mintemp','interp_precip'])\n",
    "weatherhour['temp_av'] = (weatherhour['update_maxtemp'] + weatherhour['update_mintemp']) / 2\n",
    "weatherhour = weatherhour.drop(columns = ['update_mintemp', 'update_maxtemp'])\n",
    "weatherhour = weatherhour.set_index('Unnamed: 0')\n",
    "weatherhour.index.names = ['daytime']\n",
    "weatherhour.index = pd.to_datetime(weatherhour.index)\n",
    "weatherhour"
   ]
  },
  {
   "cell_type": "code",
   "execution_count": 11,
   "id": "e700855d",
   "metadata": {
    "scrolled": true
   },
   "outputs": [
    {
     "name": "stdout",
     "output_type": "stream",
     "text": [
      "<class 'pandas.core.frame.DataFrame'>\n",
      "DatetimeIndex: 43848 entries, 2015-01-01 06:00:00 to 2020-01-02 05:00:00\n",
      "Data columns (total 2 columns):\n",
      " #   Column         Non-Null Count  Dtype  \n",
      "---  ------         --------------  -----  \n",
      " 0   update_precip  43848 non-null  float64\n",
      " 1   temp_av        43848 non-null  float64\n",
      "dtypes: float64(2)\n",
      "memory usage: 1.0 MB\n"
     ]
    }
   ],
   "source": [
    "weatherhour.info()"
   ]
  },
  {
   "cell_type": "code",
   "execution_count": 12,
   "id": "0b278777-0e5b-4ba1-8ef8-fdebda95c0b5",
   "metadata": {},
   "outputs": [
    {
     "data": {
      "text/html": [
       "<div>\n",
       "<style scoped>\n",
       "    .dataframe tbody tr th:only-of-type {\n",
       "        vertical-align: middle;\n",
       "    }\n",
       "\n",
       "    .dataframe tbody tr th {\n",
       "        vertical-align: top;\n",
       "    }\n",
       "\n",
       "    .dataframe thead th {\n",
       "        text-align: right;\n",
       "    }\n",
       "</style>\n",
       "<table border=\"1\" class=\"dataframe\">\n",
       "  <thead>\n",
       "    <tr style=\"text-align: right;\">\n",
       "      <th></th>\n",
       "      <th>update_precip</th>\n",
       "      <th>temp_av</th>\n",
       "    </tr>\n",
       "    <tr>\n",
       "      <th>daytime</th>\n",
       "      <th></th>\n",
       "      <th></th>\n",
       "    </tr>\n",
       "  </thead>\n",
       "  <tbody>\n",
       "    <tr>\n",
       "      <th>2016-01-01 00:00:00</th>\n",
       "      <td>0.0</td>\n",
       "      <td>5.6</td>\n",
       "    </tr>\n",
       "    <tr>\n",
       "      <th>2016-01-01 01:00:00</th>\n",
       "      <td>0.0</td>\n",
       "      <td>5.0</td>\n",
       "    </tr>\n",
       "    <tr>\n",
       "      <th>2016-01-01 02:00:00</th>\n",
       "      <td>0.0</td>\n",
       "      <td>5.0</td>\n",
       "    </tr>\n",
       "    <tr>\n",
       "      <th>2016-01-01 03:00:00</th>\n",
       "      <td>0.0</td>\n",
       "      <td>4.4</td>\n",
       "    </tr>\n",
       "    <tr>\n",
       "      <th>2016-01-01 04:00:00</th>\n",
       "      <td>0.0</td>\n",
       "      <td>4.4</td>\n",
       "    </tr>\n",
       "    <tr>\n",
       "      <th>...</th>\n",
       "      <td>...</td>\n",
       "      <td>...</td>\n",
       "    </tr>\n",
       "    <tr>\n",
       "      <th>2016-12-31 20:00:00</th>\n",
       "      <td>0.0</td>\n",
       "      <td>1.7</td>\n",
       "    </tr>\n",
       "    <tr>\n",
       "      <th>2016-12-31 21:00:00</th>\n",
       "      <td>0.0</td>\n",
       "      <td>1.7</td>\n",
       "    </tr>\n",
       "    <tr>\n",
       "      <th>2016-12-31 22:00:00</th>\n",
       "      <td>0.0</td>\n",
       "      <td>2.2</td>\n",
       "    </tr>\n",
       "    <tr>\n",
       "      <th>2016-12-31 23:00:00</th>\n",
       "      <td>0.0</td>\n",
       "      <td>3.3</td>\n",
       "    </tr>\n",
       "    <tr>\n",
       "      <th>2017-01-01 00:00:00</th>\n",
       "      <td>0.0</td>\n",
       "      <td>3.9</td>\n",
       "    </tr>\n",
       "  </tbody>\n",
       "</table>\n",
       "<p>8785 rows × 2 columns</p>\n",
       "</div>"
      ],
      "text/plain": [
       "                     update_precip  temp_av\n",
       "daytime                                    \n",
       "2016-01-01 00:00:00            0.0      5.6\n",
       "2016-01-01 01:00:00            0.0      5.0\n",
       "2016-01-01 02:00:00            0.0      5.0\n",
       "2016-01-01 03:00:00            0.0      4.4\n",
       "2016-01-01 04:00:00            0.0      4.4\n",
       "...                            ...      ...\n",
       "2016-12-31 20:00:00            0.0      1.7\n",
       "2016-12-31 21:00:00            0.0      1.7\n",
       "2016-12-31 22:00:00            0.0      2.2\n",
       "2016-12-31 23:00:00            0.0      3.3\n",
       "2017-01-01 00:00:00            0.0      3.9\n",
       "\n",
       "[8785 rows x 2 columns]"
      ]
     },
     "execution_count": 12,
     "metadata": {},
     "output_type": "execute_result"
    }
   ],
   "source": [
    "weatherhour = weatherhour.loc['2016-01-01 00:00:00' : '2017-01-01 00:00:00']\n",
    "weatherhour"
   ]
  },
  {
   "cell_type": "code",
   "execution_count": 13,
   "id": "0f973205-b461-4fba-8017-8a4693ab5346",
   "metadata": {},
   "outputs": [
    {
     "data": {
      "text/html": [
       "<div>\n",
       "<style scoped>\n",
       "    .dataframe tbody tr th:only-of-type {\n",
       "        vertical-align: middle;\n",
       "    }\n",
       "\n",
       "    .dataframe tbody tr th {\n",
       "        vertical-align: top;\n",
       "    }\n",
       "\n",
       "    .dataframe thead th {\n",
       "        text-align: right;\n",
       "    }\n",
       "</style>\n",
       "<table border=\"1\" class=\"dataframe\">\n",
       "  <thead>\n",
       "    <tr style=\"text-align: right;\">\n",
       "      <th></th>\n",
       "      <th>counts</th>\n",
       "      <th>hourofday</th>\n",
       "      <th>weekday</th>\n",
       "      <th>month</th>\n",
       "      <th>update_precip</th>\n",
       "      <th>temp_av</th>\n",
       "    </tr>\n",
       "    <tr>\n",
       "      <th>daytime</th>\n",
       "      <th></th>\n",
       "      <th></th>\n",
       "      <th></th>\n",
       "      <th></th>\n",
       "      <th></th>\n",
       "      <th></th>\n",
       "    </tr>\n",
       "  </thead>\n",
       "  <tbody>\n",
       "    <tr>\n",
       "      <th>2016-01-01 00:00:00</th>\n",
       "      <td>13</td>\n",
       "      <td>0</td>\n",
       "      <td>4</td>\n",
       "      <td>1</td>\n",
       "      <td>0.0</td>\n",
       "      <td>5.6</td>\n",
       "    </tr>\n",
       "    <tr>\n",
       "      <th>2016-01-01 01:00:00</th>\n",
       "      <td>14</td>\n",
       "      <td>1</td>\n",
       "      <td>4</td>\n",
       "      <td>1</td>\n",
       "      <td>0.0</td>\n",
       "      <td>5.0</td>\n",
       "    </tr>\n",
       "    <tr>\n",
       "      <th>2016-01-01 02:00:00</th>\n",
       "      <td>9</td>\n",
       "      <td>2</td>\n",
       "      <td>4</td>\n",
       "      <td>1</td>\n",
       "      <td>0.0</td>\n",
       "      <td>5.0</td>\n",
       "    </tr>\n",
       "    <tr>\n",
       "      <th>2016-01-01 03:00:00</th>\n",
       "      <td>1</td>\n",
       "      <td>3</td>\n",
       "      <td>4</td>\n",
       "      <td>1</td>\n",
       "      <td>0.0</td>\n",
       "      <td>4.4</td>\n",
       "    </tr>\n",
       "    <tr>\n",
       "      <th>2016-01-01 04:00:00</th>\n",
       "      <td>0</td>\n",
       "      <td>4</td>\n",
       "      <td>4</td>\n",
       "      <td>1</td>\n",
       "      <td>0.0</td>\n",
       "      <td>4.4</td>\n",
       "    </tr>\n",
       "    <tr>\n",
       "      <th>...</th>\n",
       "      <td>...</td>\n",
       "      <td>...</td>\n",
       "      <td>...</td>\n",
       "      <td>...</td>\n",
       "      <td>...</td>\n",
       "      <td>...</td>\n",
       "    </tr>\n",
       "    <tr>\n",
       "      <th>2016-12-31 19:00:00</th>\n",
       "      <td>20</td>\n",
       "      <td>19</td>\n",
       "      <td>5</td>\n",
       "      <td>12</td>\n",
       "      <td>0.0</td>\n",
       "      <td>1.7</td>\n",
       "    </tr>\n",
       "    <tr>\n",
       "      <th>2016-12-31 20:00:00</th>\n",
       "      <td>13</td>\n",
       "      <td>20</td>\n",
       "      <td>5</td>\n",
       "      <td>12</td>\n",
       "      <td>0.0</td>\n",
       "      <td>1.7</td>\n",
       "    </tr>\n",
       "    <tr>\n",
       "      <th>2016-12-31 21:00:00</th>\n",
       "      <td>22</td>\n",
       "      <td>21</td>\n",
       "      <td>5</td>\n",
       "      <td>12</td>\n",
       "      <td>0.0</td>\n",
       "      <td>1.7</td>\n",
       "    </tr>\n",
       "    <tr>\n",
       "      <th>2016-12-31 22:00:00</th>\n",
       "      <td>6</td>\n",
       "      <td>22</td>\n",
       "      <td>5</td>\n",
       "      <td>12</td>\n",
       "      <td>0.0</td>\n",
       "      <td>2.2</td>\n",
       "    </tr>\n",
       "    <tr>\n",
       "      <th>2016-12-31 23:00:00</th>\n",
       "      <td>6</td>\n",
       "      <td>23</td>\n",
       "      <td>5</td>\n",
       "      <td>12</td>\n",
       "      <td>0.0</td>\n",
       "      <td>3.3</td>\n",
       "    </tr>\n",
       "  </tbody>\n",
       "</table>\n",
       "<p>8784 rows × 6 columns</p>\n",
       "</div>"
      ],
      "text/plain": [
       "                     counts  hourofday  weekday  month  update_precip  temp_av\n",
       "daytime                                                                       \n",
       "2016-01-01 00:00:00      13          0        4      1            0.0      5.6\n",
       "2016-01-01 01:00:00      14          1        4      1            0.0      5.0\n",
       "2016-01-01 02:00:00       9          2        4      1            0.0      5.0\n",
       "2016-01-01 03:00:00       1          3        4      1            0.0      4.4\n",
       "2016-01-01 04:00:00       0          4        4      1            0.0      4.4\n",
       "...                     ...        ...      ...    ...            ...      ...\n",
       "2016-12-31 19:00:00      20         19        5     12            0.0      1.7\n",
       "2016-12-31 20:00:00      13         20        5     12            0.0      1.7\n",
       "2016-12-31 21:00:00      22         21        5     12            0.0      1.7\n",
       "2016-12-31 22:00:00       6         22        5     12            0.0      2.2\n",
       "2016-12-31 23:00:00       6         23        5     12            0.0      3.3\n",
       "\n",
       "[8784 rows x 6 columns]"
      ]
     },
     "execution_count": 13,
     "metadata": {},
     "output_type": "execute_result"
    }
   ],
   "source": [
    "pred_model_joint = pred_model_counts.join(weatherhour, how=\"left\")\n",
    "pred_model_joint"
   ]
  },
  {
   "cell_type": "markdown",
   "id": "76ba51d5-ce8d-4fe3-82df-5aa523ce702c",
   "metadata": {},
   "source": [
    "Variables\n",
    "\n",
    "- Time of the day in hours \n",
    "- Month\n",
    "- Weekday (0-6)\n",
    "- Temperature (average of min and max temp cause very similar)\n",
    "- Precipitation (0,1)"
   ]
  },
  {
   "cell_type": "code",
   "execution_count": 14,
   "id": "1f4d6297-ec11-40f1-b7cf-7f9260c94153",
   "metadata": {},
   "outputs": [],
   "source": [
    "from sklearn.model_selection import train_test_split\n",
    "\n",
    "# Extract the relevant features from the dataset\n",
    "X = pred_model_joint[['hourofday', 'weekday', 'month', 'update_precip', 'temp_av']]\n",
    "y = pred_model_joint['counts']\n",
    "\n",
    "# split the data into training and test sets\n",
    "X_train, X_test, y_train, y_test = train_test_split(X, y, test_size=0.2, random_state=42)"
   ]
  },
  {
   "cell_type": "code",
   "execution_count": 16,
   "id": "11736b44",
   "metadata": {},
   "outputs": [
    {
     "name": "stdout",
     "output_type": "stream",
     "text": [
      "               Train Mean  Test Mean   p-value\n",
      "hourofday       11.463640  11.645418  0.326012\n",
      "weekday          3.018927   2.965282  0.309641\n",
      "month            6.527537   6.458167  0.453081\n",
      "update_precip    0.080618   0.069437  0.095668\n",
      "temp_av         11.746625  11.575949  0.516439\n"
     ]
    }
   ],
   "source": [
    "from scipy import stats\n",
    "\n",
    "# Calculate the means of both training and test set for each value\n",
    "train_mean = X_train.mean()\n",
    "test_mean = X_test.mean()\n",
    "\n",
    "# create a table for comparing the means\n",
    "mean_table = pd.concat([train_mean, test_mean], axis=1)\n",
    "mean_table.columns = ['Train Mean', 'Test Mean']\n",
    "\n",
    "# Perform t-test\n",
    "t, p = stats.ttest_ind(X_train, X_test, equal_var=False)\n",
    "\n",
    "# Add p-values to the table\n",
    "mean_table['p-value'] = p\n",
    "\n",
    "#Print the table\n",
    "print(mean_table)\n",
    "\n",
    "# the p-values are greater than 0.05, which means that there is\n",
    "# no significant difference between the means of the training and test datasets. "
   ]
  },
  {
   "cell_type": "code",
   "execution_count": 17,
   "id": "994a9cab-ab4f-4e6a-9d49-8352b513a928",
   "metadata": {},
   "outputs": [
    {
     "data": {
      "image/png": "[encoded data removed]",
      "text/plain": [
       "<Figure size 720x360 with 1 Axes>"
      ]
     },
     "metadata": {
      "needs_background": "light"
     },
     "output_type": "display_data"
    }
   ],
   "source": [
    "# Plot the distribution of the target variable in the training and holdout sets\n",
    "plt.figure(figsize=(10, 5))\n",
    "plt.hist(y_train, bins=50, alpha=0.6, label='Training', density= True)\n",
    "plt.hist(y_test, bins=50, alpha=0.6, label='Holdout', density= True)\n",
    "plt.xlabel('Number of Rentals')\n",
    "plt.ylabel('Relative Frequency')\n",
    "plt.legend()\n",
    "plt.show()"
   ]
  },
  {
   "cell_type": "code",
   "execution_count": 18,
   "id": "abd32288",
   "metadata": {
    "scrolled": true
   },
   "outputs": [
    {
     "data": {
      "image/png": "[encoded data removed]",
      "text/plain": [
       "<Figure size 720x360 with 1 Axes>"
      ]
     },
     "metadata": {
      "needs_background": "light"
     },
     "output_type": "display_data"
    }
   ],
   "source": [
    "# Plot the distribution of the target variable in the training and holdout sets\n",
    "plt.figure(figsize=(10, 5))\n",
    "plt.hist(y_train, bins=50, alpha=0.6, label='Training')\n",
    "plt.hist(y_test, bins=50, alpha=0.6, label='Holdout')\n",
    "plt.xlabel('Number of Rentals')\n",
    "plt.ylabel('Absolute Frequency')\n",
    "plt.legend()\n",
    "plt.show()"
   ]
  },
  {
   "cell_type": "markdown",
   "id": "2fa2f6b5",
   "metadata": {},
   "source": [
    "## 4.1 Polynomial Regression"
   ]
  },
  {
   "cell_type": "markdown",
   "id": "7708d4f6",
   "metadata": {},
   "source": [
    "Polynomial regression can model non-linear relationships between the independent and dependent variables, which allows for more flexibility in modeling complex data. This model is using polynomial regression to predict the target variable (bike rentals per hour), based on the selected input features. The input features are standardized, transformed to include polynomial interactions between them, and then passed through a Ridge regression model. Ridge regression includes a regularization term to prevent overfitting. The regularization term is controlled by a parameter called alpha, which determines the strength of the regularization.\n",
    "\n",
    "The script uses a GridSearchCV object to find the best combination of parameters for the polynomial degree and alpha. The GridSearchCV object is trained on the input data and returns the best combination of parameters that minimize the negative mean squared error. This way, the script finds the best polynomial degree and best Ridge alpha that fits the input data.\n",
    "\n",
    "The results indicate that the model performing best had a polynomial degree of 7 and a regularization strength of 44.0. The model with these parameters will be the one used for further prediction and evaulation."
   ]
  },
  {
   "cell_type": "code",
   "execution_count": 20,
   "id": "1860bc72",
   "metadata": {},
   "outputs": [
    {
     "name": "stdout",
     "output_type": "stream",
     "text": [
      "Best parameters:  {'poly__degree': 7, 'reg__alpha': 44.0}\n"
     ]
    }
   ],
   "source": [
    "from sklearn.pipeline import Pipeline\n",
    "from sklearn.model_selection import GridSearchCV\n",
    "from sklearn.metrics import mean_absolute_error, mean_squared_error, r2_score\n",
    "from sklearn.preprocessing import StandardScaler\n",
    "from sklearn.linear_model import Ridge\n",
    "\n",
    "# Define the pipeline\n",
    "pipe = Pipeline([('scaler', StandardScaler()), ('poly', PolynomialFeatures()), ('reg', Ridge())])\n",
    "\n",
    "# Define the parameter grid\n",
    "param_grid = {'poly__degree': range(1,10), 'reg__alpha': np.linspace(0, 100, num=101)}\n",
    "\n",
    "# Create a GridSearchCV object\n",
    "grid = GridSearchCV(pipe, param_grid, cv=5, scoring='neg_mean_squared_error')\n",
    "\n",
    "# Fit the model to the training data\n",
    "grid.fit(X_train, y_train)\n",
    "\n",
    "# Print the best parameters\n",
    "print(\"Best parameters: \", grid.best_params_)"
   ]
  },
  {
   "cell_type": "markdown",
   "id": "35d774d2",
   "metadata": {},
   "source": [
    "The code is using the trained model to make predictions on the test data set. Then, it calculates three evaluation metrics, namely Mean Absolute Error (MAE), Mean Squared Error (MSE), and R-squared, which are all commonly used to evaluate the performance of a regression model. The MAE is a measure of how far off the predictions are from the actual values, on average. The MSE is similar to MAE but it penalizes larger errors more heavily. R-squared is a measure of how well the model fits the data, with a value of 1 indicating a perfect fit and a value of 0 indicating that the model does not explain any of the variability in the data. \n",
    "\n",
    "The R-squared value of 0.721 tells us that the model explains 72,1% of the variance in the target variable. This means that the model is able to capture a majority of the underlying patterns in the data, but it is not optimal. There may be other factors that are not being considered by the model that are contributing to the remaining 28% of the variance in the target variable."
   ]
  },
  {
   "cell_type": "code",
   "execution_count": 21,
   "id": "389d27b7",
   "metadata": {},
   "outputs": [
    {
     "name": "stdout",
     "output_type": "stream",
     "text": [
      "Mean Absolute Error:  57.80740761633213\n",
      "Mean Squared Error:  8368.803355851454\n",
      "R-squared:  0.7210054387162408\n"
     ]
    }
   ],
   "source": [
    "# Make predictions on the test data\n",
    "y_pred = grid.predict(X_test)\n",
    "\n",
    "# Calculate evaluation metrics\n",
    "mae = mean_absolute_error(y_test, y_pred)\n",
    "mse = mean_squared_error(y_test, y_pred)\n",
    "r2 = r2_score(y_test, y_pred)\n",
    "print(\"Mean Absolute Error: \", mae)\n",
    "print(\"Mean Squared Error: \", mse)\n",
    "print(\"R-squared: \", r2)"
   ]
  },
  {
   "cell_type": "markdown",
   "id": "25626e23",
   "metadata": {},
   "source": [
    "This code is plotting a scatter plot of the actual target values against the predicted values for both the training and test data. The plot shows how well the model is performing in terms of predicting the target variable. The closer the points on the scatter plot are to the black line, which represents a perfect prediction, the better the model is performing. The two plots, one for the training data and one for the test data, allow to compare the model's performance on both sets of data. "
   ]
  },
  {
   "cell_type": "code",
   "execution_count": 28,
   "id": "c92efbb0",
   "metadata": {},
   "outputs": [
    {
     "data": {
      "image/png": "[encoded data removed]",
      "text/plain": [
       "<Figure size 432x288 with 1 Axes>"
      ]
     },
     "metadata": {
      "needs_background": "light"
     },
     "output_type": "display_data"
    },
    {
     "data": {
      "image/png": "[encoded data removed]",
      "text/plain": [
       "<Figure size 432x288 with 1 Axes>"
      ]
     },
     "metadata": {
      "needs_background": "light"
     },
     "output_type": "display_data"
    }
   ],
   "source": [
    "# Use the model to predict the target variable for the training data\n",
    "predicted_values_train = grid.predict(X_train)\n",
    "\n",
    "# Use the model to predict the target variable for the test data\n",
    "predicted_values_test = grid.predict(X_test)\n",
    "\n",
    "# Plot the actual target values against the predicted values for the training data\n",
    "plt.scatter(y_train, predicted_values_train, color = \"blue\", s=2, alpha=0.3)\n",
    "plt.title(\"Actual vs Predicted Values (Training Data)\")\n",
    "plt.xlabel(\"Actual Values\")\n",
    "plt.ylabel(\"Predicted Values\")\n",
    "plt.plot(y_train, y_train, color = \"black\")\n",
    "plt.axis([min(y_train), max(y_train), min(y_train), max(y_train)])\n",
    "plt.show()\n",
    "\n",
    "# Plot the actual target values against the predicted values for the test data\n",
    "plt.scatter(y_test, predicted_values_test, color = \"green\", s=2, alpha=0.3)\n",
    "plt.title(\"Actual vs Predicted Values (Test Data)\")\n",
    "plt.xlabel(\"Actual Values\")\n",
    "plt.ylabel(\"Predicted Values\")\n",
    "plt.plot(y_test, y_test, color = \"black\")\n",
    "plt.axis([min(y_test), max(y_test), min(y_test), max(y_test)]) \n",
    "plt.show()"
   ]
  },
  {
   "cell_type": "markdown",
   "id": "5d6baa3e",
   "metadata": {},
   "source": [
    "The performance of the polynomial model we used was quite good for the start. However, it does have some disadvantages that we should keep in mind. One such disadvantage is that it can be prone to overfitting, where the model becomes too complex and starts fitting the noise in the data. Additionally, it can be sensitive to outliers in the data and can be computationally expensive as the degree of the polynomial increases. To further improve our predictions, we will continue with other models such as Random Forest, Neural Networks, and Gradient Boosting.\n"
   ]
  },
  {
   "cell_type": "markdown",
   "id": "9cc4644c-af8a-42e2-a0f4-e8436020a637",
   "metadata": {},
   "source": [
    "## 4.2 Random Forest"
   ]
  },
  {
   "cell_type": "code",
   "execution_count": 18,
   "id": "df926fbc-caa6-40a4-a96f-9175822bff0d",
   "metadata": {},
   "outputs": [
    {
     "name": "stdout",
     "output_type": "stream",
     "text": [
      "Best parameters found:  {'bootstrap': True, 'ccp_alpha': 0.0, 'criterion': 'mse', 'max_depth': None, 'max_features': 'sqrt', 'max_leaf_nodes': None, 'max_samples': None, 'min_impurity_decrease': 0.0, 'min_impurity_split': None, 'min_samples_leaf': 1, 'min_samples_split': 2, 'min_weight_fraction_leaf': 0.0, 'n_estimators': 100, 'n_jobs': None, 'oob_score': False, 'random_state': 42, 'verbose': 0, 'warm_start': False}\n"
     ]
    }
   ],
   "source": [
    "from sklearn.ensemble import RandomForestRegressor\n",
    "from sklearn.model_selection import RandomizedSearchCV\n",
    "from sklearn.metrics import mean_squared_error\n",
    "from sklearn.metrics import mean_absolute_error, r2_score\n",
    "\n",
    "# Define the parameter grid for the Random Forest model\n",
    "param_grid = {\n",
    "    'n_estimators': [50, 100, 200, 500],\n",
    "    'max_depth': [2, 5, 10, 20, None],\n",
    "    'min_samples_split': [2, 5, 10],\n",
    "    'min_samples_leaf': [1, 2, 4],\n",
    "    'max_features': ['auto', 'sqrt', 'log2']\n",
    "}\n",
    "\n",
    "# Create a Random Forest model\n",
    "rf_model = RandomForestRegressor(random_state=42)\n",
    "\n",
    "# Use RandomizedSearchCV to perform hyperparameter tuning\n",
    "random_search = RandomizedSearchCV(estimator=rf_model, param_distributions=param_grid, n_iter=10, cv=5, n_jobs=-1, random_state=42)\n",
    "\n",
    "# Fit the RandomizedSearchCV object to the training data\n",
    "random_search.fit(X_train, y_train)\n",
    "\n",
    "# Print the best parameters from the search\n",
    "best_params = random_search.best_estimator_.get_params()\n",
    "print(\"Best parameters found: \",best_params)"
   ]
  },
  {
   "cell_type": "code",
   "execution_count": 19,
   "id": "42c69396-2e02-4777-8136-3189cdb169a8",
   "metadata": {},
   "outputs": [
    {
     "name": "stdout",
     "output_type": "stream",
     "text": [
      "Mean Squared Error:  2147.7500762154123\n",
      "Mean Absolute Error:  26.23946473968073\n",
      "R-squared:  0.9283358632489239\n"
     ]
    }
   ],
   "source": [
    "# Use the best parameters to create a new model\n",
    "best_rf_model = RandomForestRegressor(random_state=42, **random_search.best_params_)\n",
    "\n",
    "# Fit the new model to the training data\n",
    "best_rf_model.fit(X_train, y_train)\n",
    "\n",
    "# Make predictions on the holdout set\n",
    "y_pred = best_rf_model.predict(X_test)\n",
    "\n",
    "# Evaluate the new model's performance on the holdout set\n",
    "mse = mean_squared_error(y_test, y_pred)\n",
    "mae = mean_absolute_error(y_test, y_pred)\n",
    "r2 = r2_score(y_test, y_pred)\n",
    "print(\"Mean Squared Error: \", mse)\n",
    "print(\"Mean Absolute Error: \", mae)\n",
    "print(\"R-squared: \", r2)"
   ]
  },
  {
   "cell_type": "code",
   "execution_count": 20,
   "id": "7887af32-ab67-4950-a03a-2e3add8b3f55",
   "metadata": {},
   "outputs": [
    {
     "data": {
      "image/png": "[encoded data removed]",
      "text/plain": [
       "<Figure size 432x288 with 1 Axes>"
      ]
     },
     "metadata": {
      "needs_background": "light"
     },
     "output_type": "display_data"
    },
    {
     "data": {
      "image/png": "[encoded data removed]",
      "text/plain": [
       "<Figure size 720x432 with 1 Axes>"
      ]
     },
     "metadata": {
      "needs_background": "light"
     },
     "output_type": "display_data"
    },
    {
     "data": {
      "image/png": "[encoded data removed]",
      "text/plain": [
       "<Figure size 432x288 with 1 Axes>"
      ]
     },
     "metadata": {
      "needs_background": "light"
     },
     "output_type": "display_data"
    }
   ],
   "source": [
    "# Create an array of colors based on the difference between the predicted and actual values\n",
    "colors = np.abs(y_test - y_pred)\n",
    "\n",
    "# Plot the predicted vs actual values on the holdout set\n",
    "plt.scatter(y_test, y_pred, c=colors)\n",
    "plt.xlabel(\"Actual Values\")\n",
    "plt.ylabel(\"Predicted Values\")\n",
    "plt.title(\"Predicted vs Actual Values\")\n",
    "plt.show()\n",
    "\n",
    "# Plot the distribution of the feature importances\n",
    "importances = best_rf_model.feature_importances_\n",
    "features = X_train.columns\n",
    "indices = np.argsort(importances)\n",
    "plt.figure(figsize=(10,6))\n",
    "plt.barh(range(len(indices)), importances[indices], align='center')\n",
    "plt.yticks(range(len(indices)), [features[i] for i in indices])\n",
    "plt.xlabel('Relative Importance')\n",
    "plt.title('Feature Importance')\n",
    "plt.show()\n",
    "\n",
    "# plot the training and validation loss/score during hyperparameter tuning\n",
    "plt.plot(random_search.cv_results_['mean_test_score'], label = 'mean test score')\n",
    "plt.xlabel('Iterations')\n",
    "plt.ylabel('Score')\n",
    "plt.title('Training and validation loss/score during hyperparameter tuning')\n",
    "plt.legend()\n",
    "plt.show()"
   ]
  },
  {
   "cell_type": "markdown",
   "id": "3efeddb3-b916-4ee5-9d8b-275d50e25b26",
   "metadata": {},
   "source": [
    "The metrics indicate that the random forest model is able to predict the number of bike rentals per hour with a relatively high level of accuracy. The Mean Squared Error (MSE) is a measure of how much the model's predictions deviate from the true values, with a lower value indicating a better fit. In this case, the MSE is 2147.75, which suggests that the model's predictions are relatively close to the true values.\n",
    "\n",
    "The Mean Absolute Error (MAE) is similar to MSE, but it measures the average magnitude of the errors in the model's predictions, without considering their direction. The MAE in this case is 26.23, which suggests that the average magnitude of the errors is relatively low.\n",
    "\n",
    "The R-squared value is a measure of how much of the variation in the output variable is explained by the model. A value of 1 indicates that the model explains all the variation, while a value of 0 means the model explains none of it. The R-squared value of 0.9283358632489239 indicates that the model explains a large proportion of the variation in the output variable, which is a good indication of model performance.\n",
    "\n",
    "In summary, the results of the random forest model indicate that the model is able to predict the number of bike rentals per hour with a relatively high level of accuracy, and the MSE, MAE and R-squared values are all good indicators of the model's performance."
   ]
  },
  {
   "cell_type": "markdown",
   "id": "f94215c4-856c-4fad-ba7e-23332ece8048",
   "metadata": {},
   "source": [
    "## 4.3 Neural Network"
   ]
  },
  {
   "cell_type": "markdown",
   "id": "876c59c3-0da4-4164-84f7-69fc89168823",
   "metadata": {},
   "source": [
    "First try: The warning message \"ConvergenceWarning: lbfgs failed to converge (status=1): STOP: TOTAL NO. of ITERATIONS REACHED LIMIT\" is raised because the optimizer used by the neural network (L-BFGS) was not able to find a solution that satisfies the convergence criteria within the maximum number of iterations specified.\n",
    "\n",
    "Solution: Increase the maximum number of iterations and scale the input features: 'max_iter': [1000, 2000, 5000]"
   ]
  },
  {
   "cell_type": "code",
   "execution_count": 24,
   "id": "e15dff3e-339e-42eb-92a1-ecbaa5ec0db5",
   "metadata": {},
   "outputs": [
    {
     "name": "stderr",
     "output_type": "stream",
     "text": [
      "C:\\Users\\lucas\\anaconda3\\lib\\site-packages\\sklearn\\neural_network\\_multilayer_perceptron.py:500: ConvergenceWarning: lbfgs failed to converge (status=1):\n",
      "STOP: TOTAL NO. of ITERATIONS REACHED LIMIT.\n",
      "\n",
      "Increase the number of iterations (max_iter) or scale the data as shown in:\n",
      "    https://scikit-learn.org/stable/modules/preprocessing.html\n",
      "  self.n_iter_ = _check_optimize_result(\"lbfgs\", opt_res, self.max_iter)\n"
     ]
    },
    {
     "name": "stdout",
     "output_type": "stream",
     "text": [
      "Mean Squared Error:  2909.6630511177023\n",
      "Mean Absolute Error:  35.0541723838762\n",
      "R-squared:  0.9029130562703616\n"
     ]
    },
    {
     "data": {
      "image/png": "[encoded data removed]",
      "text/plain": [
       "<Figure size 432x288 with 1 Axes>"
      ]
     },
     "metadata": {
      "needs_background": "light"
     },
     "output_type": "display_data"
    },
    {
     "name": "stdout",
     "output_type": "stream",
     "text": [
      "Best parameters found:  {'solver': 'lbfgs', 'max_iter': 2000, 'learning_rate': 'invscaling', 'hidden_layer_sizes': (100,), 'activation': 'relu'}\n"
     ]
    }
   ],
   "source": [
    "from sklearn.neural_network import MLPRegressor\n",
    "from sklearn.preprocessing import StandardScaler\n",
    "\n",
    "# Scale the input features\n",
    "scaler = StandardScaler()\n",
    "X_train = scaler.fit_transform(X_train)\n",
    "X_test = scaler.transform(X_test)\n",
    "\n",
    "# Define the parameter grid for the MLP model\n",
    "param_grid = {\n",
    "    'hidden_layer_sizes': [(10,), (50,), (100,), (200,)],\n",
    "    'activation': ['relu', 'logistic'],\n",
    "    'solver': ['adam', 'lbfgs'],\n",
    "    'learning_rate': ['constant', 'invscaling'],\n",
    "    'max_iter': [1000, 2000, 5000]\n",
    "}\n",
    "\n",
    "# Create a MLP model\n",
    "mlp_model = MLPRegressor(random_state=42)\n",
    "\n",
    "# Use RandomizedSearchCV to perform hyperparameter tuning\n",
    "random_search = RandomizedSearchCV(estimator=mlp_model, param_distributions=param_grid, n_iter=10, cv=5, n_jobs=-1, random_state=42)\n",
    "\n",
    "# Train the model on the training data\n",
    "random_search.fit(X_train, y_train)\n",
    "\n",
    "# Make predictions on the test set\n",
    "y_pred = random_search.predict(X_test)\n",
    "\n",
    "# Evaluate model performance\n",
    "mse = mean_squared_error(y_test, y_pred)\n",
    "mae = mean_absolute_error(y_test, y_pred)\n",
    "r2 = r2_score(y_test, y_pred)\n",
    "print(\"Mean Squared Error: \", mse)\n",
    "print(\"Mean Absolute Error: \", mae)\n",
    "print(\"R-squared: \", r2)\n",
    "\n",
    "# Plot the predicted vs actual values on the test set\n",
    "plt.scatter(y_test, y_pred)\n",
    "plt.xlabel(\"Actual Values\")\n",
    "plt.ylabel(\"Predicted Values\")\n",
    "plt.title(\"Predicted vs Actual Values\")\n",
    "plt.show()\n",
    "\n",
    "# Print the best parameters from the search\n",
    "best_params = random_search.best_estimator_.get_params()\n",
    "print(\"Best parameters found: \",random_search.best_params_)\n"
   ]
  },
  {
   "cell_type": "markdown",
   "id": "dd12a26b-d73c-45aa-a159-ece9a9b449f2",
   "metadata": {},
   "source": [
    "## 4.4 Gradient Boosting "
   ]
  },
  {
   "cell_type": "code",
   "execution_count": 27,
   "id": "4ba4c64a-3214-41b1-9a2c-7f4064a9ab3b",
   "metadata": {},
   "outputs": [
    {
     "name": "stdout",
     "output_type": "stream",
     "text": [
      "Mean Squared Error:  2725.53845703338\n",
      "Mean Absolute Error:  32.71461677160589\n",
      "R-squared:  0.9090567553142218\n"
     ]
    }
   ],
   "source": [
    "from sklearn.ensemble import GradientBoostingRegressor\n",
    "\n",
    "# Create a Gradient Boosting model\n",
    "gb_model = GradientBoostingRegressor(random_state=42)\n",
    "\n",
    "# Train the model using the random forest and neural network predictions as input features\n",
    "X_train_gb = np.column_stack((best_rf_model.predict(X_train), random_search.predict(X_train)))\n",
    "X_test_gb = np.column_stack((best_rf_model.predict(X_test), random_search.predict(X_test)))\n",
    "\n",
    "gb_model.fit(X_train_gb, y_train)\n",
    "\n",
    "# Make predictions on the test set\n",
    "y_pred = gb_model.predict(X_test_gb)\n",
    "\n",
    "# Evaluate the model performance\n",
    "mse = mean_squared_error(y_test, y_pred)\n",
    "mae = mean_absolute_error(y_test, y_pred)\n",
    "r2 = r2_score(y_test, y_pred)\n",
    "\n",
    "print(\"Mean Squared Error: \", mse)\n",
    "print(\"Mean Absolute Error: \", mae)\n",
    "print(\"R-squared: \", r2)\n"
   ]
  }
 ],
 "metadata": {
  "kernelspec": {
   "display_name": "Python 3 (ipykernel)",
   "language": "python",
   "name": "python3"
  },
  "language_info": {
   "codemirror_mode": {
    "name": "ipython",
    "version": 3
   },
   "file_extension": ".py",
   "mimetype": "text/x-python",
   "name": "python",
   "nbconvert_exporter": "python",
   "pygments_lexer": "ipython3",
   "version": "3.9.12"
  },
  "vp": {
   "vp_config_version": "1.0.0",
   "vp_menu_width": 273,
   "vp_note_display": false,
   "vp_note_width": 0,
   "vp_position": {
    "width": 278
   },
   "vp_section_display": false,
   "vp_signature": "VisualPython"
  }
 },
 "nbformat": 4,
 "nbformat_minor": 5
}
