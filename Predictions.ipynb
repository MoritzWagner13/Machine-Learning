{
 "cells": [
  {
   "cell_type": "code",
   "execution_count": 1,
   "id": "1c65abc2-0b20-4a85-a56a-41803cc32540",
   "metadata": {},
   "outputs": [],
   "source": [
    "import numpy as np\n",
    "from numpy import mean\n",
    "from numpy import std\n",
    "import pandas as pd\n",
    "import matplotlib as mpl\n",
    "import matplotlib.pyplot as plt\n",
    "from matplotlib import rcParams\n",
    "import seaborn as sns\n",
    "import datetime"
   ]
  },
  {
   "cell_type": "code",
   "execution_count": 48,
   "id": "c39b1161-bb9d-4d15-9940-ca401538b626",
   "metadata": {},
   "outputs": [],
   "source": [
    "pred_model = pd.read_csv(\"Pred_Model.csv\")"
   ]
  },
  {
   "cell_type": "code",
   "execution_count": 49,
   "id": "546385ca-96fc-4d9f-b461-006ada96fe01",
   "metadata": {
    "tags": []
   },
   "outputs": [],
   "source": [
    "pred_model['start_time'] = pd.to_datetime(pred_model['start_time'])\n",
    "pred_model['end_time'] = pd.to_datetime(pred_model['end_time'])"
   ]
  },
  {
   "cell_type": "code",
   "execution_count": 50,
   "id": "896a72f9-43ad-4037-baeb-1a9fd4eb1017",
   "metadata": {
    "tags": []
   },
   "outputs": [],
   "source": [
    "pred_model_counts = pred_model.groupby([pd.Grouper(key='start_time', freq = 'H')]).size().to_frame('counts')"
   ]
  },
  {
   "cell_type": "code",
   "execution_count": 51,
   "id": "eaa3e09c-02c0-480a-ba6b-0a6ba50d316a",
   "metadata": {},
   "outputs": [
    {
     "data": {
      "text/plain": [
       "1235121"
      ]
     },
     "execution_count": 51,
     "metadata": {},
     "output_type": "execute_result"
    }
   ],
   "source": [
    "pred_model_counts[\"counts\"].sum()"
   ]
  },
  {
   "cell_type": "code",
   "execution_count": 52,
   "id": "ec08011b-3329-4b18-b496-659b4542de87",
   "metadata": {
    "tags": []
   },
   "outputs": [],
   "source": [
    "# make index to column to create day of week and month based on date\n",
    "pred_model_counts['index1'] = pred_model_counts.index\n",
    "pred_model_counts[\"hourofday\"] = pred_model_counts[\"index1\"].dt.hour\n",
    "pred_model_counts[\"weekday\"] = pred_model_counts[\"index1\"].dt.dayofweek\n",
    "pred_model_counts[\"month\"] = pred_model_counts[\"index1\"].dt.month"
   ]
  },
  {
   "cell_type": "code",
   "execution_count": 53,
   "id": "8588b05c-b12a-4245-a586-5b6263db0e4e",
   "metadata": {
    "tags": []
   },
   "outputs": [],
   "source": [
    "pred_model_counts = pred_model_counts.drop('index1', axis=1)"
   ]
  },
  {
   "cell_type": "code",
   "execution_count": 54,
   "id": "6a86ba7d-2c06-4d91-80a9-49e01c26e633",
   "metadata": {},
   "outputs": [
    {
     "data": {
      "text/html": [
       "<div>\n",
       "<style scoped>\n",
       "    .dataframe tbody tr th:only-of-type {\n",
       "        vertical-align: middle;\n",
       "    }\n",
       "\n",
       "    .dataframe tbody tr th {\n",
       "        vertical-align: top;\n",
       "    }\n",
       "\n",
       "    .dataframe thead th {\n",
       "        text-align: right;\n",
       "    }\n",
       "</style>\n",
       "<table border=\"1\" class=\"dataframe\">\n",
       "  <thead>\n",
       "    <tr style=\"text-align: right;\">\n",
       "      <th></th>\n",
       "      <th>counts</th>\n",
       "      <th>hourofday</th>\n",
       "      <th>weekday</th>\n",
       "      <th>month</th>\n",
       "    </tr>\n",
       "    <tr>\n",
       "      <th>daytime</th>\n",
       "      <th></th>\n",
       "      <th></th>\n",
       "      <th></th>\n",
       "      <th></th>\n",
       "    </tr>\n",
       "  </thead>\n",
       "  <tbody>\n",
       "    <tr>\n",
       "      <th>2016-01-01 00:00:00</th>\n",
       "      <td>13</td>\n",
       "      <td>0</td>\n",
       "      <td>4</td>\n",
       "      <td>1</td>\n",
       "    </tr>\n",
       "    <tr>\n",
       "      <th>2016-01-01 01:00:00</th>\n",
       "      <td>14</td>\n",
       "      <td>1</td>\n",
       "      <td>4</td>\n",
       "      <td>1</td>\n",
       "    </tr>\n",
       "    <tr>\n",
       "      <th>2016-01-01 02:00:00</th>\n",
       "      <td>9</td>\n",
       "      <td>2</td>\n",
       "      <td>4</td>\n",
       "      <td>1</td>\n",
       "    </tr>\n",
       "    <tr>\n",
       "      <th>2016-01-01 03:00:00</th>\n",
       "      <td>1</td>\n",
       "      <td>3</td>\n",
       "      <td>4</td>\n",
       "      <td>1</td>\n",
       "    </tr>\n",
       "    <tr>\n",
       "      <th>2016-01-01 04:00:00</th>\n",
       "      <td>0</td>\n",
       "      <td>4</td>\n",
       "      <td>4</td>\n",
       "      <td>1</td>\n",
       "    </tr>\n",
       "    <tr>\n",
       "      <th>...</th>\n",
       "      <td>...</td>\n",
       "      <td>...</td>\n",
       "      <td>...</td>\n",
       "      <td>...</td>\n",
       "    </tr>\n",
       "    <tr>\n",
       "      <th>2016-12-31 19:00:00</th>\n",
       "      <td>20</td>\n",
       "      <td>19</td>\n",
       "      <td>5</td>\n",
       "      <td>12</td>\n",
       "    </tr>\n",
       "    <tr>\n",
       "      <th>2016-12-31 20:00:00</th>\n",
       "      <td>13</td>\n",
       "      <td>20</td>\n",
       "      <td>5</td>\n",
       "      <td>12</td>\n",
       "    </tr>\n",
       "    <tr>\n",
       "      <th>2016-12-31 21:00:00</th>\n",
       "      <td>22</td>\n",
       "      <td>21</td>\n",
       "      <td>5</td>\n",
       "      <td>12</td>\n",
       "    </tr>\n",
       "    <tr>\n",
       "      <th>2016-12-31 22:00:00</th>\n",
       "      <td>6</td>\n",
       "      <td>22</td>\n",
       "      <td>5</td>\n",
       "      <td>12</td>\n",
       "    </tr>\n",
       "    <tr>\n",
       "      <th>2016-12-31 23:00:00</th>\n",
       "      <td>6</td>\n",
       "      <td>23</td>\n",
       "      <td>5</td>\n",
       "      <td>12</td>\n",
       "    </tr>\n",
       "  </tbody>\n",
       "</table>\n",
       "<p>8784 rows × 4 columns</p>\n",
       "</div>"
      ],
      "text/plain": [
       "                     counts  hourofday  weekday  month\n",
       "daytime                                               \n",
       "2016-01-01 00:00:00      13          0        4      1\n",
       "2016-01-01 01:00:00      14          1        4      1\n",
       "2016-01-01 02:00:00       9          2        4      1\n",
       "2016-01-01 03:00:00       1          3        4      1\n",
       "2016-01-01 04:00:00       0          4        4      1\n",
       "...                     ...        ...      ...    ...\n",
       "2016-12-31 19:00:00      20         19        5     12\n",
       "2016-12-31 20:00:00      13         20        5     12\n",
       "2016-12-31 21:00:00      22         21        5     12\n",
       "2016-12-31 22:00:00       6         22        5     12\n",
       "2016-12-31 23:00:00       6         23        5     12\n",
       "\n",
       "[8784 rows x 4 columns]"
      ]
     },
     "execution_count": 54,
     "metadata": {},
     "output_type": "execute_result"
    }
   ],
   "source": [
    "pred_model_counts.index.names = ['daytime']\n",
    "pred_model_counts.index = pd.to_datetime(pred_model_counts.index)\n",
    "pred_model_counts"
   ]
  },
  {
   "cell_type": "markdown",
   "id": "8b0d51f4-669b-4f24-9fba-1baaf3fe88f0",
   "metadata": {},
   "source": [
    "## Import weather and merge with pred_model_counts"
   ]
  },
  {
   "cell_type": "code",
   "execution_count": 55,
   "id": "f02ef335-6c42-49d5-a535-e416213aeb05",
   "metadata": {
    "tags": []
   },
   "outputs": [
    {
     "data": {
      "text/html": [
       "<div>\n",
       "<style scoped>\n",
       "    .dataframe tbody tr th:only-of-type {\n",
       "        vertical-align: middle;\n",
       "    }\n",
       "\n",
       "    .dataframe tbody tr th {\n",
       "        vertical-align: top;\n",
       "    }\n",
       "\n",
       "    .dataframe thead th {\n",
       "        text-align: right;\n",
       "    }\n",
       "</style>\n",
       "<table border=\"1\" class=\"dataframe\">\n",
       "  <thead>\n",
       "    <tr style=\"text-align: right;\">\n",
       "      <th></th>\n",
       "      <th>Unnamed: 0</th>\n",
       "      <th>max_temp</th>\n",
       "      <th>min_temp</th>\n",
       "      <th>precip</th>\n",
       "      <th>interp_maxtemp</th>\n",
       "      <th>interp_mintemp</th>\n",
       "      <th>interp_precip</th>\n",
       "      <th>update_maxtemp</th>\n",
       "      <th>update_mintemp</th>\n",
       "      <th>update_precip</th>\n",
       "    </tr>\n",
       "  </thead>\n",
       "  <tbody>\n",
       "    <tr>\n",
       "      <th>0</th>\n",
       "      <td>2015-01-01 06:00:00</td>\n",
       "      <td>-5.6</td>\n",
       "      <td>-5.6</td>\n",
       "      <td>0.0</td>\n",
       "      <td>-5.6</td>\n",
       "      <td>-5.6</td>\n",
       "      <td>0.0</td>\n",
       "      <td>-5.6</td>\n",
       "      <td>-5.6</td>\n",
       "      <td>0.0</td>\n",
       "    </tr>\n",
       "    <tr>\n",
       "      <th>1</th>\n",
       "      <td>2015-01-01 07:00:00</td>\n",
       "      <td>-5.6</td>\n",
       "      <td>-5.6</td>\n",
       "      <td>0.0</td>\n",
       "      <td>-5.6</td>\n",
       "      <td>-5.6</td>\n",
       "      <td>0.0</td>\n",
       "      <td>-5.6</td>\n",
       "      <td>-5.6</td>\n",
       "      <td>0.0</td>\n",
       "    </tr>\n",
       "    <tr>\n",
       "      <th>2</th>\n",
       "      <td>2015-01-01 08:00:00</td>\n",
       "      <td>-5.6</td>\n",
       "      <td>-5.6</td>\n",
       "      <td>0.0</td>\n",
       "      <td>-5.6</td>\n",
       "      <td>-5.6</td>\n",
       "      <td>0.0</td>\n",
       "      <td>-5.6</td>\n",
       "      <td>-5.6</td>\n",
       "      <td>0.0</td>\n",
       "    </tr>\n",
       "    <tr>\n",
       "      <th>3</th>\n",
       "      <td>2015-01-01 09:00:00</td>\n",
       "      <td>-4.4</td>\n",
       "      <td>-4.4</td>\n",
       "      <td>0.0</td>\n",
       "      <td>-4.4</td>\n",
       "      <td>-4.4</td>\n",
       "      <td>0.0</td>\n",
       "      <td>-4.4</td>\n",
       "      <td>-4.4</td>\n",
       "      <td>0.0</td>\n",
       "    </tr>\n",
       "    <tr>\n",
       "      <th>4</th>\n",
       "      <td>2015-01-01 10:00:00</td>\n",
       "      <td>-5.6</td>\n",
       "      <td>-5.6</td>\n",
       "      <td>0.0</td>\n",
       "      <td>-5.6</td>\n",
       "      <td>-5.6</td>\n",
       "      <td>0.0</td>\n",
       "      <td>-5.6</td>\n",
       "      <td>-5.6</td>\n",
       "      <td>0.0</td>\n",
       "    </tr>\n",
       "  </tbody>\n",
       "</table>\n",
       "</div>"
      ],
      "text/plain": [
       "            Unnamed: 0  max_temp  min_temp  precip  interp_maxtemp  \\\n",
       "0  2015-01-01 06:00:00      -5.6      -5.6     0.0            -5.6   \n",
       "1  2015-01-01 07:00:00      -5.6      -5.6     0.0            -5.6   \n",
       "2  2015-01-01 08:00:00      -5.6      -5.6     0.0            -5.6   \n",
       "3  2015-01-01 09:00:00      -4.4      -4.4     0.0            -4.4   \n",
       "4  2015-01-01 10:00:00      -5.6      -5.6     0.0            -5.6   \n",
       "\n",
       "   interp_mintemp  interp_precip  update_maxtemp  update_mintemp  \\\n",
       "0            -5.6            0.0            -5.6            -5.6   \n",
       "1            -5.6            0.0            -5.6            -5.6   \n",
       "2            -5.6            0.0            -5.6            -5.6   \n",
       "3            -4.4            0.0            -4.4            -4.4   \n",
       "4            -5.6            0.0            -5.6            -5.6   \n",
       "\n",
       "   update_precip  \n",
       "0            0.0  \n",
       "1            0.0  \n",
       "2            0.0  \n",
       "3            0.0  \n",
       "4            0.0  "
      ]
     },
     "execution_count": 55,
     "metadata": {},
     "output_type": "execute_result"
    }
   ],
   "source": [
    "weather_hourly = pd.read_csv('weather_hourly.csv')\n",
    "weather_hourly.head()"
   ]
  },
  {
   "cell_type": "code",
   "execution_count": 56,
   "id": "82d91869-fcb6-4432-8438-065dd31c24be",
   "metadata": {
    "tags": []
   },
   "outputs": [
    {
     "data": {
      "text/html": [
       "<div>\n",
       "<style scoped>\n",
       "    .dataframe tbody tr th:only-of-type {\n",
       "        vertical-align: middle;\n",
       "    }\n",
       "\n",
       "    .dataframe tbody tr th {\n",
       "        vertical-align: top;\n",
       "    }\n",
       "\n",
       "    .dataframe thead th {\n",
       "        text-align: right;\n",
       "    }\n",
       "</style>\n",
       "<table border=\"1\" class=\"dataframe\">\n",
       "  <thead>\n",
       "    <tr style=\"text-align: right;\">\n",
       "      <th></th>\n",
       "      <th>update_precip</th>\n",
       "      <th>temp_av</th>\n",
       "    </tr>\n",
       "    <tr>\n",
       "      <th>daytime</th>\n",
       "      <th></th>\n",
       "      <th></th>\n",
       "    </tr>\n",
       "  </thead>\n",
       "  <tbody>\n",
       "    <tr>\n",
       "      <th>2015-01-01 06:00:00</th>\n",
       "      <td>0.0</td>\n",
       "      <td>-5.6</td>\n",
       "    </tr>\n",
       "    <tr>\n",
       "      <th>2015-01-01 07:00:00</th>\n",
       "      <td>0.0</td>\n",
       "      <td>-5.6</td>\n",
       "    </tr>\n",
       "    <tr>\n",
       "      <th>2015-01-01 08:00:00</th>\n",
       "      <td>0.0</td>\n",
       "      <td>-5.6</td>\n",
       "    </tr>\n",
       "    <tr>\n",
       "      <th>2015-01-01 09:00:00</th>\n",
       "      <td>0.0</td>\n",
       "      <td>-4.4</td>\n",
       "    </tr>\n",
       "    <tr>\n",
       "      <th>2015-01-01 10:00:00</th>\n",
       "      <td>0.0</td>\n",
       "      <td>-5.6</td>\n",
       "    </tr>\n",
       "    <tr>\n",
       "      <th>...</th>\n",
       "      <td>...</td>\n",
       "      <td>...</td>\n",
       "    </tr>\n",
       "    <tr>\n",
       "      <th>2020-01-02 01:00:00</th>\n",
       "      <td>0.0</td>\n",
       "      <td>3.3</td>\n",
       "    </tr>\n",
       "    <tr>\n",
       "      <th>2020-01-02 02:00:00</th>\n",
       "      <td>0.0</td>\n",
       "      <td>3.3</td>\n",
       "    </tr>\n",
       "    <tr>\n",
       "      <th>2020-01-02 03:00:00</th>\n",
       "      <td>0.0</td>\n",
       "      <td>2.8</td>\n",
       "    </tr>\n",
       "    <tr>\n",
       "      <th>2020-01-02 04:00:00</th>\n",
       "      <td>0.0</td>\n",
       "      <td>2.8</td>\n",
       "    </tr>\n",
       "    <tr>\n",
       "      <th>2020-01-02 05:00:00</th>\n",
       "      <td>0.0</td>\n",
       "      <td>2.2</td>\n",
       "    </tr>\n",
       "  </tbody>\n",
       "</table>\n",
       "<p>43848 rows × 2 columns</p>\n",
       "</div>"
      ],
      "text/plain": [
       "                     update_precip  temp_av\n",
       "daytime                                    \n",
       "2015-01-01 06:00:00            0.0     -5.6\n",
       "2015-01-01 07:00:00            0.0     -5.6\n",
       "2015-01-01 08:00:00            0.0     -5.6\n",
       "2015-01-01 09:00:00            0.0     -4.4\n",
       "2015-01-01 10:00:00            0.0     -5.6\n",
       "...                            ...      ...\n",
       "2020-01-02 01:00:00            0.0      3.3\n",
       "2020-01-02 02:00:00            0.0      3.3\n",
       "2020-01-02 03:00:00            0.0      2.8\n",
       "2020-01-02 04:00:00            0.0      2.8\n",
       "2020-01-02 05:00:00            0.0      2.2\n",
       "\n",
       "[43848 rows x 2 columns]"
      ]
     },
     "execution_count": 56,
     "metadata": {},
     "output_type": "execute_result"
    }
   ],
   "source": [
    "weatherhour = weather_hourly.drop(columns = ['max_temp','min_temp','precip','interp_maxtemp','interp_mintemp','interp_precip'])\n",
    "weatherhour['temp_av'] = (weatherhour['update_maxtemp'] + weatherhour['update_mintemp']) / 2\n",
    "weatherhour = weatherhour.drop(columns = ['update_mintemp', 'update_maxtemp'])\n",
    "weatherhour = weatherhour.set_index('Unnamed: 0')\n",
    "weatherhour.index.names = ['daytime']\n",
    "weatherhour.index = pd.to_datetime(weatherhour.index)\n",
    "weatherhour"
   ]
  },
  {
   "cell_type": "code",
   "execution_count": 57,
   "id": "e700855d",
   "metadata": {
    "scrolled": true
   },
   "outputs": [
    {
     "name": "stdout",
     "output_type": "stream",
     "text": [
      "<class 'pandas.core.frame.DataFrame'>\n",
      "DatetimeIndex: 43848 entries, 2015-01-01 06:00:00 to 2020-01-02 05:00:00\n",
      "Data columns (total 2 columns):\n",
      " #   Column         Non-Null Count  Dtype  \n",
      "---  ------         --------------  -----  \n",
      " 0   update_precip  43848 non-null  float64\n",
      " 1   temp_av        43848 non-null  float64\n",
      "dtypes: float64(2)\n",
      "memory usage: 1.0 MB\n"
     ]
    }
   ],
   "source": [
    "weatherhour.info()"
   ]
  },
  {
   "cell_type": "code",
   "execution_count": 58,
   "id": "0b278777-0e5b-4ba1-8ef8-fdebda95c0b5",
   "metadata": {},
   "outputs": [
    {
     "data": {
      "text/html": [
       "<div>\n",
       "<style scoped>\n",
       "    .dataframe tbody tr th:only-of-type {\n",
       "        vertical-align: middle;\n",
       "    }\n",
       "\n",
       "    .dataframe tbody tr th {\n",
       "        vertical-align: top;\n",
       "    }\n",
       "\n",
       "    .dataframe thead th {\n",
       "        text-align: right;\n",
       "    }\n",
       "</style>\n",
       "<table border=\"1\" class=\"dataframe\">\n",
       "  <thead>\n",
       "    <tr style=\"text-align: right;\">\n",
       "      <th></th>\n",
       "      <th>update_precip</th>\n",
       "      <th>temp_av</th>\n",
       "    </tr>\n",
       "    <tr>\n",
       "      <th>daytime</th>\n",
       "      <th></th>\n",
       "      <th></th>\n",
       "    </tr>\n",
       "  </thead>\n",
       "  <tbody>\n",
       "    <tr>\n",
       "      <th>2016-01-01 00:00:00</th>\n",
       "      <td>0.0</td>\n",
       "      <td>5.6</td>\n",
       "    </tr>\n",
       "    <tr>\n",
       "      <th>2016-01-01 01:00:00</th>\n",
       "      <td>0.0</td>\n",
       "      <td>5.0</td>\n",
       "    </tr>\n",
       "    <tr>\n",
       "      <th>2016-01-01 02:00:00</th>\n",
       "      <td>0.0</td>\n",
       "      <td>5.0</td>\n",
       "    </tr>\n",
       "    <tr>\n",
       "      <th>2016-01-01 03:00:00</th>\n",
       "      <td>0.0</td>\n",
       "      <td>4.4</td>\n",
       "    </tr>\n",
       "    <tr>\n",
       "      <th>2016-01-01 04:00:00</th>\n",
       "      <td>0.0</td>\n",
       "      <td>4.4</td>\n",
       "    </tr>\n",
       "    <tr>\n",
       "      <th>...</th>\n",
       "      <td>...</td>\n",
       "      <td>...</td>\n",
       "    </tr>\n",
       "    <tr>\n",
       "      <th>2016-12-31 20:00:00</th>\n",
       "      <td>0.0</td>\n",
       "      <td>1.7</td>\n",
       "    </tr>\n",
       "    <tr>\n",
       "      <th>2016-12-31 21:00:00</th>\n",
       "      <td>0.0</td>\n",
       "      <td>1.7</td>\n",
       "    </tr>\n",
       "    <tr>\n",
       "      <th>2016-12-31 22:00:00</th>\n",
       "      <td>0.0</td>\n",
       "      <td>2.2</td>\n",
       "    </tr>\n",
       "    <tr>\n",
       "      <th>2016-12-31 23:00:00</th>\n",
       "      <td>0.0</td>\n",
       "      <td>3.3</td>\n",
       "    </tr>\n",
       "    <tr>\n",
       "      <th>2017-01-01 00:00:00</th>\n",
       "      <td>0.0</td>\n",
       "      <td>3.9</td>\n",
       "    </tr>\n",
       "  </tbody>\n",
       "</table>\n",
       "<p>8785 rows × 2 columns</p>\n",
       "</div>"
      ],
      "text/plain": [
       "                     update_precip  temp_av\n",
       "daytime                                    \n",
       "2016-01-01 00:00:00            0.0      5.6\n",
       "2016-01-01 01:00:00            0.0      5.0\n",
       "2016-01-01 02:00:00            0.0      5.0\n",
       "2016-01-01 03:00:00            0.0      4.4\n",
       "2016-01-01 04:00:00            0.0      4.4\n",
       "...                            ...      ...\n",
       "2016-12-31 20:00:00            0.0      1.7\n",
       "2016-12-31 21:00:00            0.0      1.7\n",
       "2016-12-31 22:00:00            0.0      2.2\n",
       "2016-12-31 23:00:00            0.0      3.3\n",
       "2017-01-01 00:00:00            0.0      3.9\n",
       "\n",
       "[8785 rows x 2 columns]"
      ]
     },
     "execution_count": 58,
     "metadata": {},
     "output_type": "execute_result"
    }
   ],
   "source": [
    "weatherhour = weatherhour.loc['2016-01-01 00:00:00' : '2017-01-01 00:00:00']\n",
    "weatherhour"
   ]
  },
  {
   "cell_type": "code",
   "execution_count": 59,
   "id": "0f973205-b461-4fba-8017-8a4693ab5346",
   "metadata": {},
   "outputs": [
    {
     "data": {
      "text/html": [
       "<div>\n",
       "<style scoped>\n",
       "    .dataframe tbody tr th:only-of-type {\n",
       "        vertical-align: middle;\n",
       "    }\n",
       "\n",
       "    .dataframe tbody tr th {\n",
       "        vertical-align: top;\n",
       "    }\n",
       "\n",
       "    .dataframe thead th {\n",
       "        text-align: right;\n",
       "    }\n",
       "</style>\n",
       "<table border=\"1\" class=\"dataframe\">\n",
       "  <thead>\n",
       "    <tr style=\"text-align: right;\">\n",
       "      <th></th>\n",
       "      <th>counts</th>\n",
       "      <th>hourofday</th>\n",
       "      <th>weekday</th>\n",
       "      <th>month</th>\n",
       "      <th>update_precip</th>\n",
       "      <th>temp_av</th>\n",
       "    </tr>\n",
       "    <tr>\n",
       "      <th>daytime</th>\n",
       "      <th></th>\n",
       "      <th></th>\n",
       "      <th></th>\n",
       "      <th></th>\n",
       "      <th></th>\n",
       "      <th></th>\n",
       "    </tr>\n",
       "  </thead>\n",
       "  <tbody>\n",
       "    <tr>\n",
       "      <th>2016-01-01 00:00:00</th>\n",
       "      <td>13</td>\n",
       "      <td>0</td>\n",
       "      <td>4</td>\n",
       "      <td>1</td>\n",
       "      <td>0.0</td>\n",
       "      <td>5.6</td>\n",
       "    </tr>\n",
       "    <tr>\n",
       "      <th>2016-01-01 01:00:00</th>\n",
       "      <td>14</td>\n",
       "      <td>1</td>\n",
       "      <td>4</td>\n",
       "      <td>1</td>\n",
       "      <td>0.0</td>\n",
       "      <td>5.0</td>\n",
       "    </tr>\n",
       "    <tr>\n",
       "      <th>2016-01-01 02:00:00</th>\n",
       "      <td>9</td>\n",
       "      <td>2</td>\n",
       "      <td>4</td>\n",
       "      <td>1</td>\n",
       "      <td>0.0</td>\n",
       "      <td>5.0</td>\n",
       "    </tr>\n",
       "    <tr>\n",
       "      <th>2016-01-01 03:00:00</th>\n",
       "      <td>1</td>\n",
       "      <td>3</td>\n",
       "      <td>4</td>\n",
       "      <td>1</td>\n",
       "      <td>0.0</td>\n",
       "      <td>4.4</td>\n",
       "    </tr>\n",
       "    <tr>\n",
       "      <th>2016-01-01 04:00:00</th>\n",
       "      <td>0</td>\n",
       "      <td>4</td>\n",
       "      <td>4</td>\n",
       "      <td>1</td>\n",
       "      <td>0.0</td>\n",
       "      <td>4.4</td>\n",
       "    </tr>\n",
       "    <tr>\n",
       "      <th>...</th>\n",
       "      <td>...</td>\n",
       "      <td>...</td>\n",
       "      <td>...</td>\n",
       "      <td>...</td>\n",
       "      <td>...</td>\n",
       "      <td>...</td>\n",
       "    </tr>\n",
       "    <tr>\n",
       "      <th>2016-12-31 19:00:00</th>\n",
       "      <td>20</td>\n",
       "      <td>19</td>\n",
       "      <td>5</td>\n",
       "      <td>12</td>\n",
       "      <td>0.0</td>\n",
       "      <td>1.7</td>\n",
       "    </tr>\n",
       "    <tr>\n",
       "      <th>2016-12-31 20:00:00</th>\n",
       "      <td>13</td>\n",
       "      <td>20</td>\n",
       "      <td>5</td>\n",
       "      <td>12</td>\n",
       "      <td>0.0</td>\n",
       "      <td>1.7</td>\n",
       "    </tr>\n",
       "    <tr>\n",
       "      <th>2016-12-31 21:00:00</th>\n",
       "      <td>22</td>\n",
       "      <td>21</td>\n",
       "      <td>5</td>\n",
       "      <td>12</td>\n",
       "      <td>0.0</td>\n",
       "      <td>1.7</td>\n",
       "    </tr>\n",
       "    <tr>\n",
       "      <th>2016-12-31 22:00:00</th>\n",
       "      <td>6</td>\n",
       "      <td>22</td>\n",
       "      <td>5</td>\n",
       "      <td>12</td>\n",
       "      <td>0.0</td>\n",
       "      <td>2.2</td>\n",
       "    </tr>\n",
       "    <tr>\n",
       "      <th>2016-12-31 23:00:00</th>\n",
       "      <td>6</td>\n",
       "      <td>23</td>\n",
       "      <td>5</td>\n",
       "      <td>12</td>\n",
       "      <td>0.0</td>\n",
       "      <td>3.3</td>\n",
       "    </tr>\n",
       "  </tbody>\n",
       "</table>\n",
       "<p>8784 rows × 6 columns</p>\n",
       "</div>"
      ],
      "text/plain": [
       "                     counts  hourofday  weekday  month  update_precip  temp_av\n",
       "daytime                                                                       \n",
       "2016-01-01 00:00:00      13          0        4      1            0.0      5.6\n",
       "2016-01-01 01:00:00      14          1        4      1            0.0      5.0\n",
       "2016-01-01 02:00:00       9          2        4      1            0.0      5.0\n",
       "2016-01-01 03:00:00       1          3        4      1            0.0      4.4\n",
       "2016-01-01 04:00:00       0          4        4      1            0.0      4.4\n",
       "...                     ...        ...      ...    ...            ...      ...\n",
       "2016-12-31 19:00:00      20         19        5     12            0.0      1.7\n",
       "2016-12-31 20:00:00      13         20        5     12            0.0      1.7\n",
       "2016-12-31 21:00:00      22         21        5     12            0.0      1.7\n",
       "2016-12-31 22:00:00       6         22        5     12            0.0      2.2\n",
       "2016-12-31 23:00:00       6         23        5     12            0.0      3.3\n",
       "\n",
       "[8784 rows x 6 columns]"
      ]
     },
     "execution_count": 59,
     "metadata": {},
     "output_type": "execute_result"
    }
   ],
   "source": [
    "pred_model_joint = pred_model_counts.join(weatherhour, how=\"left\")\n",
    "pred_model_joint"
   ]
  },
  {
   "cell_type": "markdown",
   "id": "4bd21f43-7eb5-46ce-9cb5-af57740b280f",
   "metadata": {},
   "source": [
    "To Do\n",
    "- Bike data indexieren\n",
    "- bereinigen\n",
    "- groupby.dt.hour.size()\n",
    "- mergen\n",
    "- Holdout/Training Split"
   ]
  },
  {
   "cell_type": "markdown",
   "id": "76ba51d5-ce8d-4fe3-82df-5aa523ce702c",
   "metadata": {},
   "source": [
    "Variables\n",
    "\n",
    "- Time of the day in hours \n",
    "- Month\n",
    "- Weekday (0-6)\n",
    "- Temperature (average of min and max temp cause very similar)\n",
    "- Precipitation (0,1)"
   ]
  },
  {
   "cell_type": "markdown",
   "id": "ef590316-d4bd-4c46-bc1a-8a86436ac8e8",
   "metadata": {},
   "source": [
    "Models\n",
    "\n",
    "- Polynomial (lasso/...)\n",
    "- Random Forest\n",
    "- Neural Networks"
   ]
  },
  {
   "cell_type": "code",
   "execution_count": 84,
   "id": "1f4d6297-ec11-40f1-b7cf-7f9260c94153",
   "metadata": {},
   "outputs": [],
   "source": [
    "from sklearn.model_selection import train_test_split\n",
    "\n",
    "# Extract the relevant features from the dataset\n",
    "X = pred_model_joint[['hourofday', 'weekday', 'month', 'update_precip', 'temp_av']]\n",
    "y = pred_model_joint['counts']\n",
    "\n",
    "# split the data into training and test sets\n",
    "X_train, X_test, y_train, y_test = train_test_split(X, y, test_size=0.2, random_state=42)"
   ]
  },
  {
   "cell_type": "code",
   "execution_count": 85,
   "id": "994a9cab-ab4f-4e6a-9d49-8352b513a928",
   "metadata": {},
   "outputs": [
    {
     "data": {
      "image/png": "[encoded data removed]",
      "text/plain": [
       "<Figure size 720x360 with 1 Axes>"
      ]
     },
     "metadata": {
      "needs_background": "light"
     },
     "output_type": "display_data"
    }
   ],
   "source": [
    "# Plot the distribution of the target variable in the training and holdout sets\n",
    "plt.figure(figsize=(10, 5))\n",
    "plt.hist(y_train, bins=50, alpha=0.5, label='Training')\n",
    "plt.hist(y_test, bins=50, alpha=0.5, label='Holdout')\n",
    "plt.xlabel('Number of Rentals')\n",
    "plt.ylabel('Frequency')\n",
    "plt.legend()\n",
    "plt.show()"
   ]
  },
  {
   "cell_type": "markdown",
   "id": "9cc4644c-af8a-42e2-a0f4-e8436020a637",
   "metadata": {},
   "source": [
    "**Random Forest**"
   ]
  },
  {
   "cell_type": "code",
   "execution_count": 90,
   "id": "df926fbc-caa6-40a4-a96f-9175822bff0d",
   "metadata": {},
   "outputs": [
    {
     "name": "stdout",
     "output_type": "stream",
     "text": [
      "Best parameters found:  {'bootstrap': True, 'ccp_alpha': 0.0, 'criterion': 'mse', 'max_depth': None, 'max_features': 'sqrt', 'max_leaf_nodes': None, 'max_samples': None, 'min_impurity_decrease': 0.0, 'min_impurity_split': None, 'min_samples_leaf': 1, 'min_samples_split': 2, 'min_weight_fraction_leaf': 0.0, 'n_estimators': 100, 'n_jobs': None, 'oob_score': False, 'random_state': 42, 'verbose': 0, 'warm_start': False}\n"
     ]
    }
   ],
   "source": [
    "from sklearn.ensemble import RandomForestRegressor\n",
    "from sklearn.model_selection import RandomizedSearchCV\n",
    "from sklearn.metrics import mean_squared_error\n",
    "from sklearn.metrics import mean_absolute_error, r2_score\n",
    "\n",
    "# Define the parameter grid for the Random Forest model\n",
    "param_grid = {\n",
    "    'n_estimators': [50, 100, 200, 500],\n",
    "    'max_depth': [2, 5, 10, 20, None],\n",
    "    'min_samples_split': [2, 5, 10],\n",
    "    'min_samples_leaf': [1, 2, 4],\n",
    "    'max_features': ['auto', 'sqrt', 'log2']\n",
    "}\n",
    "\n",
    "# Create a Random Forest model\n",
    "rf_model = RandomForestRegressor(random_state=42)\n",
    "\n",
    "# Use RandomizedSearchCV to perform hyperparameter tuning\n",
    "random_search = RandomizedSearchCV(estimator=rf_model, param_distributions=param_grid, n_iter=10, cv=5, n_jobs=-1, random_state=42)\n",
    "\n",
    "# Fit the RandomizedSearchCV object to the training data\n",
    "random_search.fit(X_train, y_train)\n",
    "\n",
    "# Print the best parameters from the search\n",
    "best_params = random_search.best_estimator_.get_params()\n",
    "print(\"Best parameters found: \",best_params)"
   ]
  },
  {
   "cell_type": "code",
   "execution_count": 91,
   "id": "42c69396-2e02-4777-8136-3189cdb169a8",
   "metadata": {},
   "outputs": [
    {
     "name": "stdout",
     "output_type": "stream",
     "text": [
      "Mean Squared Error:  2147.7500762154123\n",
      "Mean Absolute Error:  26.23946473968073\n",
      "R-squared:  0.9283358632489239\n"
     ]
    }
   ],
   "source": [
    "# Use the best parameters to create a new model\n",
    "best_rf_model = RandomForestRegressor(random_state=42, **random_search.best_params_)\n",
    "\n",
    "# Fit the new model to the training data\n",
    "best_rf_model.fit(X_train, y_train)\n",
    "\n",
    "# Make predictions on the holdout set\n",
    "y_pred = best_rf_model.predict(X_test)\n",
    "\n",
    "# Evaluate the new model's performance on the holdout set\n",
    "mse = mean_squared_error(y_test, y_pred)\n",
    "mae = mean_absolute_error(y_test, y_pred)\n",
    "r2 = r2_score(y_test, y_pred)\n",
    "print(\"Mean Squared Error: \", mse)\n",
    "print(\"Mean Absolute Error: \", mae)\n",
    "print(\"R-squared: \", r2)"
   ]
  },
  {
   "cell_type": "code",
   "execution_count": 96,
   "id": "7887af32-ab67-4950-a03a-2e3add8b3f55",
   "metadata": {},
   "outputs": [
    {
     "data": {
      "image/png": "[encoded data removed]",
      "text/plain": [
       "<Figure size 432x288 with 1 Axes>"
      ]
     },
     "metadata": {
      "needs_background": "light"
     },
     "output_type": "display_data"
    },
    {
     "data": {
      "image/png": "[encoded data removed]",
      "text/plain": [
       "<Figure size 720x432 with 1 Axes>"
      ]
     },
     "metadata": {
      "needs_background": "light"
     },
     "output_type": "display_data"
    },
    {
     "data": {
      "image/png": "[encoded data removed]",
      "text/plain": [
       "<Figure size 432x288 with 1 Axes>"
      ]
     },
     "metadata": {
      "needs_background": "light"
     },
     "output_type": "display_data"
    }
   ],
   "source": [
    "# Create an array of colors based on the difference between the predicted and actual values\n",
    "colors = np.abs(y_test - y_pred)\n",
    "\n",
    "# Plot the predicted vs actual values on the holdout set\n",
    "plt.scatter(y_test, y_pred, c=colors)\n",
    "plt.xlabel(\"Actual Values\")\n",
    "plt.ylabel(\"Predicted Values\")\n",
    "plt.title(\"Predicted vs Actual Values\")\n",
    "plt.show()\n",
    "\n",
    "# Plot the distribution of the feature importances\n",
    "importances = best_rf_model.feature_importances_\n",
    "features = X_train.columns\n",
    "indices = np.argsort(importances)\n",
    "plt.figure(figsize=(10,6))\n",
    "plt.barh(range(len(indices)), importances[indices], align='center')\n",
    "plt.yticks(range(len(indices)), [features[i] for i in indices])\n",
    "plt.xlabel('Relative Importance')\n",
    "plt.title('Feature Importance')\n",
    "plt.show()\n",
    "\n",
    "# plot the training and validation loss/score during hyperparameter tuning\n",
    "plt.plot(random_search.cv_results_['mean_test_score'], label = 'mean test score')\n",
    "plt.xlabel('Iterations')\n",
    "plt.ylabel('Score')\n",
    "plt.title('Training and validation loss/score during hyperparameter tuning')\n",
    "plt.legend()\n",
    "plt.show()"
   ]
  }
 ],
 "metadata": {
  "kernelspec": {
   "display_name": "Python 3 (ipykernel)",
   "language": "python",
   "name": "python3"
  },
  "language_info": {
   "codemirror_mode": {
    "name": "ipython",
    "version": 3
   },
   "file_extension": ".py",
   "mimetype": "text/x-python",
   "name": "python",
   "nbconvert_exporter": "python",
   "pygments_lexer": "ipython3",
   "version": "3.9.7"
  },
  "vp": {
   "vp_config_version": "1.0.0",
   "vp_menu_width": 273,
   "vp_note_display": false,
   "vp_note_width": 0,
   "vp_position": {
    "width": 278
   },
   "vp_section_display": false,
   "vp_signature": "VisualPython"
  }
 },
 "nbformat": 4,
 "nbformat_minor": 5
}
